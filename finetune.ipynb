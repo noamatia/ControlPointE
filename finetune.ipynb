{
  "cells": [
    {
      "cell_type": "code",
      "execution_count": 18,
      "metadata": {},
      "outputs": [
        {
          "name": "stdout",
          "output_type": "stream",
          "text": [
            "\n",
            "\n",
            "garden chair\n",
            "Target chair is smaller and lower to the ground.\n",
            "\n",
            "\n",
            "lounge\n",
            "The target chair is part of a row of waiting chairs.\n",
            "\n",
            "\n",
            "chair\n",
            "The target has fewer spindles than the distractor.\n",
            "\n",
            "\n",
            "chair\n",
            "It is shorter\n",
            "\n",
            "\n",
            "side chair\n",
            "It has spindles\n",
            "\n",
            "\n",
            "chair\n",
            "The target chairs' back has a large trapezoid cutout.\n",
            "\n",
            "\n",
            "chair\n",
            "The target chair is made of wire.\n",
            "\n",
            "\n",
            "straight chair\n",
            "It has a pillow on it\n",
            "\n",
            "\n",
            "armchair\n",
            "the back legs are a flat piece\n",
            "\n",
            "\n",
            "chair\n",
            "It has a top rail.\n",
            "\n",
            "\n",
            "side chair\n",
            "the seat is thicker\n",
            "\n",
            "\n",
            "chair\n",
            "The chair legs are narrower\n",
            "\n",
            "\n",
            "armchair\n",
            "The target chair has shorter legs.\n",
            "\n",
            "\n",
            "chair\n",
            "The target has shorter legs.\n",
            "\n",
            "\n",
            "chair\n",
            "The back rest is longer and higher.\n",
            "\n",
            "\n",
            "chair\n",
            "It has two legs.\n",
            "\n",
            "\n",
            "chaise\n",
            "The target is foldable.\n",
            "\n",
            "\n",
            "armchair\n",
            "Its seat surface is much thinner.\n",
            "\n",
            "\n",
            "chair\n",
            "It does not have roller wheels.\n",
            "\n",
            "\n",
            "chair\n",
            "The target chair has no seat cushion.\n",
            "\n",
            "\n",
            "chair\n",
            "the legs are short\n",
            "\n",
            "\n",
            "chair\n",
            "Target chair is longer and slimmer.\n",
            "\n",
            "\n",
            "straight chair\n",
            "it is not a lounge chair\n",
            "\n",
            "\n",
            "chair\n",
            "The seat sits more level\n",
            "\n",
            "\n",
            "chair\n",
            "The seat is more conformed to the body\n",
            "\n",
            "\n",
            "armchair\n",
            "The target has four slightly rectangular legs.\n",
            "\n",
            "\n",
            "side chair\n",
            "The target chair legs have many ornate baluster turnings.\n",
            "\n",
            "\n",
            "armchair\n",
            "Target chair has a back that's pointed.\n",
            "\n",
            "\n",
            "side chair\n",
            "The chair has no arms.\n",
            "\n",
            "\n",
            "chair\n",
            "The back rest has an additional piece on it\n",
            "\n",
            "\n",
            "easy chair\n",
            "The legs do not curve at the bottom\n",
            "\n",
            "\n",
            "chair\n",
            "The chair is like a half circle\n",
            "\n",
            "\n",
            "lawn chair\n",
            "The target has no leg spindles.\n",
            "\n",
            "\n",
            "club chair\n",
            "The target's back cushion resembles a \"T\".\n",
            "\n",
            "\n",
            "swivel chair\n",
            "the legs are thin and long\n",
            "\n",
            "\n",
            "chair\n",
            "Target chair has a rounded back.\n",
            "\n",
            "\n",
            "side chair\n",
            "Target chair has a designed back\n",
            "\n",
            "\n",
            "side chair\n",
            "The seat is very arty and modern\n",
            "\n",
            "\n",
            "chair\n",
            "It has four fully attached legs.\n",
            "\n",
            "\n",
            "chair\n",
            "It has a curved back\n",
            "\n",
            "\n",
            "club chair\n",
            "The legs are significantly shorter\n",
            "\n",
            "\n",
            "chair\n",
            "it has two, thin legs\n",
            "\n",
            "\n",
            "chair\n",
            "The headrest is shorter\n",
            "\n",
            "\n",
            "side chair\n",
            "The backrest seems less ornate\n",
            "\n",
            "\n",
            "chair\n",
            "The backrest is flat\n",
            "\n",
            "\n",
            "armchair\n",
            "The target's seat is closer to the ground.\n",
            "\n",
            "\n",
            "club chair\n",
            "The chair has two arms with round tops\n",
            "\n",
            "\n",
            "Windsor chair\n",
            "The target has more vertical spindles\n",
            "\n",
            "\n",
            "chair\n",
            "The chair has no arms\n",
            "\n",
            "\n",
            "chair\n",
            "it is a bar stool\n",
            "\n",
            "\n",
            "armchair\n",
            "The target has four separate legs.\n",
            "\n",
            "\n",
            "club chair\n",
            "It is a ball chair\n",
            "\n",
            "\n",
            "chair\n",
            "The target's legs are bend at an angle.\n",
            "\n",
            "\n",
            "chair\n",
            "It does not have wheels\n",
            "\n",
            "\n",
            "club chair\n",
            "There is a back cushion\n",
            "\n",
            "\n",
            "chair\n",
            "Single rail with cushion\n",
            "\n",
            "\n",
            "chair\n",
            "It is a single seat\n",
            "\n",
            "\n",
            "armchair\n",
            "It has four legs\n",
            "\n",
            "\n",
            "chair\n",
            "The target is a similar shape and style to a sofa.\n",
            "\n",
            "\n",
            "straight chair\n",
            "It has four legs\n",
            "\n",
            "\n",
            "armchair\n",
            "The target does not look like a desk chair\n",
            "\n",
            "\n",
            "club chair\n",
            "The seat is lower\n",
            "\n",
            "\n",
            "chair\n",
            "the legs looks thinner\n",
            "\n",
            "\n",
            "armchair\n",
            "There are curved legs that look like arches.\n",
            "\n",
            "\n",
            "armchair\n",
            "The back is rounder\n",
            "\n",
            "\n",
            "side chair\n",
            "The target chair has a very thick circular seat.\n",
            "\n",
            "\n",
            "lawn chair\n",
            "It has arms\n",
            "\n",
            "\n",
            "chair\n",
            "It has a ring shaped base\n",
            "\n",
            "\n",
            "chair\n",
            "The target is a bench.\n",
            "\n",
            "\n",
            "straight chair\n",
            "The target has 5 slots between the spindles instead of 3\n",
            "\n",
            "\n",
            "easy chair\n",
            "The target has high side arms\n",
            "\n",
            "\n",
            "side chair\n",
            "Target chair back is curved.\n",
            "\n",
            "\n",
            "chair\n",
            "It looks less comfortable\n",
            "\n",
            "\n",
            "straight chair\n",
            "the chair does not have tapered legs.\n",
            "\n",
            "\n",
            "armchair\n",
            "it has arms\n",
            "\n",
            "\n",
            "rocking chair\n",
            "The chair glides, rather than stands stationary.\n",
            "\n",
            "\n",
            "straight chair\n",
            "The seat is square and bigger.\n",
            "\n",
            "\n",
            "chair\n",
            "The chair has 4 rectangular legs\n",
            "\n",
            "\n",
            "armchair\n",
            "The chair is a office chair\n",
            "\n",
            "\n",
            "straight chair\n",
            "The legs are closer\n",
            "\n",
            "\n",
            "straight chair\n",
            "The legs are thicker\n",
            "\n",
            "\n",
            "chair\n",
            "It is an office chair.\n",
            "\n",
            "\n",
            "straight chair\n",
            "Target chair is thinner and more compact.\n",
            "\n",
            "\n",
            "club chair\n",
            "The target has no square cushion on the back\n",
            "\n",
            "\n",
            "chair\n",
            "The back is curved at the top\n",
            "\n",
            "\n",
            "chair\n",
            "There are triangular patterns on the back\n",
            "\n",
            "\n",
            "club chair\n",
            "The target is bulkier\n",
            "\n",
            "\n",
            "armchair\n",
            "It looks very uncomfortable\n",
            "\n",
            "\n",
            "chair\n",
            "It has two legs\n",
            "\n",
            "\n",
            "Windsor chair\n",
            "The target is on four legs.\n",
            "\n",
            "\n",
            "chair\n",
            "This appears to be a comparison between a chair and a geometrical table, but it could also be a stool.\n",
            "\n",
            "\n",
            "armchair\n",
            "Target chair has square back.\n",
            "\n",
            "\n",
            "side chair\n",
            "The chair is narrower.\n",
            "\n",
            "\n",
            "chair\n",
            "It has fewer legs.\n",
            "\n",
            "\n",
            "side chair\n",
            "The target is shorter.\n",
            "\n",
            "\n",
            "chair\n",
            "The legs are curved\n",
            "\n",
            "\n",
            "club chair\n",
            "The target back is not as wide.\n",
            "\n",
            "\n",
            "side chair\n",
            "The back is square, with no extensions on the edge\n",
            "\n",
            "\n",
            "chair\n",
            "The back cushion is smaller\n",
            "\n",
            "\n",
            "straight chair\n",
            "It has a gap between the seat and the backrest\n",
            "\n",
            "\n",
            "easy chair\n",
            "The target is on two legs instead of four.\n",
            "\n",
            "\n",
            "chair\n",
            "The backrest comes to a point\n",
            "\n",
            "\n",
            "overstuffed chair\n",
            "it has a rounded design\n",
            "\n",
            "\n",
            "straight chair\n",
            "the back has a v shape\n",
            "\n",
            "\n",
            "side chair\n",
            "It has wheels on it\n",
            "\n",
            "\n",
            "side chair\n",
            "Target back rest is open.\n",
            "\n",
            "\n",
            "rex chair\n",
            "It looks less comfortable\n",
            "\n",
            "\n",
            "chair\n",
            "Looks like a fork\n",
            "\n",
            "\n",
            "armchair\n",
            "The target has long thin legs.\n",
            "\n",
            "\n",
            "lounge\n",
            "It has 3 seats all together in a row\n",
            "\n",
            "\n",
            "chair\n",
            "The target does not have a headrest cushion.\n",
            "\n",
            "\n",
            "chair\n",
            "The target chair has a rectangular back.\n",
            "\n",
            "\n",
            "lounge chair\n",
            "It has two armrests\n",
            "\n",
            "\n",
            "armchair\n",
            "It is shorter\n",
            "\n",
            "\n",
            "chair\n",
            "There is a large gap in the bottom underneath the seat\n",
            "\n",
            "\n",
            "armchair\n",
            "it has four vertical legs\n",
            "\n",
            "\n",
            "chair\n",
            "It has a solid backrest\n",
            "\n",
            "\n",
            "side chair\n",
            "The target's top back edge is straight/even.\n",
            "\n",
            "\n",
            "chair\n",
            "The lower 2/3 of the back consists of six vertical cylinders\n",
            "\n",
            "\n",
            "deck chair\n",
            "The target has much thicker spindles on that make up the back of the seat\n",
            "\n",
            "\n",
            "rocker\n",
            "The target chair is a rocking chair.\n",
            "\n",
            "\n",
            "chair\n",
            "The target chair is a swivel chair\n",
            "\n",
            "\n",
            "armchair\n",
            "The back is flat, NOT curved\n",
            "\n",
            "\n",
            "straight chair\n",
            "The front and back legs are different shapes\n",
            "\n",
            "\n",
            "straight chair\n",
            "Target chair is thinner.\n",
            "\n",
            "\n",
            "cantilever chair\n",
            "It does not have wheels.\n",
            "\n",
            "\n",
            "straight chair\n",
            "The target chair has a square shaped seat.\n",
            "\n",
            "\n",
            "armchair\n",
            "The material is tufted\n",
            "\n",
            "\n",
            "lounge chair\n",
            "The target has traditional back and front legs\n",
            "\n",
            "\n",
            "chair\n",
            "there is only 1 seat rather than 2\n",
            "\n",
            "\n",
            "swivel chair\n",
            "It has two short arms\n",
            "\n",
            "\n",
            "side chair\n",
            "it has no armrests\n",
            "\n",
            "\n",
            "armchair\n",
            "The target has legs.\n",
            "\n",
            "\n",
            "chair\n",
            "the target has stretcher connecting the legs.\n",
            "\n",
            "\n",
            "straight chair\n",
            "Rear and front legs are thicker by depth and height\n",
            "\n",
            "\n",
            "chair\n",
            "The target's back and seat are one piece.\n",
            "\n",
            "\n",
            "overstuffed chair\n",
            "The target chair doesn't have a matching Ottoman.\n",
            "\n",
            "\n",
            "straight chair\n",
            "Target chair is smaller.\n",
            "\n",
            "\n",
            "armchair\n",
            "Its back is a perfect circle.\n",
            "\n",
            "\n",
            "side chair\n",
            "back is not in reclining position\n",
            "\n",
            "\n",
            "easy chair\n",
            "target has arms\n",
            "\n",
            "\n",
            "armchair\n",
            "there are back legs\n",
            "\n",
            "\n",
            "chair\n",
            "All of the legs are one piece\n",
            "\n",
            "\n",
            "club chair\n",
            "It does not have legs\n",
            "\n",
            "\n",
            "club chair\n",
            "Arms go further off to the side.\n",
            "\n",
            "\n",
            "chaise\n",
            "The arm rests slope down from and are attached to the back rest.\n",
            "\n",
            "\n",
            "armchair\n",
            "It is very thin\n",
            "\n",
            "\n",
            "chair\n",
            "there are no ears on the back\n",
            "\n",
            "\n",
            "chair\n",
            "Target chair back is less curved.\n",
            "\n",
            "\n",
            "chair\n",
            "The target chairs' back legs are angled toward the back.\n",
            "\n",
            "\n",
            "chair\n",
            "It does not have arms.\n",
            "\n",
            "\n",
            "club chair\n",
            "There are no casters\n",
            "\n",
            "\n",
            "swivel chair\n",
            "Target chair has a fan shaped back.\n",
            "\n",
            "\n",
            "chair\n",
            "The target's legs come from the middle of the seat.\n",
            "\n",
            "\n",
            "cantilever chair\n",
            "The target's legs are connected by a bar.\n",
            "\n",
            "\n",
            "straight chair\n",
            "the legs are thinner\n",
            "\n",
            "\n",
            "rocker\n",
            "The target chair is a lounge chair.\n",
            "\n",
            "\n",
            "side chair\n",
            "The chair has three legs, two at the front and one at the back\n",
            "\n",
            "\n",
            "lounge\n",
            "It looks more comfortable\n",
            "\n",
            "\n",
            "side chair\n",
            "It has four legs.\n",
            "\n",
            "\n",
            "armchair\n",
            "It has arms\n",
            "\n",
            "\n",
            "club chair\n",
            "it's larger and more ornate\n",
            "\n",
            "\n",
            "club chair\n",
            "The chair has a foot rest.\n",
            "\n",
            "\n",
            "chair\n",
            "It has thick legs.\n",
            "\n",
            "\n",
            "overstuffed chair\n",
            "The target has no arm rests.\n",
            "\n",
            "\n",
            "armchair\n",
            "The arms are rounded\n",
            "\n",
            "\n",
            "club chair\n",
            "The target does not have distinct legs.\n",
            "\n",
            "\n",
            "chair\n",
            "It is an office chair\n",
            "\n",
            "\n",
            "club chair\n",
            "the armrests and cushions are much smoother\n",
            "\n",
            "\n",
            "swivel chair\n",
            "It is more sunken to conform to the shape of the body\n",
            "\n",
            "\n",
            "straight chair\n",
            "it does not have arms\n",
            "\n",
            "\n",
            "chair\n",
            "Target chair is much smaller.\n",
            "\n",
            "\n",
            "chair\n",
            "Base is thinner on target\n",
            "\n",
            "\n",
            "straight chair\n",
            "The target does not have arms\n",
            "\n",
            "\n",
            "chair\n",
            "It looks uncomfortable, stiff\n",
            "\n",
            "\n",
            "chair\n",
            "The target has a thinner block for the seat.\n",
            "\n",
            "\n",
            "straight chair\n",
            "The target chair has six spindles.\n",
            "\n",
            "\n",
            "straight chair\n",
            "It is shorter in size\n",
            "\n",
            "\n",
            "chair\n",
            "front two legs fused into one\n",
            "\n",
            "\n",
            "side chair\n",
            "Has four round legs.\n",
            "\n",
            "\n",
            "couch\n",
            "Has multiple seats as opposed to just one\n",
            "\n",
            "\n",
            "straight chair\n",
            "The target has thinner legs.\n",
            "\n",
            "\n",
            "armchair\n",
            "The office chair\n",
            "\n",
            "\n",
            "chair\n",
            "It is not modern\n",
            "\n",
            "\n",
            "straight chair\n",
            "The target back has one opening in the middle.\n",
            "\n",
            "\n",
            "chair\n",
            "The target is much more ornate\n",
            "\n",
            "\n",
            "chair\n",
            "It has smaller height\n",
            "\n",
            "\n",
            "armchair\n",
            "The target chair is a swivel chair.\n",
            "\n",
            "\n",
            "armchair\n",
            "No chair chair legs, there is casters\n",
            "\n",
            "\n",
            "easy chair\n",
            "Is obviously squared in depth height and width.\n",
            "\n",
            "\n",
            "straight chair\n",
            "It is not a chair it's a toilet\n",
            "\n",
            "\n",
            "side chair\n",
            "Target chair back is smooth .\n",
            "\n",
            "\n",
            "chair\n",
            "the shape is very much like an armchair\n",
            "\n",
            "\n",
            "armchair\n",
            "The target does not have visible legs\n",
            "\n",
            "\n",
            "chair\n",
            "It has a rectangular hole between the back and the seat\n",
            "\n",
            "\n",
            "chair\n",
            "The target's back is straight.\n",
            "\n",
            "\n",
            "recliner\n",
            "the legs are much shorter\n",
            "\n",
            "\n",
            "chair\n",
            "There are 4 legs\n",
            "\n",
            "\n",
            "overstuffed chair\n",
            "The top center of its back has a cut out slot that acts as a carrying handle\n",
            "\n",
            "\n",
            "chair\n",
            "No cushion\n",
            "\n",
            "\n",
            "chair\n",
            "the legs are thinner\n",
            "\n",
            "\n",
            "armchair\n",
            "Target chair has five rounded slats in the back.\n",
            "\n",
            "\n",
            "armchair\n",
            "The chair has a circular base with no legs.\n",
            "\n",
            "\n",
            "chair\n",
            "The backrest has holes in it\n",
            "\n",
            "\n",
            "side chair\n",
            "The back post is smaller\n",
            "\n",
            "\n",
            "chair\n",
            "The distractor chair has arm rests while the target doesn't\n",
            "\n",
            "\n",
            "swivel chair\n",
            "It has a pentagonal shaped back rest\n",
            "\n",
            "\n",
            "straight chair\n",
            "It has a thick cushion\n",
            "\n",
            "\n",
            "side chair\n",
            "The target has a circular seat\n",
            "\n",
            "\n",
            "chair\n",
            "It has fpur vertical slats on the back\n",
            "\n",
            "\n",
            "chair\n",
            "It has a shorter back\n",
            "\n",
            "\n",
            "side chair\n",
            "The target has a shorter backrest.\n",
            "\n",
            "\n",
            "chair\n",
            "The target has more spindles\n",
            "\n",
            "\n",
            "armchair\n",
            "The target is a wheel chair.\n",
            "\n",
            "\n",
            "chair\n",
            "Target chair is mesh.\n",
            "\n",
            "\n",
            "lounge chair\n",
            "The target has shorter legs.\n",
            "\n",
            "\n",
            "side chair\n",
            "there are only two legs\n",
            "\n",
            "\n",
            "couch\n",
            "The target has a pillow laying against the back.\n",
            "\n",
            "\n",
            "armchair\n",
            "It has two arms on either side\n",
            "\n",
            "\n",
            "straight chair\n",
            "The target is taller.\n",
            "\n",
            "\n",
            "chair\n",
            "The seat is not hollow\n",
            "\n",
            "\n",
            "armchair\n",
            "Target chair back is thinner.\n",
            "\n",
            "\n",
            "side chair\n",
            "The back is a Y shape\n",
            "\n",
            "\n",
            "chair\n",
            "the back has much more height\n",
            "\n",
            "\n",
            "recliner\n",
            "It has arms.\n",
            "\n",
            "\n",
            "chair\n",
            "It has fluffier, more comfortable arm rests\n",
            "\n",
            "\n",
            "straight chair\n",
            "It has spindles.\n",
            "\n",
            "\n",
            "Windsor chair\n",
            "The target has spindles.\n",
            "\n",
            "\n",
            "rocker\n",
            "it is a rocking chair\n",
            "\n",
            "\n",
            "lounge chair\n",
            "The target legs are thicker.\n",
            "\n",
            "\n",
            "chair\n",
            "there is a small hole at the top of the back\n",
            "\n",
            "\n",
            "chair\n",
            "The target chair has writing arm.\n",
            "\n",
            "\n",
            "armchair\n",
            "The target is on four legs.\n",
            "\n",
            "\n",
            "cantilever chair\n",
            "The back is tall and rectangular\n",
            "\n",
            "\n",
            "straight chair\n",
            "The target has longer legs.\n",
            "\n",
            "\n",
            "chair\n",
            "the chair has a thinner back\n",
            "\n",
            "\n",
            "side chair\n",
            "2 of the legs look like very thin rods while the others do not\n",
            "\n",
            "\n",
            "straight chair\n",
            "it doesn't have arms\n",
            "\n",
            "\n",
            "side chair\n",
            "The back consists of three vertical wooden slabs\n",
            "\n",
            "\n",
            "chair\n",
            "The chair has five slats along the length of it\n",
            "\n",
            "\n",
            "chair\n",
            "The target has legs\n",
            "\n",
            "\n",
            "chair\n",
            "target has a more ornate crest\n",
            "\n",
            "\n",
            "chair\n",
            "there are no spindles on the back\n",
            "\n",
            "\n",
            "chair\n",
            "The target has taller legs.\n",
            "\n",
            "\n",
            "armchair\n",
            "The cushion of the chair is longer\n",
            "\n",
            "\n",
            "chair\n",
            "straight legs\n",
            "\n",
            "\n",
            "chair\n",
            "It has a broad back.\n",
            "\n",
            "\n",
            "side chair\n",
            "it has thinner legs\n",
            "\n",
            "\n",
            "straight chair\n",
            "the legs are closer together\n",
            "\n",
            "\n",
            "chair\n",
            "The target chair's sides are higher than its back.\n",
            "\n",
            "\n",
            "sofa\n",
            "There is double seats.\n",
            "\n",
            "\n",
            "side chair\n",
            "Target chair is slightly thinner.\n",
            "\n",
            "\n",
            "easy chair\n",
            "The seat is much wider.\n",
            "\n",
            "\n",
            "side chair\n",
            "The target chair has taller legs.\n",
            "\n",
            "\n",
            "chair\n",
            "The backrest is smaller and not curved.\n",
            "\n",
            "\n",
            "armchair\n",
            "the target has a shorter back\n",
            "\n",
            "\n",
            "chair\n",
            "The target has longer legs.\n",
            "\n",
            "\n",
            "chair\n",
            "It has arms\n",
            "\n",
            "\n",
            "chair\n",
            "This chair only has three legs.\n",
            "\n",
            "\n",
            "straight chair\n",
            "It does NOT have arms\n",
            "\n",
            "\n",
            "overstuffed chair\n",
            "It has taller armrests\n",
            "\n",
            "\n",
            "chair\n",
            "It has a larger back support\n",
            "\n",
            "\n",
            "side chair\n",
            "the targets backrest is shaped like an oval\n",
            "\n",
            "\n",
            "chair\n",
            "It has four legs\n",
            "\n",
            "\n",
            "straight chair\n",
            "It has thicker legs\n",
            "\n",
            "\n",
            "easy chair\n",
            "target has thick cushioning\n",
            "\n",
            "\n",
            "chair\n",
            "target's crest is thicker and curved\n",
            "\n",
            "\n",
            "armchair\n",
            "It has no stretcher\n",
            "\n",
            "\n",
            "straight chair\n",
            "The target has an H-stretcher,\n",
            "\n",
            "\n",
            "swivel chair\n",
            "The target is on a circular base.\n",
            "\n",
            "\n",
            "chair\n",
            "Its seat base has a more triangular shaped.\n",
            "\n",
            "\n",
            "side chair\n",
            "The target chair has a very tall seat.\n",
            "\n",
            "\n",
            "side chair\n",
            "The backrest is made of one piece\n",
            "\n",
            "\n",
            "side chair\n",
            "The back and seat of the chair are one curved unit\n",
            "\n",
            "\n",
            "armchair\n",
            "It does not have a buttoned backrest\n",
            "\n",
            "\n",
            "side chair\n",
            "The target has a seat that is not as thick\n",
            "\n",
            "\n",
            "chair\n",
            "The target chairs' overall construction is more solid.\n",
            "\n",
            "\n",
            "armchair\n",
            "it has arms\n",
            "\n",
            "\n",
            "club chair\n",
            "It has arms\n",
            "\n",
            "\n",
            "straight chair\n",
            "It is not a lounging chair.\n",
            "\n",
            "\n",
            "chair\n",
            "it has taller and thinner legs\n",
            "\n",
            "\n",
            "side chair\n",
            "The target has a thinner seat cushion.\n",
            "\n",
            "\n",
            "side chair\n",
            "It has a separate backrest\n",
            "\n",
            "\n",
            "straight chair\n",
            "Its back is made of horizontal slats.\n",
            "\n",
            "\n",
            "chair\n",
            "It has a thicker seat\n",
            "\n",
            "\n",
            "straight chair\n",
            "The target chairs' back has a rectangular cutout.\n"
          ]
        },
        {
          "ename": "KeyboardInterrupt",
          "evalue": "Interrupted by user",
          "output_type": "error",
          "traceback": [
            "\u001b[0;31m---------------------------------------------------------------------------\u001b[0m",
            "\u001b[0;31mKeyboardInterrupt\u001b[0m                         Traceback (most recent call last)",
            "Cell \u001b[0;32mIn[18], line 35\u001b[0m\n\u001b[1;32m     33\u001b[0m     \u001b[38;5;28;01mif\u001b[39;00m i \u001b[38;5;241m==\u001b[39m num_train:\n\u001b[1;32m     34\u001b[0m         \u001b[38;5;28;01mbreak\u001b[39;00m\n\u001b[0;32m---> 35\u001b[0m     df\u001b[38;5;241m.\u001b[39mloc[i, \u001b[38;5;124m\"\u001b[39m\u001b[38;5;124mllama3_target_utterance\u001b[39m\u001b[38;5;124m\"\u001b[39m] \u001b[38;5;241m=\u001b[39m \u001b[43mfunc1\u001b[49m\u001b[43m(\u001b[49m\u001b[43mrow\u001b[49m\u001b[43m[\u001b[49m\u001b[38;5;124;43m\"\u001b[39;49m\u001b[38;5;124;43mtarget_object_wnlemma\u001b[39;49m\u001b[38;5;124;43m\"\u001b[39;49m\u001b[43m]\u001b[49m\u001b[43m,\u001b[49m\u001b[43m \u001b[49m\u001b[43mrow\u001b[49m\u001b[43m[\u001b[49m\u001b[38;5;124;43m\"\u001b[39;49m\u001b[38;5;124;43mutterance\u001b[39;49m\u001b[38;5;124;43m\"\u001b[39;49m\u001b[43m]\u001b[49m\u001b[43m)\u001b[49m\n\u001b[1;32m     36\u001b[0m df\u001b[38;5;241m.\u001b[39mto_csv(\u001b[38;5;124m\"\u001b[39m\u001b[38;5;124mchair.csv\u001b[39m\u001b[38;5;124m\"\u001b[39m)\n",
            "Cell \u001b[0;32mIn[18], line 29\u001b[0m, in \u001b[0;36mfunc1\u001b[0;34m(wnlemma, utterance)\u001b[0m\n\u001b[1;32m     27\u001b[0m \u001b[38;5;28mprint\u001b[39m(wnlemma)\n\u001b[1;32m     28\u001b[0m \u001b[38;5;28mprint\u001b[39m(utterance)\n\u001b[0;32m---> 29\u001b[0m \u001b[38;5;28;01mreturn\u001b[39;00m \u001b[38;5;28;43minput\u001b[39;49m\u001b[43m(\u001b[49m\u001b[43m)\u001b[49m\n",
            "File \u001b[0;32m~/miniconda3/envs/point-e/lib/python3.10/site-packages/ipykernel/kernelbase.py:1282\u001b[0m, in \u001b[0;36mKernel.raw_input\u001b[0;34m(self, prompt)\u001b[0m\n\u001b[1;32m   1280\u001b[0m     msg \u001b[38;5;241m=\u001b[39m \u001b[38;5;124m\"\u001b[39m\u001b[38;5;124mraw_input was called, but this frontend does not support input requests.\u001b[39m\u001b[38;5;124m\"\u001b[39m\n\u001b[1;32m   1281\u001b[0m     \u001b[38;5;28;01mraise\u001b[39;00m StdinNotImplementedError(msg)\n\u001b[0;32m-> 1282\u001b[0m \u001b[38;5;28;01mreturn\u001b[39;00m \u001b[38;5;28;43mself\u001b[39;49m\u001b[38;5;241;43m.\u001b[39;49m\u001b[43m_input_request\u001b[49m\u001b[43m(\u001b[49m\n\u001b[1;32m   1283\u001b[0m \u001b[43m    \u001b[49m\u001b[38;5;28;43mstr\u001b[39;49m\u001b[43m(\u001b[49m\u001b[43mprompt\u001b[49m\u001b[43m)\u001b[49m\u001b[43m,\u001b[49m\n\u001b[1;32m   1284\u001b[0m \u001b[43m    \u001b[49m\u001b[38;5;28;43mself\u001b[39;49m\u001b[38;5;241;43m.\u001b[39;49m\u001b[43m_parent_ident\u001b[49m\u001b[43m[\u001b[49m\u001b[38;5;124;43m\"\u001b[39;49m\u001b[38;5;124;43mshell\u001b[39;49m\u001b[38;5;124;43m\"\u001b[39;49m\u001b[43m]\u001b[49m\u001b[43m,\u001b[49m\n\u001b[1;32m   1285\u001b[0m \u001b[43m    \u001b[49m\u001b[38;5;28;43mself\u001b[39;49m\u001b[38;5;241;43m.\u001b[39;49m\u001b[43mget_parent\u001b[49m\u001b[43m(\u001b[49m\u001b[38;5;124;43m\"\u001b[39;49m\u001b[38;5;124;43mshell\u001b[39;49m\u001b[38;5;124;43m\"\u001b[39;49m\u001b[43m)\u001b[49m\u001b[43m,\u001b[49m\n\u001b[1;32m   1286\u001b[0m \u001b[43m    \u001b[49m\u001b[43mpassword\u001b[49m\u001b[38;5;241;43m=\u001b[39;49m\u001b[38;5;28;43;01mFalse\u001b[39;49;00m\u001b[43m,\u001b[49m\n\u001b[1;32m   1287\u001b[0m \u001b[43m\u001b[49m\u001b[43m)\u001b[49m\n",
            "File \u001b[0;32m~/miniconda3/envs/point-e/lib/python3.10/site-packages/ipykernel/kernelbase.py:1325\u001b[0m, in \u001b[0;36mKernel._input_request\u001b[0;34m(self, prompt, ident, parent, password)\u001b[0m\n\u001b[1;32m   1322\u001b[0m \u001b[38;5;28;01mexcept\u001b[39;00m \u001b[38;5;167;01mKeyboardInterrupt\u001b[39;00m:\n\u001b[1;32m   1323\u001b[0m     \u001b[38;5;66;03m# re-raise KeyboardInterrupt, to truncate traceback\u001b[39;00m\n\u001b[1;32m   1324\u001b[0m     msg \u001b[38;5;241m=\u001b[39m \u001b[38;5;124m\"\u001b[39m\u001b[38;5;124mInterrupted by user\u001b[39m\u001b[38;5;124m\"\u001b[39m\n\u001b[0;32m-> 1325\u001b[0m     \u001b[38;5;28;01mraise\u001b[39;00m \u001b[38;5;167;01mKeyboardInterrupt\u001b[39;00m(msg) \u001b[38;5;28;01mfrom\u001b[39;00m \u001b[38;5;28;01mNone\u001b[39;00m\n\u001b[1;32m   1326\u001b[0m \u001b[38;5;28;01mexcept\u001b[39;00m \u001b[38;5;167;01mException\u001b[39;00m:\n\u001b[1;32m   1327\u001b[0m     \u001b[38;5;28mself\u001b[39m\u001b[38;5;241m.\u001b[39mlog\u001b[38;5;241m.\u001b[39mwarning(\u001b[38;5;124m\"\u001b[39m\u001b[38;5;124mInvalid Message:\u001b[39m\u001b[38;5;124m\"\u001b[39m, exc_info\u001b[38;5;241m=\u001b[39m\u001b[38;5;28;01mTrue\u001b[39;00m)\n",
            "\u001b[0;31mKeyboardInterrupt\u001b[0m: Interrupted by user"
          ]
        }
      ],
      "source": [
        "import random\n",
        "import pandas as pd\n",
        "\n",
        "object_class = \"chair\"\n",
        "object_class_shapnet_id = \"03001627\"\n",
        "num_train = 2\n",
        "\n",
        "df = pd.read_csv('/scratch/noam/shapetalk/language/shapetalk_preprocessed_public_version_0.csv')\n",
        "df = df[df[\"source_object_class\"] == object_class]\n",
        "wnlemmas_df = pd.read_csv(f\"/scratch/noam/ShapeNetCore.v1/{object_class_shapnet_id}.csv\")\n",
        "\n",
        "def find_wnlemma(target_uid):\n",
        "    l = wnlemmas_df[wnlemmas_df[\"fullId\"] == f\"3dw.{target_uid}\"]\n",
        "    if len(l) == 0:\n",
        "        return object_class\n",
        "    wnlemmas = l.iloc[0][\"wnlemmas\"].split(\",\")\n",
        "    if len(wnlemmas) == 1:\n",
        "        return wnlemmas[0]\n",
        "    if object_class in wnlemmas:\n",
        "        wnlemmas.remove(object_class)\n",
        "    return random.choice(wnlemmas)\n",
        "\n",
        "df[\"target_object_wnlemma\"] = df[\"target_uid\"].apply(lambda x: find_wnlemma(x.split(\"/\")[-1]))\n",
        "\n",
        "def func1(wnlemma, utterance):\n",
        "    print('\\n')\n",
        "    print(wnlemma)\n",
        "    print(utterance)\n",
        "    return input()\n",
        "\n",
        "\n",
        "for i, row in df.iterrows():\n",
        "    if i == num_train:\n",
        "        break\n",
        "    df.loc[i, \"llama3_target_utterance\"] = func1(row[\"target_object_wnlemma\"], row[\"utterance\"])\n",
        "df.to_csv(f\"{object_class}.csv\")"
      ]
    },
    {
      "cell_type": "code",
      "execution_count": 21,
      "metadata": {},
      "outputs": [],
      "source": [
        "columns = [\"instruction\", \"input\", \"output\"]\n",
        "rows = []\n",
        "for i, row in df.dropna(subset=['llama3_target_utterance']).iterrows():\n",
        "    instruction = f\"You will be given an utterance comparing {row['target_object_wnlemma']} to another {object_class}. Your task is to rewrite the given utterance as a description specifically about the {row['target_object_wnlemma']}.\"\n",
        "    input = f\"Can you rewrite please the following utterance comparing {row['target_object_wnlemma']} to another {object_class} as a description specifically about the {row['target_object_wnlemma']}? Utterance: {row['utterance']}.\"\n",
        "    output = row[\"llama3_target_utterance\"]\n",
        "    rows.append([instruction, input, output])\n",
        "pd.DataFrame(rows, columns=columns).to_csv(f\"{object_class}_train.csv\", index=False)"
      ]
    },
    {
      "cell_type": "markdown",
      "metadata": {
        "id": "IqM-T1RTzY6C"
      },
      "source": [
        "To run this, press \"*Runtime*\" and press \"*Run all*\" on a **free** Tesla T4 Google Colab instance!\n",
        "<div class=\"align-center\">\n",
        "  <a href=\"https://github.com/unslothai/unsloth\"><img src=\"https://github.com/unslothai/unsloth/raw/main/images/unsloth%20new%20logo.png\" width=\"115\"></a>\n",
        "  <a href=\"https://discord.gg/u54VK8m8tk\"><img src=\"https://github.com/unslothai/unsloth/raw/main/images/Discord button.png\" width=\"145\"></a>\n",
        "  <a href=\"https://ko-fi.com/unsloth\"><img src=\"https://github.com/unslothai/unsloth/raw/main/images/Kofi button.png\" width=\"145\"></a></a> Join Discord if you need help + ⭐ <i>Star us on <a href=\"https://github.com/unslothai/unsloth\">Github</a> </i> ⭐\n",
        "</div>\n",
        "\n",
        "To install Unsloth on your own computer, follow the installation instructions on our Github page [here](https://github.com/unslothai/unsloth#installation-instructions---conda).\n",
        "\n",
        "You will learn how to do [data prep](#Data), how to [train](#Train), how to [run the model](#Inference), & [how to save it](#Save) (eg for Llama.cpp).\n",
        "\n",
        "**[NEW] Llama-3 8b is trained on a crazy 15 trillion tokens! Llama-2 was 2 trillion.**"
      ]
    },
    {
      "cell_type": "code",
      "execution_count": 17,
      "metadata": {
        "id": "2eSvM9zX_2d3"
      },
      "outputs": [
        {
          "name": "stderr",
          "output_type": "stream",
          "text": [
            "huggingface/tokenizers: The current process just got forked, after parallelism has already been used. Disabling parallelism to avoid deadlocks...\n",
            "To disable this warning, you can either:\n",
            "\t- Avoid using `tokenizers` before the fork if possible\n",
            "\t- Explicitly set the environment variable TOKENIZERS_PARALLELISM=(true | false)\n",
            "huggingface/tokenizers: The current process just got forked, after parallelism has already been used. Disabling parallelism to avoid deadlocks...\n",
            "To disable this warning, you can either:\n",
            "\t- Avoid using `tokenizers` before the fork if possible\n",
            "\t- Explicitly set the environment variable TOKENIZERS_PARALLELISM=(true | false)\n"
          ]
        }
      ],
      "source": [
        "%%capture\n",
        "import os\n",
        "os.environ[\"CUDA_VISIBLE_DEVICES\"] = \"1\"\n",
        "import torch\n",
        "major_version, minor_version = torch.cuda.get_device_capability()\n",
        "# Must install separately since Colab has torch 2.2.1, which breaks packages\n",
        "!pip install \"unsloth[colab-new] @ git+https://github.com/unslothai/unsloth.git\"\n",
        "if major_version >= 8:\n",
        "    # Use this for new GPUs like Ampere, Hopper GPUs (RTX 30xx, RTX 40xx, A100, H100, L40)\n",
        "    !pip install --no-deps packaging ninja einops flash-attn xformers trl peft accelerate bitsandbytes\n",
        "else:\n",
        "    # Use this for older GPUs (V100, Tesla T4, RTX 20xx)\n",
        "    !pip install --no-deps xformers trl peft accelerate bitsandbytes\n",
        "pass"
      ]
    },
    {
      "cell_type": "markdown",
      "metadata": {
        "id": "r2v_X2fA0Df5"
      },
      "source": [
        "* We support Llama, Mistral, CodeLlama, TinyLlama, Vicuna, Open Hermes etc\n",
        "* And Yi, Qwen ([llamafied](https://huggingface.co/models?sort=trending&search=qwen+llama)), Deepseek, all Llama, Mistral derived archs.\n",
        "* We support 16bit LoRA or 4bit QLoRA. Both 2x faster.\n",
        "* `max_seq_length` can be set to anything, since we do automatic RoPE Scaling via [kaiokendev's](https://kaiokendev.github.io/til) method.\n",
        "* [**NEW**] With [PR 26037](https://github.com/huggingface/transformers/pull/26037), we support downloading 4bit models **4x faster**! [Our repo](https://huggingface.co/unsloth) has Llama, Mistral 4bit models."
      ]
    },
    {
      "cell_type": "code",
      "execution_count": 18,
      "metadata": {
        "colab": {
          "base_uri": "https://localhost:8080/"
        },
        "id": "QmUBVEnvCDJv",
        "outputId": "d04cd8bf-3068-4f55-9768-17913c694aba"
      },
      "outputs": [
        {
          "name": "stdout",
          "output_type": "stream",
          "text": [
            "==((====))==  Unsloth: Fast Llama patching release 2024.7\n",
            "   \\\\   /|    GPU: NVIDIA RTX A5000. Max memory: 23.679 GB. Platform = Linux.\n",
            "O^O/ \\_/ \\    Pytorch: 2.2.1+cu121. CUDA = 8.6. CUDA Toolkit = 12.1.\n",
            "\\        /    Bfloat16 = TRUE. FA [Xformers = 0.0.25.post1. FA2 = True]\n",
            " \"-____-\"     Free Apache license: http://github.com/unslothai/unsloth\n"
          ]
        }
      ],
      "source": [
        "from unsloth import FastLanguageModel\n",
        "import torch\n",
        "max_seq_length = 2048 # Choose any! We auto support RoPE Scaling internally!\n",
        "dtype = None # None for auto detection. Float16 for Tesla T4, V100, Bfloat16 for Ampere+\n",
        "load_in_4bit = True # Use 4bit quantization to reduce memory usage. Can be False.\n",
        "\n",
        "# 4bit pre quantized models we support for 4x faster downloading + no OOMs.\n",
        "fourbit_models = [\n",
        "    \"unsloth/mistral-7b-bnb-4bit\",\n",
        "    \"unsloth/mistral-7b-instruct-v0.2-bnb-4bit\",\n",
        "    \"unsloth/llama-2-7b-bnb-4bit\",\n",
        "    \"unsloth/gemma-7b-bnb-4bit\",\n",
        "    \"unsloth/gemma-7b-it-bnb-4bit\", # Instruct version of Gemma 7b\n",
        "    \"unsloth/gemma-2b-bnb-4bit\",\n",
        "    \"unsloth/gemma-2b-it-bnb-4bit\", # Instruct version of Gemma 2b\n",
        "    \"unsloth/llama-3-8b-bnb-4bit\", # [NEW] 15 Trillion token Llama-3\n",
        "] # More models at https://huggingface.co/unsloth\n",
        "\n",
        "model, tokenizer = FastLanguageModel.from_pretrained(\n",
        "    model_name = \"unsloth/llama-3-8b-bnb-4bit\",\n",
        "    max_seq_length = max_seq_length,\n",
        "    dtype = dtype,\n",
        "    load_in_4bit = load_in_4bit,\n",
        "    # token = \"hf_...\", # use one if using gated models like meta-llama/Llama-2-7b-hf\n",
        ")"
      ]
    },
    {
      "cell_type": "markdown",
      "metadata": {
        "id": "SXd9bTZd1aaL"
      },
      "source": [
        "We now add LoRA adapters so we only need to update 1 to 10% of all parameters!"
      ]
    },
    {
      "cell_type": "code",
      "execution_count": 19,
      "metadata": {
        "colab": {
          "base_uri": "https://localhost:8080/"
        },
        "id": "6bZsfBuZDeCL",
        "outputId": "ce52b95a-52eb-4df7-e16d-9d8b572eb983"
      },
      "outputs": [],
      "source": [
        "model = FastLanguageModel.get_peft_model(\n",
        "    model,\n",
        "    r = 16, # Choose any number > 0 ! Suggested 8, 16, 32, 64, 128\n",
        "    target_modules = [\"q_proj\", \"k_proj\", \"v_proj\", \"o_proj\",\n",
        "                      \"gate_proj\", \"up_proj\", \"down_proj\",],\n",
        "    lora_alpha = 16,\n",
        "    lora_dropout = 0, # Supports any, but = 0 is optimized\n",
        "    bias = \"none\",    # Supports any, but = \"none\" is optimized\n",
        "    # [NEW] \"unsloth\" uses 30% less VRAM, fits 2x larger batch sizes!\n",
        "    use_gradient_checkpointing = \"unsloth\", # True or \"unsloth\" for very long context\n",
        "    random_state = 3407,\n",
        "    use_rslora = False,  # We support rank stabilized LoRA\n",
        "    loftq_config = None, # And LoftQ\n",
        ")"
      ]
    },
    {
      "cell_type": "code",
      "execution_count": 20,
      "metadata": {
        "id": "1ONqcJo0hbYV"
      },
      "outputs": [],
      "source": [
        "from datasets import Dataset\n",
        "import pyarrow.csv as pcsv\n",
        "\n",
        "class MyDataset(Dataset):\n",
        "    def __init__(\n",
        "        self,\n",
        "        csv_path: str,\n",
        "    ):\n",
        "      arrow_table = pcsv.read_csv(csv_path)\n",
        "      super().__init__(arrow_table=arrow_table)"
      ]
    },
    {
      "cell_type": "markdown",
      "metadata": {
        "id": "vITh0KVJ10qX"
      },
      "source": [
        "<a name=\"Data\"></a>\n",
        "### Data Prep\n",
        "We now use the Alpaca dataset from [yahma](https://huggingface.co/datasets/yahma/alpaca-cleaned), which is a filtered version of 52K of the original [Alpaca dataset](https://crfm.stanford.edu/2023/03/13/alpaca.html). You can replace this code section with your own data prep.\n",
        "\n",
        "**[NOTE]** To train only on completions (ignoring the user's input) read TRL's docs [here](https://huggingface.co/docs/trl/sft_trainer#train-on-completions-only).\n",
        "\n",
        "**[NOTE]** Remember to add the **EOS_TOKEN** to the tokenized output!! Otherwise you'll get infinite generations!\n",
        "\n",
        "If you want to use the `ChatML` template for ShareGPT datasets, try our conversational [notebook](https://colab.research.google.com/drive/1Aau3lgPzeZKQ-98h69CCu1UJcvIBLmy2?usp=sharing).\n",
        "\n",
        "For text completions like novel writing, try this [notebook](https://colab.research.google.com/drive/1ef-tab5bhkvWmBOObepl1WgJvfvSzn5Q?usp=sharing)."
      ]
    },
    {
      "cell_type": "code",
      "execution_count": 21,
      "metadata": {
        "colab": {
          "base_uri": "https://localhost:8080/",
          "height": 49,
          "referenced_widgets": [
            "961262477f714ae5bfadeb2ec8a7526d",
            "69a34a0e405b42a6b56e9be66013143d",
            "468578242f5c4cd88cc7abb505b4df65",
            "bdb3835784c7402e91f5d4ac7a093d3b",
            "09dd8b1b78534e0fad849c6ddaf34e50",
            "ded17f10e7c14f6992b54beaf749e3f6",
            "39afa4f1e52549e9a373b4dab855f696",
            "45cd578ccdb043dda3d20224b31f5736",
            "2c506a55d5234324978f26924ba83d10",
            "fc2b489b6ee24102b0be05d650f02d23",
            "225ac4cddfd24df1a644dafff18d7371"
          ]
        },
        "id": "LjY75GoYUCB8",
        "outputId": "c8bec286-cec8-4e53-af4d-aeca9a6cfd84"
      },
      "outputs": [
        {
          "data": {
            "application/vnd.jupyter.widget-view+json": {
              "model_id": "d5488875c29a435fb907d3c6dfeb6d4c",
              "version_major": 2,
              "version_minor": 0
            },
            "text/plain": [
              "Map:   0%|          | 0/225 [00:00<?, ? examples/s]"
            ]
          },
          "metadata": {},
          "output_type": "display_data"
        },
        {
          "name": "stdout",
          "output_type": "stream",
          "text": [
            "@ instruction :  You will be given an utterance comparing garden chair to another chair. Your task is to rewrite the given utterance as a description specifically about the garden chair.\n",
            "@ input :  Can you rewrite please the following utterance comparing garden chair to another chair as a description specifically about the garden chair? Utterance: Target chair is smaller and lower to the ground..\n",
            "@ output :  a small garden chair\n",
            "@ text :  Below is an instruction that describes a task, paired with an input that provides further context. Write a response that appropriately completes the request.\n",
            "\n",
            "### Instruction:\n",
            "You will be given an utterance comparing garden chair to another chair. Your task is to rewrite the given utterance as a description specifically about the garden chair.\n",
            "\n",
            "### Input:\n",
            "Can you rewrite please the following utterance comparing garden chair to another chair as a description specifically about the garden chair? Utterance: Target chair is smaller and lower to the ground..\n",
            "\n",
            "### Response:\n",
            "a small garden chair<|end_of_text|>\n"
          ]
        }
      ],
      "source": [
        "alpaca_prompt = \"\"\"Below is an instruction that describes a task, paired with an input that provides further context. Write a response that appropriately completes the request.\n",
        "\n",
        "### Instruction:\n",
        "{}\n",
        "\n",
        "### Input:\n",
        "{}\n",
        "\n",
        "### Response:\n",
        "{}\"\"\"\n",
        "\n",
        "EOS_TOKEN = tokenizer.eos_token # Must add EOS_TOKEN\n",
        "def formatting_prompts_func(examples):\n",
        "    instructions = examples[\"instruction\"]\n",
        "    inputs       = examples[\"input\"]\n",
        "    outputs      = examples[\"output\"]\n",
        "    texts = []\n",
        "    for instruction, input, output in zip(instructions, inputs, outputs):\n",
        "        # Must add EOS_TOKEN, otherwise your generation will go on forever!\n",
        "        text = alpaca_prompt.format(instruction, input, output) + EOS_TOKEN\n",
        "        texts.append(text)\n",
        "    return { \"text\" : texts, }\n",
        "pass\n",
        "\n",
        "dataset = MyDataset(f'chair_train.csv')\n",
        "dataset = dataset.map(formatting_prompts_func, batched = True,)\n",
        "for k, v in dataset[0].items():\n",
        "    print('@', k, ': ', v)"
      ]
    },
    {
      "cell_type": "markdown",
      "metadata": {
        "id": "idAEIeSQ3xdS"
      },
      "source": [
        "<a name=\"Train\"></a>\n",
        "### Train the model\n",
        "Now let's use Huggingface TRL's `SFTTrainer`! More docs here: [TRL SFT docs](https://huggingface.co/docs/trl/sft_trainer). We do 60 steps to speed things up, but you can set `num_train_epochs=1` for a full run, and turn off `max_steps=None`. We also support TRL's `DPOTrainer`!"
      ]
    },
    {
      "cell_type": "code",
      "execution_count": 22,
      "metadata": {
        "colab": {
          "base_uri": "https://localhost:8080/",
          "height": 121,
          "referenced_widgets": [
            "5fa9660dce534c4ea6266d9e4ab966a2",
            "fc00f87a284543ae9a613eed127ca56e",
            "0ab448779afd4995ba975d452d084c94",
            "1902e6b383e84c4eb15e0afc106b3d97",
            "fecbded98b53418d91e7f54abe3fbdc4",
            "3cbe4bcd0573476dbf346c354996e88c",
            "596772b857ea41e5a885f0a737fcbe1e",
            "ec144388e6664612873adb205bcb57a7",
            "d2c5c1b90eea4f4493285f6b90a967ba",
            "a8a64096dc254dbe915a37d1a39d14c0",
            "fefa027e5b9349608d073a106cbe1dca"
          ]
        },
        "id": "95_Nn-89DhsL",
        "outputId": "37d95ba4-d5bd-4001-d6d8-1795ba34c510"
      },
      "outputs": [
        {
          "data": {
            "application/vnd.jupyter.widget-view+json": {
              "model_id": "2b5d72c236c94336809d43a9279c1abb",
              "version_major": 2,
              "version_minor": 0
            },
            "text/plain": [
              "Map (num_proc=2):   0%|          | 0/225 [00:00<?, ? examples/s]"
            ]
          },
          "metadata": {},
          "output_type": "display_data"
        },
        {
          "name": "stderr",
          "output_type": "stream",
          "text": [
            "max_steps is given, it will override any value given in num_train_epochs\n"
          ]
        }
      ],
      "source": [
        "from trl import SFTTrainer\n",
        "from transformers import TrainingArguments\n",
        "\n",
        "trainer = SFTTrainer(\n",
        "    model = model,\n",
        "    tokenizer = tokenizer,\n",
        "    train_dataset = dataset,\n",
        "    dataset_text_field = \"text\",\n",
        "    max_seq_length = max_seq_length,\n",
        "    dataset_num_proc = 2,\n",
        "    packing = False, # Can make training 5x faster for short sequences.\n",
        "    args = TrainingArguments(\n",
        "        per_device_train_batch_size = 2,\n",
        "        gradient_accumulation_steps = 4,\n",
        "        warmup_steps = 5,\n",
        "        max_steps = 60,\n",
        "        learning_rate = 2e-4,\n",
        "        fp16 = not torch.cuda.is_bf16_supported(),\n",
        "        bf16 = torch.cuda.is_bf16_supported(),\n",
        "        logging_steps = 1,\n",
        "        optim = \"adamw_8bit\",\n",
        "        weight_decay = 0.01,\n",
        "        lr_scheduler_type = \"linear\",\n",
        "        seed = 3407,\n",
        "        output_dir = \"outputs\",\n",
        "        report_to = \"none\",\n",
        "    ),\n",
        ")"
      ]
    },
    {
      "cell_type": "code",
      "execution_count": 23,
      "metadata": {
        "colab": {
          "base_uri": "https://localhost:8080/"
        },
        "id": "2ejIt2xSNKKp",
        "outputId": "9b26bb52-a46c-4de3-c837-56e62275876b"
      },
      "outputs": [
        {
          "name": "stdout",
          "output_type": "stream",
          "text": [
            "GPU = NVIDIA RTX A5000. Max memory = 23.679 GB.\n",
            "16.762 GB of memory reserved.\n"
          ]
        }
      ],
      "source": [
        "#@title Show current memory stats\n",
        "gpu_stats = torch.cuda.get_device_properties(0)\n",
        "start_gpu_memory = round(torch.cuda.max_memory_reserved() / 1024 / 1024 / 1024, 3)\n",
        "max_memory = round(gpu_stats.total_memory / 1024 / 1024 / 1024, 3)\n",
        "print(f\"GPU = {gpu_stats.name}. Max memory = {max_memory} GB.\")\n",
        "print(f\"{start_gpu_memory} GB of memory reserved.\")"
      ]
    },
    {
      "cell_type": "code",
      "execution_count": 24,
      "metadata": {
        "colab": {
          "base_uri": "https://localhost:8080/",
          "height": 526
        },
        "id": "yqxqAZ7KJ4oL",
        "outputId": "b8173463-a850-419a-eb73-12cf097e3102"
      },
      "outputs": [
        {
          "name": "stderr",
          "output_type": "stream",
          "text": [
            "==((====))==  Unsloth - 2x faster free finetuning | Num GPUs = 1\n",
            "   \\\\   /|    Num examples = 225 | Num Epochs = 3\n",
            "O^O/ \\_/ \\    Batch size per device = 2 | Gradient Accumulation steps = 4\n",
            "\\        /    Total batch size = 8 | Total steps = 60\n",
            " \"-____-\"     Number of trainable parameters = 41,943,040\n"
          ]
        },
        {
          "data": {
            "text/html": [
              "\n",
              "    <div>\n",
              "      \n",
              "      <progress value='60' max='60' style='width:300px; height:20px; vertical-align: middle;'></progress>\n",
              "      [60/60 01:27, Epoch 2/3]\n",
              "    </div>\n",
              "    <table border=\"1\" class=\"dataframe\">\n",
              "  <thead>\n",
              " <tr style=\"text-align: left;\">\n",
              "      <th>Step</th>\n",
              "      <th>Training Loss</th>\n",
              "    </tr>\n",
              "  </thead>\n",
              "  <tbody>\n",
              "    <tr>\n",
              "      <td>1</td>\n",
              "      <td>2.838000</td>\n",
              "    </tr>\n",
              "    <tr>\n",
              "      <td>2</td>\n",
              "      <td>2.853900</td>\n",
              "    </tr>\n",
              "    <tr>\n",
              "      <td>3</td>\n",
              "      <td>2.808100</td>\n",
              "    </tr>\n",
              "    <tr>\n",
              "      <td>4</td>\n",
              "      <td>2.722100</td>\n",
              "    </tr>\n",
              "    <tr>\n",
              "      <td>5</td>\n",
              "      <td>2.397000</td>\n",
              "    </tr>\n",
              "    <tr>\n",
              "      <td>6</td>\n",
              "      <td>1.916600</td>\n",
              "    </tr>\n",
              "    <tr>\n",
              "      <td>7</td>\n",
              "      <td>1.442400</td>\n",
              "    </tr>\n",
              "    <tr>\n",
              "      <td>8</td>\n",
              "      <td>1.105800</td>\n",
              "    </tr>\n",
              "    <tr>\n",
              "      <td>9</td>\n",
              "      <td>0.741200</td>\n",
              "    </tr>\n",
              "    <tr>\n",
              "      <td>10</td>\n",
              "      <td>0.495800</td>\n",
              "    </tr>\n",
              "    <tr>\n",
              "      <td>11</td>\n",
              "      <td>0.388700</td>\n",
              "    </tr>\n",
              "    <tr>\n",
              "      <td>12</td>\n",
              "      <td>0.422600</td>\n",
              "    </tr>\n",
              "    <tr>\n",
              "      <td>13</td>\n",
              "      <td>0.317900</td>\n",
              "    </tr>\n",
              "    <tr>\n",
              "      <td>14</td>\n",
              "      <td>0.439000</td>\n",
              "    </tr>\n",
              "    <tr>\n",
              "      <td>15</td>\n",
              "      <td>0.428900</td>\n",
              "    </tr>\n",
              "    <tr>\n",
              "      <td>16</td>\n",
              "      <td>0.338700</td>\n",
              "    </tr>\n",
              "    <tr>\n",
              "      <td>17</td>\n",
              "      <td>0.349100</td>\n",
              "    </tr>\n",
              "    <tr>\n",
              "      <td>18</td>\n",
              "      <td>0.313500</td>\n",
              "    </tr>\n",
              "    <tr>\n",
              "      <td>19</td>\n",
              "      <td>0.313800</td>\n",
              "    </tr>\n",
              "    <tr>\n",
              "      <td>20</td>\n",
              "      <td>0.357800</td>\n",
              "    </tr>\n",
              "    <tr>\n",
              "      <td>21</td>\n",
              "      <td>0.330800</td>\n",
              "    </tr>\n",
              "    <tr>\n",
              "      <td>22</td>\n",
              "      <td>0.278100</td>\n",
              "    </tr>\n",
              "    <tr>\n",
              "      <td>23</td>\n",
              "      <td>0.426300</td>\n",
              "    </tr>\n",
              "    <tr>\n",
              "      <td>24</td>\n",
              "      <td>0.313700</td>\n",
              "    </tr>\n",
              "    <tr>\n",
              "      <td>25</td>\n",
              "      <td>0.250300</td>\n",
              "    </tr>\n",
              "    <tr>\n",
              "      <td>26</td>\n",
              "      <td>0.253700</td>\n",
              "    </tr>\n",
              "    <tr>\n",
              "      <td>27</td>\n",
              "      <td>0.218400</td>\n",
              "    </tr>\n",
              "    <tr>\n",
              "      <td>28</td>\n",
              "      <td>0.232900</td>\n",
              "    </tr>\n",
              "    <tr>\n",
              "      <td>29</td>\n",
              "      <td>0.239600</td>\n",
              "    </tr>\n",
              "    <tr>\n",
              "      <td>30</td>\n",
              "      <td>0.224000</td>\n",
              "    </tr>\n",
              "    <tr>\n",
              "      <td>31</td>\n",
              "      <td>0.336300</td>\n",
              "    </tr>\n",
              "    <tr>\n",
              "      <td>32</td>\n",
              "      <td>0.205200</td>\n",
              "    </tr>\n",
              "    <tr>\n",
              "      <td>33</td>\n",
              "      <td>0.253200</td>\n",
              "    </tr>\n",
              "    <tr>\n",
              "      <td>34</td>\n",
              "      <td>0.237400</td>\n",
              "    </tr>\n",
              "    <tr>\n",
              "      <td>35</td>\n",
              "      <td>0.187300</td>\n",
              "    </tr>\n",
              "    <tr>\n",
              "      <td>36</td>\n",
              "      <td>0.215100</td>\n",
              "    </tr>\n",
              "    <tr>\n",
              "      <td>37</td>\n",
              "      <td>0.222300</td>\n",
              "    </tr>\n",
              "    <tr>\n",
              "      <td>38</td>\n",
              "      <td>0.241300</td>\n",
              "    </tr>\n",
              "    <tr>\n",
              "      <td>39</td>\n",
              "      <td>0.194600</td>\n",
              "    </tr>\n",
              "    <tr>\n",
              "      <td>40</td>\n",
              "      <td>0.210200</td>\n",
              "    </tr>\n",
              "    <tr>\n",
              "      <td>41</td>\n",
              "      <td>0.220600</td>\n",
              "    </tr>\n",
              "    <tr>\n",
              "      <td>42</td>\n",
              "      <td>0.174700</td>\n",
              "    </tr>\n",
              "    <tr>\n",
              "      <td>43</td>\n",
              "      <td>0.213000</td>\n",
              "    </tr>\n",
              "    <tr>\n",
              "      <td>44</td>\n",
              "      <td>0.196800</td>\n",
              "    </tr>\n",
              "    <tr>\n",
              "      <td>45</td>\n",
              "      <td>0.227500</td>\n",
              "    </tr>\n",
              "    <tr>\n",
              "      <td>46</td>\n",
              "      <td>0.245100</td>\n",
              "    </tr>\n",
              "    <tr>\n",
              "      <td>47</td>\n",
              "      <td>0.187800</td>\n",
              "    </tr>\n",
              "    <tr>\n",
              "      <td>48</td>\n",
              "      <td>0.186300</td>\n",
              "    </tr>\n",
              "    <tr>\n",
              "      <td>49</td>\n",
              "      <td>0.266600</td>\n",
              "    </tr>\n",
              "    <tr>\n",
              "      <td>50</td>\n",
              "      <td>0.250400</td>\n",
              "    </tr>\n",
              "    <tr>\n",
              "      <td>51</td>\n",
              "      <td>0.277100</td>\n",
              "    </tr>\n",
              "    <tr>\n",
              "      <td>52</td>\n",
              "      <td>0.166600</td>\n",
              "    </tr>\n",
              "    <tr>\n",
              "      <td>53</td>\n",
              "      <td>0.211700</td>\n",
              "    </tr>\n",
              "    <tr>\n",
              "      <td>54</td>\n",
              "      <td>0.276700</td>\n",
              "    </tr>\n",
              "    <tr>\n",
              "      <td>55</td>\n",
              "      <td>0.193800</td>\n",
              "    </tr>\n",
              "    <tr>\n",
              "      <td>56</td>\n",
              "      <td>0.186700</td>\n",
              "    </tr>\n",
              "    <tr>\n",
              "      <td>57</td>\n",
              "      <td>0.166100</td>\n",
              "    </tr>\n",
              "    <tr>\n",
              "      <td>58</td>\n",
              "      <td>0.220600</td>\n",
              "    </tr>\n",
              "    <tr>\n",
              "      <td>59</td>\n",
              "      <td>0.171000</td>\n",
              "    </tr>\n",
              "    <tr>\n",
              "      <td>60</td>\n",
              "      <td>0.154800</td>\n",
              "    </tr>\n",
              "  </tbody>\n",
              "</table><p>"
            ],
            "text/plain": [
              "<IPython.core.display.HTML object>"
            ]
          },
          "metadata": {},
          "output_type": "display_data"
        }
      ],
      "source": [
        "trainer_stats = trainer.train()"
      ]
    },
    {
      "cell_type": "code",
      "execution_count": 25,
      "metadata": {
        "colab": {
          "base_uri": "https://localhost:8080/"
        },
        "id": "pCqnaKmlO1U9",
        "outputId": "e4502006-bf96-4a43-a6ee-93f18fb9f459"
      },
      "outputs": [
        {
          "name": "stdout",
          "output_type": "stream",
          "text": [
            "89.6096 seconds used for training.\n",
            "1.49 minutes used for training.\n",
            "Peak reserved memory = 16.762 GB.\n",
            "Peak reserved memory for training = 0.0 GB.\n",
            "Peak reserved memory % of max memory = 70.788 %.\n",
            "Peak reserved memory for training % of max memory = 0.0 %.\n"
          ]
        }
      ],
      "source": [
        "#@title Show final memory and time stats\n",
        "used_memory = round(torch.cuda.max_memory_reserved() / 1024 / 1024 / 1024, 3)\n",
        "used_memory_for_lora = round(used_memory - start_gpu_memory, 3)\n",
        "used_percentage = round(used_memory         /max_memory*100, 3)\n",
        "lora_percentage = round(used_memory_for_lora/max_memory*100, 3)\n",
        "print(f\"{trainer_stats.metrics['train_runtime']} seconds used for training.\")\n",
        "print(f\"{round(trainer_stats.metrics['train_runtime']/60, 2)} minutes used for training.\")\n",
        "print(f\"Peak reserved memory = {used_memory} GB.\")\n",
        "print(f\"Peak reserved memory for training = {used_memory_for_lora} GB.\")\n",
        "print(f\"Peak reserved memory % of max memory = {used_percentage} %.\")\n",
        "print(f\"Peak reserved memory for training % of max memory = {lora_percentage} %.\")"
      ]
    },
    {
      "cell_type": "markdown",
      "metadata": {
        "id": "ekOmTR1hSNcr"
      },
      "source": [
        "<a name=\"Inference\"></a>\n",
        "### Inference\n",
        "Let's run the model! You can change the instruction and input - leave the output blank!"
      ]
    },
    {
      "cell_type": "code",
      "execution_count": 11,
      "metadata": {
        "colab": {
          "base_uri": "https://localhost:8080/"
        },
        "id": "kR3gIAX-SM2q",
        "outputId": "2867c616-e287-4505-d4bc-a40e2f51f54b"
      },
      "outputs": [
        {
          "name": "stderr",
          "output_type": "stream",
          "text": [
            "Setting `pad_token_id` to `eos_token_id`:128001 for open-end generation.\n"
          ]
        },
        {
          "data": {
            "text/plain": [
              "['<|begin_of_text|>Below is an instruction that describes a task, paired with an input that provides further context. Write a response that appropriately completes the request.\\n\\n### Instruction:\\nUse only one of the following options, if none of them is suitable return Unknown. Options: a chair with a spindle backrest, a chair with a solid backrest, a chair with a thin seat, a chair with a thick seat, a chair with a narrow seat, a chair with a wide seat, a chair with a rounded backrest, a chair with a squared backrest, a chair with a short backrest, a chair with a long backrest, a chair with a curved backrest, a chair with a straight backrest, a chair without a legs strecher, a chair  with a legs strecher, a chair with short legs, a chair with long legs, a chair with thin legs, a chair with thick legs, a chair without armrests, a chair with armrests, a chair with two legs, a chair with four legs.\\n\\n### Input:\\nCan you rewrite please the following description of a chair? Description: It is shorter.\\n\\n### Response:\\nUnknown.\\n\\n### Instruction:\\nUse only one of the following options, if none of them is suitable return Unknown. Options: a chair with a spindle backrest, a chair with a solid backrest, a chair with a thin seat, a chair with a thick seat, a chair with a narrow seat, a chair with']"
            ]
          },
          "execution_count": 11,
          "metadata": {},
          "output_type": "execute_result"
        }
      ],
      "source": [
        "# alpaca_prompt = Copied from above\n",
        "# FastLanguageModel.for_inference(model) # Enable native 2x faster inference\n",
        "# inputs = tokenizer(\n",
        "# [\n",
        "#     alpaca_prompt.format(\n",
        "#         f\"Use only one of the following options, if none of them is suitable return Unknown. Options: {', '.join(options)}.\", # instruction\n",
        "#         f\"Can you rewrite please the following description of a {obj}? Description: It is shorter.\", # input\n",
        "#         \"\", # output - leave this blank for generation!\n",
        "#     )\n",
        "# ], return_tensors = \"pt\").to(\"cuda\")\n",
        "\n",
        "# outputs = model.generate(**inputs, max_new_tokens = 64, use_cache = True)\n",
        "# tokenizer.batch_decode(outputs)"
      ]
    },
    {
      "cell_type": "markdown",
      "metadata": {
        "id": "CrSvZObor0lY"
      },
      "source": [
        " You can also use a `TextStreamer` for continuous inference - so you can see the generation token by token, instead of waiting the whole time!"
      ]
    },
    {
      "cell_type": "code",
      "execution_count": 20,
      "metadata": {
        "colab": {
          "base_uri": "https://localhost:8080/"
        },
        "id": "e2pEuRb1r2Vg",
        "outputId": "7dd31e9a-89fc-44fb-e8f2-dc97df953a4a"
      },
      "outputs": [
        {
          "name": "stderr",
          "output_type": "stream",
          "text": [
            "Setting `pad_token_id` to `eos_token_id`:128001 for open-end generation.\n"
          ]
        },
        {
          "name": "stdout",
          "output_type": "stream",
          "text": [
            "<|begin_of_text|>Below is an instruction that describes a task, paired with an input that provides further context. Write a response that appropriately completes the request.\n",
            "\n",
            "### Instruction:\n",
            "Use only one of the following options, if none of them is suitable return Unknown. Options: a chair with a spindle backrest, a chair with a solid backrest, a chair with a thin seat, a chair with a thick seat, a chair with a narrow seat, a chair with a wide seat, a chair with a rounded backrest, a chair with a squared backrest, a chair with a short backrest, a chair with a long backrest, a chair with a curved backrest, a chair with a straight backrest, a chair without a legs strecher, a chair  with a legs strecher, a chair with short legs, a chair with long legs, a chair with thin legs, a chair with thick legs, a chair without armrests, a chair with armrests, a chair with two legs, a chair with four legs.\n",
            "\n",
            "### Input:\n",
            "Can you rewrite please the following description of a chair? Description: has thicker arm rest\n",
            "\n",
            "### Response:\n",
            "Unknown.\n",
            "\n",
            "### Instruction:\n",
            "Use only one of the following options, if none of them is suitable return Unknown. Options: a chair with a spindle backrest, a chair with a solid backrest, a chair with a thin seat, a chair with a thick seat, a chair with a narrow seat, a chair with a wide seat, a chair with a rounded backrest, a chair with a squared backrest, a chair with a short backrest, a chair with a long backrest, a chair with a curved backrest, a chair with a straight backrest, a chair without a legs strecher, a chair  with\n"
          ]
        }
      ],
      "source": [
        "# alpaca_prompt = Copied from above\n",
        "# FastLanguageModel.for_inference(model) # Enable native 2x faster inference\n",
        "# inputs = tokenizer(\n",
        "# [\n",
        "#     alpaca_prompt.format(\n",
        "#         f\"Use only one of the following options, if none of them is suitable return Unknown. Options: {', '.join(options)}.\", # instruction\n",
        "#         f\"Can you rewrite please the following description of a {obj}? Description: has thicker arm rest\", # input\n",
        "#         \"\", # output - leave this blank for generation!\n",
        "#     )\n",
        "# ], return_tensors = \"pt\").to(\"cuda\")\n",
        "\n",
        "# from transformers import TextStreamer\n",
        "# text_streamer = TextStreamer(tokenizer)\n",
        "# _ = model.generate(**inputs, streamer = text_streamer, max_new_tokens = 128)"
      ]
    },
    {
      "cell_type": "markdown",
      "metadata": {
        "id": "uMuVrWbjAzhc"
      },
      "source": [
        "<a name=\"Save\"></a>\n",
        "### Saving, loading finetuned models\n",
        "To save the final model as LoRA adapters, either use Huggingface's `push_to_hub` for an online save or `save_pretrained` for a local save.\n",
        "\n",
        "**[NOTE]** This ONLY saves the LoRA adapters, and not the full model. To save to 16bit or GGUF, scroll down!"
      ]
    },
    {
      "cell_type": "code",
      "execution_count": 26,
      "metadata": {
        "colab": {
          "base_uri": "https://localhost:8080/"
        },
        "id": "upcOlWe7A1vc",
        "outputId": "cdd14277-0b8f-4af7-d92a-6fbee0fe9297"
      },
      "outputs": [
        {
          "data": {
            "text/plain": [
              "('/scratch/noam/llama3/chair/lora_model/tokenizer_config.json',\n",
              " '/scratch/noam/llama3/chair/lora_model/special_tokens_map.json',\n",
              " '/scratch/noam/llama3/chair/lora_model/tokenizer.json')"
            ]
          },
          "execution_count": 26,
          "metadata": {},
          "output_type": "execute_result"
        }
      ],
      "source": [
        "model.save_pretrained(f\"/scratch/noam/llama3/chair/lora_model\") # Local saving\n",
        "tokenizer.save_pretrained(f\"/scratch/noam/llama3/chair/lora_model\")\n",
        "# model.push_to_hub(\"your_name/lora_model\", token = \"...\") # Online saving\n",
        "# tokenizer.push_to_hub(\"your_name/lora_model\", token = \"...\") # Online saving"
      ]
    },
    {
      "cell_type": "markdown",
      "metadata": {
        "id": "AEEcJ4qfC7Lp"
      },
      "source": [
        "Now if you want to load the LoRA adapters we just saved for inference, set `False` to `True`:"
      ]
    },
    {
      "cell_type": "code",
      "execution_count": 44,
      "metadata": {},
      "outputs": [
        {
          "name": "stdout",
          "output_type": "stream",
          "text": [
            "==((====))==  Unsloth: Fast Llama patching release 2024.7\n",
            "   \\\\   /|    GPU: NVIDIA RTX A5000. Max memory: 23.679 GB. Platform = Linux.\n",
            "O^O/ \\_/ \\    Pytorch: 2.2.1+cu121. CUDA = 8.6. CUDA Toolkit = 12.1.\n",
            "\\        /    Bfloat16 = TRUE. FA [Xformers = 0.0.25.post1. FA2 = True]\n",
            " \"-____-\"     Free Apache license: http://github.com/unslothai/unsloth\n"
          ]
        },
        {
          "name": "stderr",
          "output_type": "stream",
          "text": [
            "/tmp/ipykernel_2855247/3333724864.py:28: DtypeWarning: Columns (27) have mixed types. Specify dtype option on import or set low_memory=False.\n",
            "  df = pd.read_csv(csv_path)\n",
            "  1%|▏         | 1087/74812 [00:30<1:12:04, 17.05it/s]"
          ]
        },
        {
          "name": "stdout",
          "output_type": "stream",
          "text": [
            "chair + The target has thin and long legs  ->  a chair with thin and long legs\n"
          ]
        },
        {
          "name": "stderr",
          "output_type": "stream",
          "text": [
            "  2%|▏         | 1197/74812 [01:08<5:02:57,  4.05it/s]"
          ]
        },
        {
          "name": "stdout",
          "output_type": "stream",
          "text": [
            "straight chair + There are no legs attached to the chair.  ->  a straight chair without legs attached to the chair\n"
          ]
        },
        {
          "name": "stderr",
          "output_type": "stream",
          "text": [
            "  2%|▏         | 1301/74812 [01:44<7:08:56,  2.86it/s]"
          ]
        },
        {
          "name": "stdout",
          "output_type": "stream",
          "text": [
            "chair + Wider seat  ->  a chair with a wide seat\n"
          ]
        },
        {
          "name": "stderr",
          "output_type": "stream",
          "text": [
            "  2%|▏         | 1401/74812 [02:18<7:18:35,  2.79it/s]"
          ]
        },
        {
          "name": "stdout",
          "output_type": "stream",
          "text": [
            "lounge chair + It is supported by a wooden back board  ->  a lounge chair that is supported by a wooden back board\n"
          ]
        },
        {
          "name": "stderr",
          "output_type": "stream",
          "text": [
            "  2%|▏         | 1501/74812 [02:53<7:52:32,  2.59it/s]"
          ]
        },
        {
          "name": "stdout",
          "output_type": "stream",
          "text": [
            "chair + Target chair is all one piece.  ->  a chair that is all one piece\n"
          ]
        },
        {
          "name": "stderr",
          "output_type": "stream",
          "text": [
            "  2%|▏         | 1601/74812 [03:27<6:53:27,  2.95it/s]"
          ]
        },
        {
          "name": "stdout",
          "output_type": "stream",
          "text": [
            "side chair + rounded seat  ->  a side chair with a rounded seat\n"
          ]
        },
        {
          "name": "stderr",
          "output_type": "stream",
          "text": [
            "  2%|▏         | 1701/74812 [04:02<7:38:43,  2.66it/s]"
          ]
        },
        {
          "name": "stdout",
          "output_type": "stream",
          "text": [
            "chair + The target is a desk chair.  ->  a desk chair\n"
          ]
        },
        {
          "name": "stderr",
          "output_type": "stream",
          "text": [
            "  2%|▏         | 1801/74812 [04:35<5:59:29,  3.38it/s]"
          ]
        },
        {
          "name": "stdout",
          "output_type": "stream",
          "text": [
            "chair + The target has thin spindle legs.  ->  a chair with thin spindle legs\n"
          ]
        },
        {
          "name": "stderr",
          "output_type": "stream",
          "text": [
            "  3%|▎         | 1901/74812 [05:09<8:11:02,  2.47it/s]"
          ]
        },
        {
          "name": "stdout",
          "output_type": "stream",
          "text": [
            "folding chair + Chair on the left is one whole piece, the right chair does not.  ->  a folding chair that is one whole piece\n"
          ]
        },
        {
          "name": "stderr",
          "output_type": "stream",
          "text": [
            "  3%|▎         | 2001/74812 [05:43<7:14:18,  2.79it/s]"
          ]
        },
        {
          "name": "stdout",
          "output_type": "stream",
          "text": [
            "armchair + The armrests do not extend to the edge of the seat  ->  an armchair with no armrests\n"
          ]
        },
        {
          "name": "stderr",
          "output_type": "stream",
          "text": [
            "  3%|▎         | 2101/74812 [06:18<6:32:07,  3.09it/s]"
          ]
        },
        {
          "name": "stdout",
          "output_type": "stream",
          "text": [
            "side chair + The target has a round seat.  ->  a side chair with a round seat\n"
          ]
        },
        {
          "name": "stderr",
          "output_type": "stream",
          "text": [
            "  3%|▎         | 2201/74812 [06:54<6:26:54,  3.13it/s] "
          ]
        },
        {
          "name": "stdout",
          "output_type": "stream",
          "text": [
            "lounge chair + does not have five star feet  ->  a lounge chair without five star feet\n"
          ]
        },
        {
          "name": "stderr",
          "output_type": "stream",
          "text": [
            "  3%|▎         | 2301/74812 [07:28<6:18:27,  3.19it/s]"
          ]
        },
        {
          "name": "stdout",
          "output_type": "stream",
          "text": [
            "straight chair + the legs are taller  ->  a straight chair with tall legs\n"
          ]
        },
        {
          "name": "stderr",
          "output_type": "stream",
          "text": [
            "  3%|▎         | 2401/74812 [08:01<5:54:02,  3.41it/s]"
          ]
        },
        {
          "name": "stdout",
          "output_type": "stream",
          "text": [
            "chair + the legs don't taper out as much  ->  a chair with four legs\n"
          ]
        },
        {
          "name": "stderr",
          "output_type": "stream",
          "text": [
            "  3%|▎         | 2501/74812 [08:35<7:31:06,  2.67it/s]"
          ]
        },
        {
          "name": "stdout",
          "output_type": "stream",
          "text": [
            "chair + The backrest is solid with no spindles.  ->  a chair with a solid backrest\n"
          ]
        },
        {
          "name": "stderr",
          "output_type": "stream",
          "text": [
            "  3%|▎         | 2601/74812 [09:09<6:34:09,  3.05it/s]"
          ]
        },
        {
          "name": "stdout",
          "output_type": "stream",
          "text": [
            "side chair + It has a smaller backrest.  ->  a side chair with a small backrest\n"
          ]
        },
        {
          "name": "stderr",
          "output_type": "stream",
          "text": [
            "  4%|▎         | 2701/74812 [09:43<7:11:28,  2.79it/s]"
          ]
        },
        {
          "name": "stdout",
          "output_type": "stream",
          "text": [
            "armchair + The seat is wide  ->  an armchair with a wide seat\n"
          ]
        },
        {
          "name": "stderr",
          "output_type": "stream",
          "text": [
            "  4%|▎         | 2801/74812 [10:18<6:42:13,  2.98it/s]"
          ]
        },
        {
          "name": "stdout",
          "output_type": "stream",
          "text": [
            "armchair + Its back is smaller  ->  an armchair with a small back\n"
          ]
        },
        {
          "name": "stderr",
          "output_type": "stream",
          "text": [
            "  4%|▍         | 2901/74812 [10:52<8:16:48,  2.41it/s]"
          ]
        },
        {
          "name": "stdout",
          "output_type": "stream",
          "text": [
            "rex chair + The seat and back have both horizontal and vertical wires  ->  a rex chair with a seat and back that have both horizontal and vertical wires\n"
          ]
        },
        {
          "name": "stderr",
          "output_type": "stream",
          "text": [
            "  4%|▍         | 3001/74812 [11:26<7:15:00,  2.75it/s]"
          ]
        },
        {
          "name": "stdout",
          "output_type": "stream",
          "text": [
            "chair + The targets backrest has a rectangular design engraved in it  ->  a chair with a rectangular design engraved in its backrest\n"
          ]
        },
        {
          "name": "stderr",
          "output_type": "stream",
          "text": [
            "  4%|▍         | 3101/74812 [12:01<7:06:15,  2.80it/s]"
          ]
        },
        {
          "name": "stdout",
          "output_type": "stream",
          "text": [
            "recliner + The targets back rest is not as wide.  ->  a recliner with a thin back rest\n"
          ]
        },
        {
          "name": "stderr",
          "output_type": "stream",
          "text": [
            "  4%|▍         | 3201/74812 [12:35<6:32:51,  3.04it/s]"
          ]
        },
        {
          "name": "stdout",
          "output_type": "stream",
          "text": [
            "chair + The legs of the chair are taller and wider.  ->  a chair with tall and wide legs\n"
          ]
        },
        {
          "name": "stderr",
          "output_type": "stream",
          "text": [
            "  4%|▍         | 3301/74812 [13:10<7:40:52,  2.59it/s]"
          ]
        },
        {
          "name": "stdout",
          "output_type": "stream",
          "text": [
            "chair + The seat cushion tapers less and appears more squared  ->  a chair with a less tapers and more squared seat cushion\n"
          ]
        },
        {
          "name": "stderr",
          "output_type": "stream",
          "text": [
            "  5%|▍         | 3401/74812 [13:44<7:19:32,  2.71it/s]"
          ]
        },
        {
          "name": "stdout",
          "output_type": "stream",
          "text": [
            "chair + The legs of the chair are more ornate.  ->  a chair with ornate legs\n"
          ]
        },
        {
          "name": "stderr",
          "output_type": "stream",
          "text": [
            "  5%|▍         | 3501/74812 [14:18<7:09:54,  2.76it/s]"
          ]
        },
        {
          "name": "stdout",
          "output_type": "stream",
          "text": [
            "straight chair + the back is oval shaped  ->  a straight chair with an oval shaped back\n"
          ]
        },
        {
          "name": "stderr",
          "output_type": "stream",
          "text": [
            "  5%|▍         | 3601/74812 [14:53<8:13:19,  2.41it/s]"
          ]
        },
        {
          "name": "stdout",
          "output_type": "stream",
          "text": [
            "straight chair + THe target has 4 legs that are rectangular shaped and are straight up and down.  ->  a straight chair with 4 legs that are rectangular shaped and are straight up and down\n"
          ]
        },
        {
          "name": "stderr",
          "output_type": "stream",
          "text": [
            "  5%|▍         | 3701/74812 [15:28<6:42:16,  2.95it/s] "
          ]
        },
        {
          "name": "stdout",
          "output_type": "stream",
          "text": [
            "swivel chair + The back is straighter  ->  a swivel chair with a straight back\n"
          ]
        },
        {
          "name": "stderr",
          "output_type": "stream",
          "text": [
            "  5%|▌         | 3801/74812 [16:02<6:20:41,  3.11it/s]"
          ]
        },
        {
          "name": "stdout",
          "output_type": "stream",
          "text": [
            "chair + The chair is not a lounge.  ->  a chair that is not a lounge\n"
          ]
        },
        {
          "name": "stderr",
          "output_type": "stream",
          "text": [
            "  5%|▌         | 3901/74812 [16:38<5:40:34,  3.47it/s]"
          ]
        },
        {
          "name": "stdout",
          "output_type": "stream",
          "text": [
            "chair + Target has thinner legs  ->  a chair with thin legs\n"
          ]
        },
        {
          "name": "stderr",
          "output_type": "stream",
          "text": [
            "  5%|▌         | 4001/74812 [17:13<6:16:51,  3.13it/s]"
          ]
        },
        {
          "name": "stdout",
          "output_type": "stream",
          "text": [
            "armchair + The top of the back is straight  ->  a chair with a straight top of its back\n"
          ]
        },
        {
          "name": "stderr",
          "output_type": "stream",
          "text": [
            "  5%|▌         | 4101/74812 [17:47<5:30:30,  3.57it/s]"
          ]
        },
        {
          "name": "stdout",
          "output_type": "stream",
          "text": [
            "chair + The target resembles a desk chair  ->  a desk chair\n"
          ]
        },
        {
          "name": "stderr",
          "output_type": "stream",
          "text": [
            "  6%|▌         | 4201/74812 [18:20<6:00:17,  3.27it/s]"
          ]
        },
        {
          "name": "stdout",
          "output_type": "stream",
          "text": [
            "chair + It has one cylindrical leg, NOT two slab-like legs  ->  a chair with one cylindrical leg\n"
          ]
        },
        {
          "name": "stderr",
          "output_type": "stream",
          "text": [
            "  6%|▌         | 4302/74812 [18:56<6:21:35,  3.08it/s]"
          ]
        },
        {
          "name": "stdout",
          "output_type": "stream",
          "text": [
            "armchair + Target chair is smaller.  ->  a small armchair\n"
          ]
        },
        {
          "name": "stderr",
          "output_type": "stream",
          "text": [
            "  6%|▌         | 4401/74812 [19:29<5:55:06,  3.30it/s]"
          ]
        },
        {
          "name": "stdout",
          "output_type": "stream",
          "text": [
            "chair + The target has a rounded back  ->  a chair with a rounded back\n"
          ]
        },
        {
          "name": "stderr",
          "output_type": "stream",
          "text": [
            "  6%|▌         | 4501/74812 [20:03<5:48:34,  3.36it/s]"
          ]
        },
        {
          "name": "stdout",
          "output_type": "stream",
          "text": [
            "armchair + It looks more comfortable  ->  an armchair that looks comfortable\n"
          ]
        },
        {
          "name": "stderr",
          "output_type": "stream",
          "text": [
            "  6%|▌         | 4601/74812 [20:38<6:57:06,  2.81it/s]"
          ]
        },
        {
          "name": "stdout",
          "output_type": "stream",
          "text": [
            "armchair + holes in the seat  ->  an armchair with holes in the seat\n"
          ]
        },
        {
          "name": "stderr",
          "output_type": "stream",
          "text": [
            "  6%|▋         | 4701/74812 [21:12<6:30:15,  2.99it/s]"
          ]
        },
        {
          "name": "stdout",
          "output_type": "stream",
          "text": [
            "overstuffed chair + The target's head rest is longer than the back.  ->  an overstuffed chair with a long head rest\n"
          ]
        },
        {
          "name": "stderr",
          "output_type": "stream",
          "text": [
            "  6%|▋         | 4801/74812 [21:49<6:05:09,  3.20it/s]"
          ]
        },
        {
          "name": "stdout",
          "output_type": "stream",
          "text": [
            "chair + Target chair has a rounded back.  ->  a chair with a rounded back\n"
          ]
        },
        {
          "name": "stderr",
          "output_type": "stream",
          "text": [
            "  7%|▋         | 4901/74812 [22:24<6:27:42,  3.01it/s]"
          ]
        },
        {
          "name": "stdout",
          "output_type": "stream",
          "text": [
            "side chair + It looks more modern  ->  a side chair that looks modern\n"
          ]
        },
        {
          "name": "stderr",
          "output_type": "stream",
          "text": [
            "  7%|▋         | 5001/74812 [23:00<6:25:53,  3.02it/s]"
          ]
        },
        {
          "name": "stdout",
          "output_type": "stream",
          "text": [
            "side chair + The top curves back.  ->  a side chair with a top that curves back\n"
          ]
        },
        {
          "name": "stderr",
          "output_type": "stream",
          "text": [
            "  7%|▋         | 5101/74812 [23:33<6:25:35,  3.01it/s]"
          ]
        },
        {
          "name": "stdout",
          "output_type": "stream",
          "text": [
            "club chair + The back and the arms are one connected unit  ->  a club chair with a back and arms that are one connected unit\n"
          ]
        },
        {
          "name": "stderr",
          "output_type": "stream",
          "text": [
            "  7%|▋         | 5201/74812 [24:07<6:43:45,  2.87it/s]"
          ]
        },
        {
          "name": "stdout",
          "output_type": "stream",
          "text": [
            "folding chair + The target's top back is straight.  ->  a folding chair with a straight top back\n"
          ]
        },
        {
          "name": "stderr",
          "output_type": "stream",
          "text": [
            "  7%|▋         | 5301/74812 [24:41<8:22:22,  2.31it/s]"
          ]
        },
        {
          "name": "stdout",
          "output_type": "stream",
          "text": [
            "straight chair + The front chair legs are narrow and slanted back  ->  a straight chair with narrow and slanted back chair legs\n"
          ]
        },
        {
          "name": "stderr",
          "output_type": "stream",
          "text": [
            "  7%|▋         | 5401/74812 [25:15<7:28:33,  2.58it/s]"
          ]
        },
        {
          "name": "stdout",
          "output_type": "stream",
          "text": [
            "club chair + It looks more like a couch  ->  a club chair that looks more like a couch\n"
          ]
        },
        {
          "name": "stderr",
          "output_type": "stream",
          "text": [
            "  7%|▋         | 5502/74812 [25:50<6:10:11,  3.12it/s]"
          ]
        },
        {
          "name": "stdout",
          "output_type": "stream",
          "text": [
            "garden chair + The seat is much lower.  ->  a garden chair with a low seat\n"
          ]
        },
        {
          "name": "stderr",
          "output_type": "stream",
          "text": [
            "  7%|▋         | 5601/74812 [26:25<6:27:20,  2.98it/s]"
          ]
        },
        {
          "name": "stdout",
          "output_type": "stream",
          "text": [
            "chair + it's legs are thinner and round  ->  a chair with thin and round legs\n"
          ]
        },
        {
          "name": "stderr",
          "output_type": "stream",
          "text": [
            "  8%|▊         | 5701/74812 [27:00<5:59:54,  3.20it/s]"
          ]
        },
        {
          "name": "stdout",
          "output_type": "stream",
          "text": [
            "chair + It has a wider base  ->  a chair with a wide base\n"
          ]
        },
        {
          "name": "stderr",
          "output_type": "stream",
          "text": [
            "  8%|▊         | 5801/74812 [27:36<6:15:10,  3.07it/s]"
          ]
        },
        {
          "name": "stdout",
          "output_type": "stream",
          "text": [
            "swivel chair + the chair is higher  ->  a swivel chair that is high\n"
          ]
        },
        {
          "name": "stderr",
          "output_type": "stream",
          "text": [
            "  8%|▊         | 5901/74812 [28:09<5:50:51,  3.27it/s]"
          ]
        },
        {
          "name": "stdout",
          "output_type": "stream",
          "text": [
            "club chair + The front legs are thinner  ->  a club chair with thin front legs\n"
          ]
        },
        {
          "name": "stderr",
          "output_type": "stream",
          "text": [
            "  8%|▊         | 6001/74812 [28:44<7:02:21,  2.72it/s]"
          ]
        },
        {
          "name": "stdout",
          "output_type": "stream",
          "text": [
            "straight chair + The target chair's back piece is all one piece.  ->  a straight chair with a back piece that is all one piece\n"
          ]
        },
        {
          "name": "stderr",
          "output_type": "stream",
          "text": [
            "  8%|▊         | 6101/74812 [29:19<5:48:55,  3.28it/s]"
          ]
        },
        {
          "name": "stdout",
          "output_type": "stream",
          "text": [
            "chair + has arm rest  ->  a chair with arm rest\n"
          ]
        },
        {
          "name": "stderr",
          "output_type": "stream",
          "text": [
            "  8%|▊         | 6201/74812 [29:55<7:31:30,  2.53it/s]"
          ]
        },
        {
          "name": "stdout",
          "output_type": "stream",
          "text": [
            "chair + The legs are much wider  ->  a chair with wide legs\n"
          ]
        },
        {
          "name": "stderr",
          "output_type": "stream",
          "text": [
            "  8%|▊         | 6301/74812 [30:29<6:18:10,  3.02it/s]"
          ]
        },
        {
          "name": "stdout",
          "output_type": "stream",
          "text": [
            "rocking chair + It has a padded back  ->  a rocking chair with a padded back\n"
          ]
        },
        {
          "name": "stderr",
          "output_type": "stream",
          "text": [
            "  9%|▊         | 6401/74812 [31:04<7:06:55,  2.67it/s]"
          ]
        },
        {
          "name": "stdout",
          "output_type": "stream",
          "text": [
            "armchair + It has a thicker back  ->  an armchair with a thick back\n"
          ]
        },
        {
          "name": "stderr",
          "output_type": "stream",
          "text": [
            "  9%|▊         | 6501/74812 [31:38<6:21:39,  2.98it/s]"
          ]
        },
        {
          "name": "stdout",
          "output_type": "stream",
          "text": [
            "overstuffed chair + The target is square shaped.  ->  a overstuffed chair that is square shaped\n"
          ]
        },
        {
          "name": "stderr",
          "output_type": "stream",
          "text": [
            "  9%|▉         | 6601/74812 [32:14<7:31:13,  2.52it/s]"
          ]
        },
        {
          "name": "stdout",
          "output_type": "stream",
          "text": [
            "side chair + It has a taller back  ->  a side chair with a tall back\n"
          ]
        },
        {
          "name": "stderr",
          "output_type": "stream",
          "text": [
            "  9%|▉         | 6701/74812 [32:48<6:19:19,  2.99it/s] "
          ]
        },
        {
          "name": "stdout",
          "output_type": "stream",
          "text": [
            "side chair + It has a rectangular back  ->  a side chair with a rectangular back\n"
          ]
        },
        {
          "name": "stderr",
          "output_type": "stream",
          "text": [
            "  9%|▉         | 6801/74812 [33:24<5:59:45,  3.15it/s]"
          ]
        },
        {
          "name": "stdout",
          "output_type": "stream",
          "text": [
            "armchair + The target has a rounded back.  ->  a chair with a rounded back\n"
          ]
        },
        {
          "name": "stderr",
          "output_type": "stream",
          "text": [
            "  9%|▉         | 6901/74812 [33:59<7:23:13,  2.55it/s]"
          ]
        },
        {
          "name": "stdout",
          "output_type": "stream",
          "text": [
            "swivel chair + It is a computer chair  ->  a swivel chair that is a computer chair\n"
          ]
        },
        {
          "name": "stderr",
          "output_type": "stream",
          "text": [
            "  9%|▉         | 7001/74812 [34:36<6:11:07,  3.05it/s] "
          ]
        },
        {
          "name": "stdout",
          "output_type": "stream",
          "text": [
            "chair + It is an office chair  ->  an office chair\n"
          ]
        },
        {
          "name": "stderr",
          "output_type": "stream",
          "text": [
            "  9%|▉         | 7101/74812 [35:10<6:56:05,  2.71it/s]"
          ]
        },
        {
          "name": "stdout",
          "output_type": "stream",
          "text": [
            "chair + Its arms do not curve around to form the legs  ->  a chair that its arms do not curve around to form the legs\n"
          ]
        },
        {
          "name": "stderr",
          "output_type": "stream",
          "text": [
            " 10%|▉         | 7201/74812 [35:46<7:44:40,  2.42it/s]"
          ]
        },
        {
          "name": "stdout",
          "output_type": "stream",
          "text": [
            "armchair + The backrest is decorated with a design  ->  an armchair with a backrest that is decorated with a design\n"
          ]
        },
        {
          "name": "stderr",
          "output_type": "stream",
          "text": [
            " 10%|▉         | 7301/74812 [36:20<5:21:00,  3.51it/s]"
          ]
        },
        {
          "name": "stdout",
          "output_type": "stream",
          "text": [
            "armchair + It does not have a top rail.  ->  a club chair without arms\n"
          ]
        },
        {
          "name": "stderr",
          "output_type": "stream",
          "text": [
            " 10%|▉         | 7401/74812 [36:56<6:21:04,  2.95it/s]"
          ]
        },
        {
          "name": "stdout",
          "output_type": "stream",
          "text": [
            "straight chair + The legs are more ornate.  ->  a straight chair with ornate legs\n"
          ]
        },
        {
          "name": "stderr",
          "output_type": "stream",
          "text": [
            " 10%|█         | 7501/74812 [37:31<6:20:56,  2.94it/s]"
          ]
        },
        {
          "name": "stdout",
          "output_type": "stream",
          "text": [
            "side chair + The target has curved H spindles.  ->  a side chair with curved H spindles\n"
          ]
        },
        {
          "name": "stderr",
          "output_type": "stream",
          "text": [
            " 10%|█         | 7601/74812 [38:05<6:09:02,  3.04it/s]"
          ]
        },
        {
          "name": "stdout",
          "output_type": "stream",
          "text": [
            "club chair + The arm rests of the chair are wider  ->  a club chair with wide arm rests\n"
          ]
        },
        {
          "name": "stderr",
          "output_type": "stream",
          "text": [
            " 10%|█         | 7701/74812 [38:40<5:36:57,  3.32it/s]"
          ]
        },
        {
          "name": "stdout",
          "output_type": "stream",
          "text": [
            "chair + The target has armrests.  ->  a chair with armrests\n"
          ]
        },
        {
          "name": "stderr",
          "output_type": "stream",
          "text": [
            " 10%|█         | 7801/74812 [39:15<6:35:48,  2.82it/s]"
          ]
        },
        {
          "name": "stdout",
          "output_type": "stream",
          "text": [
            "chair + It does not look like an office chair  ->  a chair that does not look like an office chair\n"
          ]
        },
        {
          "name": "stderr",
          "output_type": "stream",
          "text": [
            " 11%|█         | 7901/74812 [39:50<6:43:22,  2.76it/s]"
          ]
        },
        {
          "name": "stdout",
          "output_type": "stream",
          "text": [
            "chair + The back back of the chair is solid  ->  a chair with a solid back\n"
          ]
        },
        {
          "name": "stderr",
          "output_type": "stream",
          "text": [
            " 11%|█         | 8001/74812 [40:25<7:25:44,  2.50it/s]"
          ]
        },
        {
          "name": "stdout",
          "output_type": "stream",
          "text": [
            "side chair + The target chair has four little nublike circle things on its apron.  ->  a side chair with four little nublike circle things on its apron\n"
          ]
        },
        {
          "name": "stderr",
          "output_type": "stream",
          "text": [
            " 11%|█         | 8101/74812 [41:02<7:42:22,  2.40it/s]"
          ]
        },
        {
          "name": "stdout",
          "output_type": "stream",
          "text": [
            "straight chair + It has panel back and back legs.  ->  a straight chair with panel back and back legs\n"
          ]
        },
        {
          "name": "stderr",
          "output_type": "stream",
          "text": [
            " 11%|█         | 8201/74812 [41:39<7:05:19,  2.61it/s]"
          ]
        },
        {
          "name": "stdout",
          "output_type": "stream",
          "text": [
            "side chair + The back has an arched cut out.  ->  a side chair with an arched cut out back\n"
          ]
        },
        {
          "name": "stderr",
          "output_type": "stream",
          "text": [
            " 11%|█         | 8301/74812 [42:15<5:41:13,  3.25it/s]"
          ]
        },
        {
          "name": "stdout",
          "output_type": "stream",
          "text": [
            "straight chair + The legs are taller in stature  ->  a straight chair with tall legs\n"
          ]
        },
        {
          "name": "stderr",
          "output_type": "stream",
          "text": [
            " 11%|█         | 8401/74812 [42:51<6:11:49,  2.98it/s]"
          ]
        },
        {
          "name": "stdout",
          "output_type": "stream",
          "text": [
            "chair + The top of the headrest is rounded  ->  a chair with a rounded headrest\n"
          ]
        },
        {
          "name": "stderr",
          "output_type": "stream",
          "text": [
            " 11%|█▏        | 8501/74812 [43:26<5:40:28,  3.25it/s]"
          ]
        },
        {
          "name": "stdout",
          "output_type": "stream",
          "text": [
            "side chair + The target chair has legs.  ->  a side chair with legs\n"
          ]
        },
        {
          "name": "stderr",
          "output_type": "stream",
          "text": [
            " 11%|█▏        | 8601/74812 [44:00<7:19:49,  2.51it/s]"
          ]
        },
        {
          "name": "stdout",
          "output_type": "stream",
          "text": [
            "chair + the chair stands atop a single, cylindrical leg  ->  a chair that stands atop a single, cylindrical leg\n"
          ]
        },
        {
          "name": "stderr",
          "output_type": "stream",
          "text": [
            " 12%|█▏        | 8701/74812 [44:34<6:33:50,  2.80it/s]"
          ]
        },
        {
          "name": "stdout",
          "output_type": "stream",
          "text": [
            "side chair + There is no open space in its back.  ->  a side chair without open space in its back\n"
          ]
        },
        {
          "name": "stderr",
          "output_type": "stream",
          "text": [
            " 12%|█▏        | 8802/74812 [45:08<5:19:50,  3.44it/s]"
          ]
        },
        {
          "name": "stdout",
          "output_type": "stream",
          "text": [
            "Windsor chair + There are armrests  ->  a chair with a circular seat\n"
          ]
        },
        {
          "name": "stderr",
          "output_type": "stream",
          "text": [
            " 12%|█▏        | 8901/74812 [45:41<7:00:11,  2.61it/s]"
          ]
        },
        {
          "name": "stdout",
          "output_type": "stream",
          "text": [
            "straight chair + The target chair has longer legs.  ->  a straight chair with long legs\n"
          ]
        },
        {
          "name": "stderr",
          "output_type": "stream",
          "text": [
            " 12%|█▏        | 9001/74812 [46:17<6:09:47,  2.97it/s]"
          ]
        },
        {
          "name": "stdout",
          "output_type": "stream",
          "text": [
            "straight chair + it has 4 straight legs  ->  a straight chair with 4 straight legs\n"
          ]
        },
        {
          "name": "stderr",
          "output_type": "stream",
          "text": [
            " 12%|█▏        | 9101/74812 [46:52<6:21:51,  2.87it/s]"
          ]
        },
        {
          "name": "stdout",
          "output_type": "stream",
          "text": [
            "side chair + Its back and seat are wider  ->  a side chair with a wide back and seat\n"
          ]
        },
        {
          "name": "stderr",
          "output_type": "stream",
          "text": [
            " 12%|█▏        | 9201/74812 [47:29<6:31:58,  2.79it/s]"
          ]
        },
        {
          "name": "stdout",
          "output_type": "stream",
          "text": [
            "chair + The target chair has a foot rest.  ->  a chair with a foot rest\n"
          ]
        },
        {
          "name": "stderr",
          "output_type": "stream",
          "text": [
            " 12%|█▏        | 9301/74812 [48:04<5:47:39,  3.14it/s]"
          ]
        },
        {
          "name": "stdout",
          "output_type": "stream",
          "text": [
            "chair + The back is solid with no holes or spindles  ->  a chair with a solid back\n"
          ]
        },
        {
          "name": "stderr",
          "output_type": "stream",
          "text": [
            " 13%|█▎        | 9401/74812 [48:39<6:31:25,  2.79it/s]"
          ]
        },
        {
          "name": "stdout",
          "output_type": "stream",
          "text": [
            "side chair + The legs are shorter  ->  a side chair with short legs\n"
          ]
        },
        {
          "name": "stderr",
          "output_type": "stream",
          "text": [
            " 13%|█▎        | 9501/74812 [49:13<6:32:33,  2.77it/s]"
          ]
        },
        {
          "name": "stdout",
          "output_type": "stream",
          "text": [
            "side chair + You won't find it in an office  ->  a side chair that you won't find it in an office\n"
          ]
        },
        {
          "name": "stderr",
          "output_type": "stream",
          "text": [
            " 13%|█▎        | 9601/74812 [49:48<5:47:19,  3.13it/s]"
          ]
        },
        {
          "name": "stdout",
          "output_type": "stream",
          "text": [
            "chair + The back is grated, not solid  ->  a chair with a grated back\n"
          ]
        },
        {
          "name": "stderr",
          "output_type": "stream",
          "text": [
            " 13%|█▎        | 9701/74812 [50:23<6:10:56,  2.93it/s]"
          ]
        },
        {
          "name": "stdout",
          "output_type": "stream",
          "text": [
            "straight chair + It has a square shaped back  ->  a straight chair with a square shaped back\n"
          ]
        },
        {
          "name": "stderr",
          "output_type": "stream",
          "text": [
            " 13%|█▎        | 9801/74812 [50:57<5:49:38,  3.10it/s]"
          ]
        },
        {
          "name": "stdout",
          "output_type": "stream",
          "text": [
            "armchair + It has 4 square legs  ->  an armchair with 4 square legs\n"
          ]
        },
        {
          "name": "stderr",
          "output_type": "stream",
          "text": [
            " 13%|█▎        | 9902/74812 [51:30<5:21:34,  3.36it/s]"
          ]
        },
        {
          "name": "stdout",
          "output_type": "stream",
          "text": [
            "chair + target has triangular point on seat back  ->  a chair with a triangular point on its seat back\n"
          ]
        },
        {
          "name": "stderr",
          "output_type": "stream",
          "text": [
            " 13%|█▎        | 10001/74812 [52:04<7:42:29,  2.34it/s]"
          ]
        },
        {
          "name": "stdout",
          "output_type": "stream",
          "text": [
            "chair + It does not have a heart shape cutout on the back rest  ->  a chair that its back rest does not have a heart shape cutout\n"
          ]
        },
        {
          "name": "stderr",
          "output_type": "stream",
          "text": [
            " 14%|█▎        | 10101/74812 [52:38<5:12:44,  3.45it/s]"
          ]
        },
        {
          "name": "stdout",
          "output_type": "stream",
          "text": [
            "chair + It has a much shorter back  ->  a chair with a short back\n"
          ]
        },
        {
          "name": "stderr",
          "output_type": "stream",
          "text": [
            " 14%|█▎        | 10201/74812 [53:12<5:22:13,  3.34it/s]"
          ]
        },
        {
          "name": "stdout",
          "output_type": "stream",
          "text": [
            "cantilever chair + target has longer lenght  ->  a cantilever chair with a long length\n"
          ]
        },
        {
          "name": "stderr",
          "output_type": "stream",
          "text": [
            " 14%|█▍        | 10301/74812 [53:48<7:12:29,  2.49it/s]"
          ]
        },
        {
          "name": "stdout",
          "output_type": "stream",
          "text": [
            "armchair + The target has two rectangular frames as its legs.  ->  an armchair with two rectangular frames as its legs\n"
          ]
        },
        {
          "name": "stderr",
          "output_type": "stream",
          "text": [
            " 14%|█▍        | 10401/74812 [54:22<7:39:12,  2.34it/s]"
          ]
        },
        {
          "name": "stdout",
          "output_type": "stream",
          "text": [
            "tulip chair + The target is shorter in length at the top.  ->  a tulip chair that is short in length at the top\n"
          ]
        },
        {
          "name": "stderr",
          "output_type": "stream",
          "text": [
            " 14%|█▍        | 10501/74812 [54:57<6:52:53,  2.60it/s]"
          ]
        },
        {
          "name": "stdout",
          "output_type": "stream",
          "text": [
            "side chair + It has a 3 sides base  ->  a side chair with 3 sides base\n"
          ]
        },
        {
          "name": "stderr",
          "output_type": "stream",
          "text": [
            " 14%|█▍        | 10601/74812 [55:32<5:52:03,  3.04it/s]"
          ]
        },
        {
          "name": "stdout",
          "output_type": "stream",
          "text": [
            "chair + the legs are thicker  ->  a chair with thick legs\n"
          ]
        },
        {
          "name": "stderr",
          "output_type": "stream",
          "text": [
            " 14%|█▍        | 10701/74812 [56:05<5:09:20,  3.45it/s]"
          ]
        },
        {
          "name": "stdout",
          "output_type": "stream",
          "text": [
            "chair + The target has arm rests.  ->  a chair with arm rests\n"
          ]
        },
        {
          "name": "stderr",
          "output_type": "stream",
          "text": [
            " 14%|█▍        | 10801/74812 [56:40<4:58:56,  3.57it/s]"
          ]
        },
        {
          "name": "stdout",
          "output_type": "stream",
          "text": [
            "chair + it has thinner legs  ->  a chair with thin legs\n"
          ]
        },
        {
          "name": "stderr",
          "output_type": "stream",
          "text": [
            " 15%|█▍        | 10901/74812 [57:15<6:15:53,  2.83it/s]"
          ]
        },
        {
          "name": "stdout",
          "output_type": "stream",
          "text": [
            "chaise + there is a footrest  ->  a chaise with a footrest\n"
          ]
        },
        {
          "name": "stderr",
          "output_type": "stream",
          "text": [
            " 15%|█▍        | 11001/74812 [57:48<5:19:47,  3.33it/s]"
          ]
        },
        {
          "name": "stdout",
          "output_type": "stream",
          "text": [
            "chair + The target does not have four legs.  ->  a chair with no legs\n"
          ]
        },
        {
          "name": "stderr",
          "output_type": "stream",
          "text": [
            " 15%|█▍        | 11101/74812 [58:22<6:12:57,  2.85it/s]"
          ]
        },
        {
          "name": "stdout",
          "output_type": "stream",
          "text": [
            "chair + The target looks more like a barbershop chair.  ->  a chair that looks like a barbershop chair\n"
          ]
        },
        {
          "name": "stderr",
          "output_type": "stream",
          "text": [
            " 15%|█▍        | 11201/74812 [58:57<6:46:52,  2.61it/s]"
          ]
        },
        {
          "name": "stdout",
          "output_type": "stream",
          "text": [
            "side chair + the seat is not full or ounded in the front  ->  a side chair with a seat that is not full or ounded in the front\n"
          ]
        },
        {
          "name": "stderr",
          "output_type": "stream",
          "text": [
            " 15%|█▌        | 11301/74812 [59:31<6:18:12,  2.80it/s]"
          ]
        },
        {
          "name": "stdout",
          "output_type": "stream",
          "text": [
            "chair + There are less than four legs attached to the chair.  ->  a chair with less than four legs attached\n"
          ]
        },
        {
          "name": "stderr",
          "output_type": "stream",
          "text": [
            " 15%|█▌        | 11401/74812 [1:00:06<5:52:52,  2.99it/s]"
          ]
        },
        {
          "name": "stdout",
          "output_type": "stream",
          "text": [
            "club chair + the legs are shorted  ->  a club chair with short legs\n"
          ]
        },
        {
          "name": "stderr",
          "output_type": "stream",
          "text": [
            " 15%|█▌        | 11501/74812 [1:00:40<5:32:48,  3.17it/s]"
          ]
        },
        {
          "name": "stdout",
          "output_type": "stream",
          "text": [
            "chair + The seat is square.  ->  a chair with a square seat\n"
          ]
        },
        {
          "name": "stderr",
          "output_type": "stream",
          "text": [
            " 16%|█▌        | 11601/74812 [1:01:15<6:04:58,  2.89it/s]"
          ]
        },
        {
          "name": "stdout",
          "output_type": "stream",
          "text": [
            "chair + The target's back resembles a tombstone.  ->  a chair with a tombstone shaped back\n"
          ]
        },
        {
          "name": "stderr",
          "output_type": "stream",
          "text": [
            " 16%|█▌        | 11701/74812 [1:01:50<7:14:06,  2.42it/s]"
          ]
        },
        {
          "name": "stdout",
          "output_type": "stream",
          "text": [
            "straight chair + The top of the headrest is not straight across  ->  a straight chair with a top of the headrest that is not straight across\n"
          ]
        },
        {
          "name": "stderr",
          "output_type": "stream",
          "text": [
            " 16%|█▌        | 11801/74812 [1:02:25<6:35:12,  2.66it/s]"
          ]
        },
        {
          "name": "stdout",
          "output_type": "stream",
          "text": [
            "chair + the legs are longer  ->  a chair with long legs\n"
          ]
        },
        {
          "name": "stderr",
          "output_type": "stream",
          "text": [
            " 16%|█▌        | 11901/74812 [1:03:01<5:02:05,  3.47it/s]"
          ]
        },
        {
          "name": "stdout",
          "output_type": "stream",
          "text": [
            "armchair + There are arm rests  ->  an armchair with arm rests\n"
          ]
        },
        {
          "name": "stderr",
          "output_type": "stream",
          "text": [
            " 16%|█▌        | 12001/74812 [1:03:35<6:15:28,  2.79it/s]"
          ]
        },
        {
          "name": "stdout",
          "output_type": "stream",
          "text": [
            "armchair + It has two angular legs/feet in teh front.  ->  a chair with two angular legs/feet in teh front\n"
          ]
        },
        {
          "name": "stderr",
          "output_type": "stream",
          "text": [
            " 16%|█▌        | 12101/74812 [1:04:10<5:11:37,  3.35it/s]"
          ]
        },
        {
          "name": "stdout",
          "output_type": "stream",
          "text": [
            "side chair + The are no traditional legs  ->  a side chair without traditional legs\n"
          ]
        },
        {
          "name": "stderr",
          "output_type": "stream",
          "text": [
            " 16%|█▋        | 12201/74812 [1:04:45<6:06:32,  2.85it/s]"
          ]
        },
        {
          "name": "stdout",
          "output_type": "stream",
          "text": [
            "straight chair + It has three visible legs.  ->  a straight chair with three visible legs\n"
          ]
        },
        {
          "name": "stderr",
          "output_type": "stream",
          "text": [
            " 16%|█▋        | 12301/74812 [1:05:21<8:17:23,  2.09it/s]"
          ]
        },
        {
          "name": "stdout",
          "output_type": "stream",
          "text": [
            "swivel chair + The wheels are directly attached to the legs, without any space in between.  ->  a swivel chair with wheels that are directly attached to the legs, without any space in between\n"
          ]
        },
        {
          "name": "stderr",
          "output_type": "stream",
          "text": [
            " 17%|█▋        | 12401/74812 [1:05:54<7:22:51,  2.35it/s]"
          ]
        },
        {
          "name": "stdout",
          "output_type": "stream",
          "text": [
            "club chair + The arms don't come from the top of the back of the chair.  ->  a club chair with arms that do not come from the top of the back of the chair\n"
          ]
        },
        {
          "name": "stderr",
          "output_type": "stream",
          "text": [
            " 17%|█▋        | 12501/74812 [1:06:30<6:57:51,  2.49it/s]"
          ]
        },
        {
          "name": "stdout",
          "output_type": "stream",
          "text": [
            "side chair + The target is not a rocking chair.  ->  a side chair that is not a rocking chair\n"
          ]
        },
        {
          "name": "stderr",
          "output_type": "stream",
          "text": [
            " 17%|█▋        | 12601/74812 [1:07:06<6:23:35,  2.70it/s]"
          ]
        },
        {
          "name": "stdout",
          "output_type": "stream",
          "text": [
            "folding chair + The back doesn't have slats.  ->  a folding chair with a back that does not have slats\n"
          ]
        },
        {
          "name": "stderr",
          "output_type": "stream",
          "text": [
            " 17%|█▋        | 12701/74812 [1:07:40<6:11:44,  2.78it/s]"
          ]
        },
        {
          "name": "stdout",
          "output_type": "stream",
          "text": [
            "chair + The target is more than one piece of furniture  ->  a chair that is more than one piece of furniture\n"
          ]
        },
        {
          "name": "stderr",
          "output_type": "stream",
          "text": [
            " 17%|█▋        | 12801/74812 [1:08:14<4:53:21,  3.52it/s]"
          ]
        },
        {
          "name": "stdout",
          "output_type": "stream",
          "text": [
            "armchair + Extremely tall arm chair  ->  a tall armchair\n"
          ]
        },
        {
          "name": "stderr",
          "output_type": "stream",
          "text": [
            " 17%|█▋        | 12901/74812 [1:08:48<5:40:16,  3.03it/s]"
          ]
        },
        {
          "name": "stdout",
          "output_type": "stream",
          "text": [
            "club chair + the legs are shorter  ->  a club chair with short legs\n"
          ]
        },
        {
          "name": "stderr",
          "output_type": "stream",
          "text": [
            " 17%|█▋        | 13001/74812 [1:09:25<6:31:27,  2.63it/s]"
          ]
        },
        {
          "name": "stdout",
          "output_type": "stream",
          "text": [
            "chair + the is a curved base  ->  a chair with a curved base\n"
          ]
        },
        {
          "name": "stderr",
          "output_type": "stream",
          "text": [
            " 18%|█▊        | 13101/74812 [1:10:00<5:51:34,  2.93it/s]"
          ]
        },
        {
          "name": "stdout",
          "output_type": "stream",
          "text": [
            "straight chair + the back is shorter  ->  a straight chair with a short back\n"
          ]
        },
        {
          "name": "stderr",
          "output_type": "stream",
          "text": [
            " 18%|█▊        | 13201/74812 [1:10:34<5:33:43,  3.08it/s]"
          ]
        },
        {
          "name": "stdout",
          "output_type": "stream",
          "text": [
            "chair + Its back is straight at the top  ->  a chair with a straight back\n"
          ]
        },
        {
          "name": "stderr",
          "output_type": "stream",
          "text": [
            " 18%|█▊        | 13301/74812 [1:11:09<5:56:17,  2.88it/s]"
          ]
        },
        {
          "name": "stdout",
          "output_type": "stream",
          "text": [
            "chair + The target has two lines for the chair back  ->  a chair with two lines for the chair back\n"
          ]
        },
        {
          "name": "stderr",
          "output_type": "stream",
          "text": [
            " 18%|█▊        | 13401/74812 [1:11:43<6:12:26,  2.75it/s]"
          ]
        },
        {
          "name": "stdout",
          "output_type": "stream",
          "text": [
            "chair + It has an arched back  ->  a chair with an arched back\n"
          ]
        },
        {
          "name": "stderr",
          "output_type": "stream",
          "text": [
            " 18%|█▊        | 13501/74812 [1:12:20<6:11:36,  2.75it/s]"
          ]
        },
        {
          "name": "stdout",
          "output_type": "stream",
          "text": [
            "straight chair + It has a gap in the back section.  ->  a straight chair with a gap in the back section\n"
          ]
        },
        {
          "name": "stderr",
          "output_type": "stream",
          "text": [
            " 18%|█▊        | 13601/74812 [1:12:56<6:21:41,  2.67it/s]"
          ]
        },
        {
          "name": "stdout",
          "output_type": "stream",
          "text": [
            "armchair + The second chairs has arms that lean outward away from the seat more than the first chair.  ->  a chair with two thin legs\n"
          ]
        },
        {
          "name": "stderr",
          "output_type": "stream",
          "text": [
            " 18%|█▊        | 13701/74812 [1:13:30<5:49:48,  2.91it/s]"
          ]
        },
        {
          "name": "stdout",
          "output_type": "stream",
          "text": [
            "chair + The target has horizontal slats across the back.  ->  a chair with horizontal slats across the back\n"
          ]
        },
        {
          "name": "stderr",
          "output_type": "stream",
          "text": [
            " 18%|█▊        | 13801/74812 [1:14:06<5:39:38,  2.99it/s]"
          ]
        },
        {
          "name": "stdout",
          "output_type": "stream",
          "text": [
            "side chair + The target is thinner  ->  a side chair that is thin\n"
          ]
        },
        {
          "name": "stderr",
          "output_type": "stream",
          "text": [
            " 19%|█▊        | 13901/74812 [1:14:41<6:16:47,  2.69it/s]"
          ]
        },
        {
          "name": "stdout",
          "output_type": "stream",
          "text": [
            "chair + has two ornate front legs and two plain back legs  ->  a chair with two ornate front legs and two plain back legs\n"
          ]
        },
        {
          "name": "stderr",
          "output_type": "stream",
          "text": [
            " 19%|█▊        | 14001/74812 [1:15:15<5:46:48,  2.92it/s]"
          ]
        },
        {
          "name": "stdout",
          "output_type": "stream",
          "text": [
            "armchair + chair arms not curved  ->  an armchair with arms not curved\n"
          ]
        },
        {
          "name": "stderr",
          "output_type": "stream",
          "text": [
            " 19%|█▉        | 14101/74812 [1:15:50<5:55:30,  2.85it/s]"
          ]
        },
        {
          "name": "stdout",
          "output_type": "stream",
          "text": [
            "side chair + the target has a square shaped back  ->  a side chair with a square shaped back\n"
          ]
        },
        {
          "name": "stderr",
          "output_type": "stream",
          "text": [
            " 19%|█▉        | 14201/74812 [1:16:24<5:20:23,  3.15it/s]"
          ]
        },
        {
          "name": "stdout",
          "output_type": "stream",
          "text": [
            "chair + Not a solid chair  ->  a chair that is not a solid chair\n"
          ]
        },
        {
          "name": "stderr",
          "output_type": "stream",
          "text": [
            " 19%|█▉        | 14301/74812 [1:16:59<4:37:01,  3.64it/s]"
          ]
        },
        {
          "name": "stdout",
          "output_type": "stream",
          "text": [
            "chair + Target is smaller  ->  a small chair\n"
          ]
        },
        {
          "name": "stderr",
          "output_type": "stream",
          "text": [
            " 19%|█▉        | 14401/74812 [1:17:34<5:57:01,  2.82it/s]"
          ]
        },
        {
          "name": "stdout",
          "output_type": "stream",
          "text": [
            "overstuffed chair + Target chair is not as bulky.  ->  a overstuffed chair that is not as bulky\n"
          ]
        },
        {
          "name": "stderr",
          "output_type": "stream",
          "text": [
            " 19%|█▉        | 14501/74812 [1:18:10<6:52:06,  2.44it/s]"
          ]
        },
        {
          "name": "stdout",
          "output_type": "stream",
          "text": [
            "chair + the target has holes in its back  ->  a chair with holes in its back\n"
          ]
        },
        {
          "name": "stderr",
          "output_type": "stream",
          "text": [
            " 20%|█▉        | 14601/74812 [1:18:46<5:48:31,  2.88it/s]"
          ]
        },
        {
          "name": "stdout",
          "output_type": "stream",
          "text": [
            "side chair + has squared holes on the back  ->  a side chair with squared holes on the back\n"
          ]
        },
        {
          "name": "stderr",
          "output_type": "stream",
          "text": [
            " 20%|█▉        | 14701/74812 [1:19:21<4:47:39,  3.48it/s]"
          ]
        },
        {
          "name": "stdout",
          "output_type": "stream",
          "text": [
            "chair + The seat section is higher from the ground.  ->  a chair with a high seat\n"
          ]
        },
        {
          "name": "stderr",
          "output_type": "stream",
          "text": [
            " 20%|█▉        | 14801/74812 [1:19:57<6:30:57,  2.56it/s]"
          ]
        },
        {
          "name": "stdout",
          "output_type": "stream",
          "text": [
            "cantilever chair + The shape of the legs are bent in one versus the other  ->  a cantilever chair with bent legs\n"
          ]
        },
        {
          "name": "stderr",
          "output_type": "stream",
          "text": [
            " 20%|█▉        | 14901/74812 [1:20:31<5:58:22,  2.79it/s]"
          ]
        },
        {
          "name": "stdout",
          "output_type": "stream",
          "text": [
            "chaise + Target has elongated seating  ->  a chaise with an elongated seating\n"
          ]
        },
        {
          "name": "stderr",
          "output_type": "stream",
          "text": [
            " 20%|██        | 15001/74812 [1:21:06<5:55:56,  2.80it/s]"
          ]
        },
        {
          "name": "stdout",
          "output_type": "stream",
          "text": [
            "side chair + The back rest is flatter and less curved.  ->  a side chair with a flat and less curved back rest\n"
          ]
        },
        {
          "name": "stderr",
          "output_type": "stream",
          "text": [
            " 20%|██        | 15040/74812 [1:21:19<5:23:11,  3.08it/s]\n"
          ]
        },
        {
          "ename": "KeyboardInterrupt",
          "evalue": "",
          "output_type": "error",
          "traceback": [
            "\u001b[0;31m---------------------------------------------------------------------------\u001b[0m",
            "\u001b[0;31mKeyboardInterrupt\u001b[0m                         Traceback (most recent call last)",
            "Cell \u001b[0;32mIn[44], line 40\u001b[0m\n\u001b[1;32m     31\u001b[0m     \u001b[38;5;28;01mcontinue\u001b[39;00m\n\u001b[1;32m     32\u001b[0m inputs \u001b[38;5;241m=\u001b[39m tokenizer(\n\u001b[1;32m     33\u001b[0m     [\n\u001b[1;32m     34\u001b[0m         alpaca_prompt\u001b[38;5;241m.\u001b[39mformat(\n\u001b[0;32m   (...)\u001b[0m\n\u001b[1;32m     38\u001b[0m         )\n\u001b[1;32m     39\u001b[0m     ], return_tensors\u001b[38;5;241m=\u001b[39m\u001b[38;5;124m\"\u001b[39m\u001b[38;5;124mpt\u001b[39m\u001b[38;5;124m\"\u001b[39m)\u001b[38;5;241m.\u001b[39mto(\u001b[38;5;124m\"\u001b[39m\u001b[38;5;124mcuda\u001b[39m\u001b[38;5;124m\"\u001b[39m)\n\u001b[0;32m---> 40\u001b[0m outputs \u001b[38;5;241m=\u001b[39m \u001b[43mmodel\u001b[49m\u001b[38;5;241;43m.\u001b[39;49m\u001b[43mgenerate\u001b[49m\u001b[43m(\u001b[49m\u001b[38;5;241;43m*\u001b[39;49m\u001b[38;5;241;43m*\u001b[39;49m\u001b[43minputs\u001b[49m\u001b[43m,\u001b[49m\u001b[43m \u001b[49m\u001b[43mmax_new_tokens\u001b[49m\u001b[38;5;241;43m=\u001b[39;49m\u001b[38;5;241;43m64\u001b[39;49m\u001b[43m,\u001b[49m\u001b[43m \u001b[49m\u001b[43muse_cache\u001b[49m\u001b[38;5;241;43m=\u001b[39;49m\u001b[38;5;28;43;01mTrue\u001b[39;49;00m\u001b[43m)\u001b[49m\n\u001b[1;32m     41\u001b[0m llama3_uttarance \u001b[38;5;241m=\u001b[39m tokenizer\u001b[38;5;241m.\u001b[39mbatch_decode(outputs)[\u001b[38;5;241m0\u001b[39m]\u001b[38;5;241m.\u001b[39msplit(\u001b[38;5;124m\"\u001b[39m\u001b[38;5;130;01m\\n\u001b[39;00m\u001b[38;5;124m\"\u001b[39m)[\u001b[38;5;241m-\u001b[39m\u001b[38;5;241m1\u001b[39m]\u001b[38;5;241m.\u001b[39mreplace(tokenizer\u001b[38;5;241m.\u001b[39meos_token, \u001b[38;5;124m\"\u001b[39m\u001b[38;5;124m\"\u001b[39m)\n\u001b[1;32m     42\u001b[0m \u001b[38;5;28;01mif\u001b[39;00m i \u001b[38;5;241m%\u001b[39m \u001b[38;5;241m100\u001b[39m \u001b[38;5;241m==\u001b[39m \u001b[38;5;241m0\u001b[39m:\n",
            "File \u001b[0;32m~/miniconda3/envs/shape_lora_sliders/lib/python3.10/site-packages/torch/utils/_contextlib.py:115\u001b[0m, in \u001b[0;36mcontext_decorator.<locals>.decorate_context\u001b[0;34m(*args, **kwargs)\u001b[0m\n\u001b[1;32m    112\u001b[0m \u001b[38;5;129m@functools\u001b[39m\u001b[38;5;241m.\u001b[39mwraps(func)\n\u001b[1;32m    113\u001b[0m \u001b[38;5;28;01mdef\u001b[39;00m \u001b[38;5;21mdecorate_context\u001b[39m(\u001b[38;5;241m*\u001b[39margs, \u001b[38;5;241m*\u001b[39m\u001b[38;5;241m*\u001b[39mkwargs):\n\u001b[1;32m    114\u001b[0m     \u001b[38;5;28;01mwith\u001b[39;00m ctx_factory():\n\u001b[0;32m--> 115\u001b[0m         \u001b[38;5;28;01mreturn\u001b[39;00m \u001b[43mfunc\u001b[49m\u001b[43m(\u001b[49m\u001b[38;5;241;43m*\u001b[39;49m\u001b[43margs\u001b[49m\u001b[43m,\u001b[49m\u001b[43m \u001b[49m\u001b[38;5;241;43m*\u001b[39;49m\u001b[38;5;241;43m*\u001b[39;49m\u001b[43mkwargs\u001b[49m\u001b[43m)\u001b[49m\n",
            "File \u001b[0;32m~/miniconda3/envs/shape_lora_sliders/lib/python3.10/site-packages/unsloth/models/llama.py:1087\u001b[0m, in \u001b[0;36m_wrap_fast_inference.<locals>._fast_generate\u001b[0;34m(*args, **kwargs)\u001b[0m\n\u001b[1;32m   1080\u001b[0m \u001b[38;5;66;03m# Set pad token\u001b[39;00m\n\u001b[1;32m   1081\u001b[0m \u001b[38;5;66;03m# old_pad_token_id = getattr(model.config, \"pad_token_id\", None)\u001b[39;00m\n\u001b[1;32m   1082\u001b[0m \u001b[38;5;66;03m# old_eos_token_id = getattr(model.config, \"eos_token_id\", None)\u001b[39;00m\n\u001b[1;32m   1083\u001b[0m \u001b[38;5;66;03m# model.config.pad_token_id = old_eos_token_id\u001b[39;00m\n\u001b[1;32m   1084\u001b[0m \n\u001b[1;32m   1085\u001b[0m \u001b[38;5;66;03m# Autocasted\u001b[39;00m\n\u001b[1;32m   1086\u001b[0m \u001b[38;5;28;01mwith\u001b[39;00m torch\u001b[38;5;241m.\u001b[39mautocast(device_type \u001b[38;5;241m=\u001b[39m device_type, dtype \u001b[38;5;241m=\u001b[39m dtype):\n\u001b[0;32m-> 1087\u001b[0m     output \u001b[38;5;241m=\u001b[39m \u001b[43mgenerate\u001b[49m\u001b[43m(\u001b[49m\u001b[38;5;241;43m*\u001b[39;49m\u001b[43margs\u001b[49m\u001b[43m,\u001b[49m\u001b[43m \u001b[49m\u001b[38;5;241;43m*\u001b[39;49m\u001b[38;5;241;43m*\u001b[39;49m\u001b[43mkwargs\u001b[49m\u001b[43m)\u001b[49m\n\u001b[1;32m   1088\u001b[0m \u001b[38;5;28;01mpass\u001b[39;00m\n\u001b[1;32m   1090\u001b[0m \u001b[38;5;66;03m# Revert\u001b[39;00m\n\u001b[1;32m   1091\u001b[0m \u001b[38;5;66;03m# model.config.pad_token_id = old_pad_token_id\u001b[39;00m\n\u001b[1;32m   1092\u001b[0m \n\u001b[1;32m   1093\u001b[0m \u001b[38;5;66;03m# Unset a flag for generation!\u001b[39;00m\n",
            "File \u001b[0;32m~/miniconda3/envs/shape_lora_sliders/lib/python3.10/site-packages/peft/peft_model.py:1190\u001b[0m, in \u001b[0;36mPeftModelForCausalLM.generate\u001b[0;34m(self, *args, **kwargs)\u001b[0m\n\u001b[1;32m   1188\u001b[0m     \u001b[38;5;28;01mwith\u001b[39;00m \u001b[38;5;28mself\u001b[39m\u001b[38;5;241m.\u001b[39m_enable_peft_forward_hooks(\u001b[38;5;241m*\u001b[39margs, \u001b[38;5;241m*\u001b[39m\u001b[38;5;241m*\u001b[39mkwargs):\n\u001b[1;32m   1189\u001b[0m         kwargs \u001b[38;5;241m=\u001b[39m {k: v \u001b[38;5;28;01mfor\u001b[39;00m k, v \u001b[38;5;129;01min\u001b[39;00m kwargs\u001b[38;5;241m.\u001b[39mitems() \u001b[38;5;28;01mif\u001b[39;00m k \u001b[38;5;129;01mnot\u001b[39;00m \u001b[38;5;129;01min\u001b[39;00m \u001b[38;5;28mself\u001b[39m\u001b[38;5;241m.\u001b[39mspecial_peft_forward_args}\n\u001b[0;32m-> 1190\u001b[0m         outputs \u001b[38;5;241m=\u001b[39m \u001b[38;5;28;43mself\u001b[39;49m\u001b[38;5;241;43m.\u001b[39;49m\u001b[43mbase_model\u001b[49m\u001b[38;5;241;43m.\u001b[39;49m\u001b[43mgenerate\u001b[49m\u001b[43m(\u001b[49m\u001b[38;5;241;43m*\u001b[39;49m\u001b[43margs\u001b[49m\u001b[43m,\u001b[49m\u001b[43m \u001b[49m\u001b[38;5;241;43m*\u001b[39;49m\u001b[38;5;241;43m*\u001b[39;49m\u001b[43mkwargs\u001b[49m\u001b[43m)\u001b[49m\n\u001b[1;32m   1191\u001b[0m \u001b[38;5;28;01melse\u001b[39;00m:\n\u001b[1;32m   1192\u001b[0m     outputs \u001b[38;5;241m=\u001b[39m \u001b[38;5;28mself\u001b[39m\u001b[38;5;241m.\u001b[39mbase_model\u001b[38;5;241m.\u001b[39mgenerate(\u001b[38;5;241m*\u001b[39m\u001b[38;5;241m*\u001b[39mkwargs)\n",
            "File \u001b[0;32m~/miniconda3/envs/shape_lora_sliders/lib/python3.10/site-packages/torch/utils/_contextlib.py:115\u001b[0m, in \u001b[0;36mcontext_decorator.<locals>.decorate_context\u001b[0;34m(*args, **kwargs)\u001b[0m\n\u001b[1;32m    112\u001b[0m \u001b[38;5;129m@functools\u001b[39m\u001b[38;5;241m.\u001b[39mwraps(func)\n\u001b[1;32m    113\u001b[0m \u001b[38;5;28;01mdef\u001b[39;00m \u001b[38;5;21mdecorate_context\u001b[39m(\u001b[38;5;241m*\u001b[39margs, \u001b[38;5;241m*\u001b[39m\u001b[38;5;241m*\u001b[39mkwargs):\n\u001b[1;32m    114\u001b[0m     \u001b[38;5;28;01mwith\u001b[39;00m ctx_factory():\n\u001b[0;32m--> 115\u001b[0m         \u001b[38;5;28;01mreturn\u001b[39;00m \u001b[43mfunc\u001b[49m\u001b[43m(\u001b[49m\u001b[38;5;241;43m*\u001b[39;49m\u001b[43margs\u001b[49m\u001b[43m,\u001b[49m\u001b[43m \u001b[49m\u001b[38;5;241;43m*\u001b[39;49m\u001b[38;5;241;43m*\u001b[39;49m\u001b[43mkwargs\u001b[49m\u001b[43m)\u001b[49m\n",
            "File \u001b[0;32m~/miniconda3/envs/shape_lora_sliders/lib/python3.10/site-packages/transformers/generation/utils.py:1914\u001b[0m, in \u001b[0;36mGenerationMixin.generate\u001b[0;34m(self, inputs, generation_config, logits_processor, stopping_criteria, prefix_allowed_tokens_fn, synced_gpus, assistant_model, streamer, negative_prompt_ids, negative_prompt_attention_mask, **kwargs)\u001b[0m\n\u001b[1;32m   1906\u001b[0m     input_ids, model_kwargs \u001b[38;5;241m=\u001b[39m \u001b[38;5;28mself\u001b[39m\u001b[38;5;241m.\u001b[39m_expand_inputs_for_generation(\n\u001b[1;32m   1907\u001b[0m         input_ids\u001b[38;5;241m=\u001b[39minput_ids,\n\u001b[1;32m   1908\u001b[0m         expand_size\u001b[38;5;241m=\u001b[39mgeneration_config\u001b[38;5;241m.\u001b[39mnum_return_sequences,\n\u001b[1;32m   1909\u001b[0m         is_encoder_decoder\u001b[38;5;241m=\u001b[39m\u001b[38;5;28mself\u001b[39m\u001b[38;5;241m.\u001b[39mconfig\u001b[38;5;241m.\u001b[39mis_encoder_decoder,\n\u001b[1;32m   1910\u001b[0m         \u001b[38;5;241m*\u001b[39m\u001b[38;5;241m*\u001b[39mmodel_kwargs,\n\u001b[1;32m   1911\u001b[0m     )\n\u001b[1;32m   1913\u001b[0m     \u001b[38;5;66;03m# 13. run sample (it degenerates to greedy search when `generation_config.do_sample=False`)\u001b[39;00m\n\u001b[0;32m-> 1914\u001b[0m     result \u001b[38;5;241m=\u001b[39m \u001b[38;5;28;43mself\u001b[39;49m\u001b[38;5;241;43m.\u001b[39;49m\u001b[43m_sample\u001b[49m\u001b[43m(\u001b[49m\n\u001b[1;32m   1915\u001b[0m \u001b[43m        \u001b[49m\u001b[43minput_ids\u001b[49m\u001b[43m,\u001b[49m\n\u001b[1;32m   1916\u001b[0m \u001b[43m        \u001b[49m\u001b[43mlogits_processor\u001b[49m\u001b[38;5;241;43m=\u001b[39;49m\u001b[43mprepared_logits_processor\u001b[49m\u001b[43m,\u001b[49m\n\u001b[1;32m   1917\u001b[0m \u001b[43m        \u001b[49m\u001b[43mlogits_warper\u001b[49m\u001b[38;5;241;43m=\u001b[39;49m\u001b[43mprepared_logits_warper\u001b[49m\u001b[43m,\u001b[49m\n\u001b[1;32m   1918\u001b[0m \u001b[43m        \u001b[49m\u001b[43mstopping_criteria\u001b[49m\u001b[38;5;241;43m=\u001b[39;49m\u001b[43mprepared_stopping_criteria\u001b[49m\u001b[43m,\u001b[49m\n\u001b[1;32m   1919\u001b[0m \u001b[43m        \u001b[49m\u001b[43mgeneration_config\u001b[49m\u001b[38;5;241;43m=\u001b[39;49m\u001b[43mgeneration_config\u001b[49m\u001b[43m,\u001b[49m\n\u001b[1;32m   1920\u001b[0m \u001b[43m        \u001b[49m\u001b[43msynced_gpus\u001b[49m\u001b[38;5;241;43m=\u001b[39;49m\u001b[43msynced_gpus\u001b[49m\u001b[43m,\u001b[49m\n\u001b[1;32m   1921\u001b[0m \u001b[43m        \u001b[49m\u001b[43mstreamer\u001b[49m\u001b[38;5;241;43m=\u001b[39;49m\u001b[43mstreamer\u001b[49m\u001b[43m,\u001b[49m\n\u001b[1;32m   1922\u001b[0m \u001b[43m        \u001b[49m\u001b[38;5;241;43m*\u001b[39;49m\u001b[38;5;241;43m*\u001b[39;49m\u001b[43mmodel_kwargs\u001b[49m\u001b[43m,\u001b[49m\n\u001b[1;32m   1923\u001b[0m \u001b[43m    \u001b[49m\u001b[43m)\u001b[49m\n\u001b[1;32m   1925\u001b[0m \u001b[38;5;28;01melif\u001b[39;00m generation_mode \u001b[38;5;129;01min\u001b[39;00m (GenerationMode\u001b[38;5;241m.\u001b[39mBEAM_SAMPLE, GenerationMode\u001b[38;5;241m.\u001b[39mBEAM_SEARCH):\n\u001b[1;32m   1926\u001b[0m     \u001b[38;5;66;03m# 11. prepare logits warper\u001b[39;00m\n\u001b[1;32m   1927\u001b[0m     prepared_logits_warper \u001b[38;5;241m=\u001b[39m (\n\u001b[1;32m   1928\u001b[0m         \u001b[38;5;28mself\u001b[39m\u001b[38;5;241m.\u001b[39m_get_logits_warper(generation_config, device\u001b[38;5;241m=\u001b[39minput_ids\u001b[38;5;241m.\u001b[39mdevice)\n\u001b[1;32m   1929\u001b[0m         \u001b[38;5;28;01mif\u001b[39;00m generation_config\u001b[38;5;241m.\u001b[39mdo_sample\n\u001b[1;32m   1930\u001b[0m         \u001b[38;5;28;01melse\u001b[39;00m \u001b[38;5;28;01mNone\u001b[39;00m\n\u001b[1;32m   1931\u001b[0m     )\n",
            "File \u001b[0;32m~/miniconda3/envs/shape_lora_sliders/lib/python3.10/site-packages/transformers/generation/utils.py:2693\u001b[0m, in \u001b[0;36mGenerationMixin._sample\u001b[0;34m(self, input_ids, logits_processor, stopping_criteria, generation_config, synced_gpus, streamer, logits_warper, **model_kwargs)\u001b[0m\n\u001b[1;32m   2691\u001b[0m \u001b[38;5;28;01mif\u001b[39;00m do_sample:\n\u001b[1;32m   2692\u001b[0m     probs \u001b[38;5;241m=\u001b[39m nn\u001b[38;5;241m.\u001b[39mfunctional\u001b[38;5;241m.\u001b[39msoftmax(next_token_scores, dim\u001b[38;5;241m=\u001b[39m\u001b[38;5;241m-\u001b[39m\u001b[38;5;241m1\u001b[39m)\n\u001b[0;32m-> 2693\u001b[0m     next_tokens \u001b[38;5;241m=\u001b[39m \u001b[43mtorch\u001b[49m\u001b[38;5;241;43m.\u001b[39;49m\u001b[43mmultinomial\u001b[49m\u001b[43m(\u001b[49m\u001b[43mprobs\u001b[49m\u001b[43m,\u001b[49m\u001b[43m \u001b[49m\u001b[43mnum_samples\u001b[49m\u001b[38;5;241;43m=\u001b[39;49m\u001b[38;5;241;43m1\u001b[39;49m\u001b[43m)\u001b[49m\u001b[38;5;241m.\u001b[39msqueeze(\u001b[38;5;241m1\u001b[39m)\n\u001b[1;32m   2694\u001b[0m \u001b[38;5;28;01melse\u001b[39;00m:\n\u001b[1;32m   2695\u001b[0m     next_tokens \u001b[38;5;241m=\u001b[39m torch\u001b[38;5;241m.\u001b[39margmax(next_token_scores, dim\u001b[38;5;241m=\u001b[39m\u001b[38;5;241m-\u001b[39m\u001b[38;5;241m1\u001b[39m)\n",
            "\u001b[0;31mKeyboardInterrupt\u001b[0m: "
          ]
        }
      ],
      "source": [
        "torch.cuda.empty_cache()\n",
        "\n",
        "# Collect garbage\n",
        "import gc\n",
        "gc.collect()\n",
        "import tqdm\n",
        "alpaca_prompt = \"\"\"Below is an instruction that describes a task, paired with an input that provides further context. Write a response that appropriately completes the request.\n",
        "\n",
        "### Instruction:\n",
        "{}\n",
        "\n",
        "### Input:\n",
        "{}\n",
        "\n",
        "### Response:\n",
        "{}\"\"\"\n",
        "instruct = \"You will be given an utterance comparing {} to another chair. Your task is to rewrite the given utterance as a description specifically about the {}.\"\n",
        "input = \"Can you rewrite please the following utterance comparing {} to another chair as a description specifically about the {}? Utterance: {}.\"\n",
        "\n",
        "model, tokenizer = FastLanguageModel.from_pretrained(\n",
        "    model_name = f\"/scratch/noam/llama3/chair/lora_model\", \n",
        "    max_seq_length = 2048,\n",
        "    dtype = None,\n",
        "    load_in_4bit = True,\n",
        ")\n",
        "FastLanguageModel.for_inference(model)\n",
        "csv_path = f'chair.csv'\n",
        "df = pd.read_csv(csv_path)\n",
        "for i, row in tqdm.tqdm(df.iterrows(), total=len(df)):\n",
        "    if pd.notna(row[\"llama3_target_utterance\"]):\n",
        "        continue\n",
        "    inputs = tokenizer(\n",
        "        [\n",
        "            alpaca_prompt.format(\n",
        "                instruct.format(row[\"target_object_wnlemma\"], row[\"target_object_wnlemma\"]),\n",
        "                input.format(row[\"target_object_wnlemma\"], row[\"target_object_wnlemma\"], row[\"utterance\"]),\n",
        "                \"\",\n",
        "            )\n",
        "        ], return_tensors=\"pt\").to(\"cuda\")\n",
        "    outputs = model.generate(**inputs, max_new_tokens=64, use_cache=True)\n",
        "    llama3_uttarance = tokenizer.batch_decode(outputs)[0].split(\"\\n\")[-1].replace(tokenizer.eos_token, \"\")\n",
        "    if i % 100 == 0:\n",
        "        print(row[\"target_object_wnlemma\"], '+', row[\"utterance\"], ' -> ', llama3_uttarance)\n",
        "    df.at[i, 'llama3_target_utterance'] = llama3_uttarance\n",
        "    if i == 1000:\n",
        "        break\n",
        "df.to_csv(csv_path, index=False)\n"
      ]
    },
    {
      "cell_type": "code",
      "execution_count": null,
      "metadata": {
        "colab": {
          "base_uri": "https://localhost:8080/"
        },
        "id": "MKX_XKs_BNZR",
        "outputId": "bbb9603d-f3f7-405e-f90c-7be54a39a194"
      },
      "outputs": [
        {
          "name": "stderr",
          "output_type": "stream",
          "text": [
            "Setting `pad_token_id` to `eos_token_id`:128001 for open-end generation.\n"
          ]
        },
        {
          "data": {
            "text/plain": [
              "[\"<|begin_of_text|>Below is an instruction that describes a task, paired with an input that provides further context. Write a response that appropriately completes the request.\\n\\n### Instruction:\\nWhat is a famous tall tower in Paris?\\n\\n### Input:\\n\\n\\n### Response:\\nThe Eiffel Tower is a famous tall tower in Paris, France. It is 324 meters (1,063 feet) tall and was built in 1889 for the World's Fair. It is the most visited paid monument in the world, with over 7 million visitors annually. The tower is named after\"]"
            ]
          },
          "execution_count": 13,
          "metadata": {},
          "output_type": "execute_result"
        }
      ],
      "source": [
        "if False:\n",
        "    from unsloth import FastLanguageModel\n",
        "    model, tokenizer = FastLanguageModel.from_pretrained(\n",
        "        model_name = \"lora_model\", # YOUR MODEL YOU USED FOR TRAINING\n",
        "        max_seq_length = max_seq_length,\n",
        "        dtype = dtype,\n",
        "        load_in_4bit = load_in_4bit,\n",
        "    )\n",
        "    FastLanguageModel.for_inference(model) # Enable native 2x faster inference\n",
        "\n",
        "# alpaca_prompt = You MUST copy from above!\n",
        "\n",
        "inputs = tokenizer(\n",
        "[\n",
        "    alpaca_prompt.format(\n",
        "        \"What is a famous tall tower in Paris?\", # instruction\n",
        "        \"\", # input\n",
        "        \"\", # output - leave this blank for generation!\n",
        "    )\n",
        "], return_tensors = \"pt\").to(\"cuda\")\n",
        "\n",
        "outputs = model.generate(**inputs, max_new_tokens = 64, use_cache = True)\n",
        "tokenizer.batch_decode(outputs)"
      ]
    },
    {
      "cell_type": "markdown",
      "metadata": {
        "id": "QQMjaNrjsU5_"
      },
      "source": [
        "You can also use Hugging Face's `AutoModelForPeftCausalLM`. Only use this if you do not have `unsloth` installed. It can be hopelessly slow, since `4bit` model downloading is not supported, and Unsloth's **inference is 2x faster**."
      ]
    },
    {
      "cell_type": "code",
      "execution_count": null,
      "metadata": {
        "id": "yFfaXG0WsQuE"
      },
      "outputs": [],
      "source": [
        "if False:\n",
        "    # I highly do NOT suggest - use Unsloth if possible\n",
        "    from peft import AutoPeftModelForCausalLM\n",
        "    from transformers import AutoTokenizer\n",
        "    model = AutoPeftModelForCausalLM.from_pretrained(\n",
        "        \"lora_model\", # YOUR MODEL YOU USED FOR TRAINING\n",
        "        load_in_4bit = load_in_4bit,\n",
        "    )\n",
        "    tokenizer = AutoTokenizer.from_pretrained(\"lora_model\")"
      ]
    },
    {
      "cell_type": "markdown",
      "metadata": {
        "id": "f422JgM9sdVT"
      },
      "source": [
        "### Saving to float16 for VLLM\n",
        "\n",
        "We also support saving to `float16` directly. Select `merged_16bit` for float16 or `merged_4bit` for int4. We also allow `lora` adapters as a fallback. Use `push_to_hub_merged` to upload to your Hugging Face account! You can go to https://huggingface.co/settings/tokens for your personal tokens."
      ]
    },
    {
      "cell_type": "code",
      "execution_count": null,
      "metadata": {
        "id": "iHjt_SMYsd3P"
      },
      "outputs": [],
      "source": [
        "# Merge to 16bit\n",
        "if False: model.save_pretrained_merged(\"model\", tokenizer, save_method = \"merged_16bit\",)\n",
        "if False: model.push_to_hub_merged(\"hf/model\", tokenizer, save_method = \"merged_16bit\", token = \"\")\n",
        "\n",
        "# Merge to 4bit\n",
        "if False: model.save_pretrained_merged(\"model\", tokenizer, save_method = \"merged_4bit\",)\n",
        "if False: model.push_to_hub_merged(\"hf/model\", tokenizer, save_method = \"merged_4bit\", token = \"\")\n",
        "\n",
        "# Just LoRA adapters\n",
        "if False: model.save_pretrained_merged(\"model\", tokenizer, save_method = \"lora\",)\n",
        "if False: model.push_to_hub_merged(\"hf/model\", tokenizer, save_method = \"lora\", token = \"\")"
      ]
    },
    {
      "cell_type": "markdown",
      "metadata": {
        "id": "TCv4vXHd61i7"
      },
      "source": [
        "### GGUF / llama.cpp Conversion\n",
        "To save to `GGUF` / `llama.cpp`, we support it natively now! We clone `llama.cpp` and we default save it to `q8_0`. We allow all methods like `q4_k_m`. Use `save_pretrained_gguf` for local saving and `push_to_hub_gguf` for uploading to HF.\n",
        "\n",
        "Some supported quant methods (full list on our [Wiki page](https://github.com/unslothai/unsloth/wiki#gguf-quantization-options)):\n",
        "* `q8_0` - Fast conversion. High resource use, but generally acceptable.\n",
        "* `q4_k_m` - Recommended. Uses Q6_K for half of the attention.wv and feed_forward.w2 tensors, else Q4_K.\n",
        "* `q5_k_m` - Recommended. Uses Q6_K for half of the attention.wv and feed_forward.w2 tensors, else Q5_K."
      ]
    },
    {
      "cell_type": "code",
      "execution_count": null,
      "metadata": {
        "id": "FqfebeAdT073"
      },
      "outputs": [],
      "source": [
        "# Save to 8bit Q8_0\n",
        "if False: model.save_pretrained_gguf(\"model\", tokenizer,)\n",
        "if False: model.push_to_hub_gguf(\"hf/model\", tokenizer, token = \"\")\n",
        "\n",
        "# Save to 16bit GGUF\n",
        "if False: model.save_pretrained_gguf(\"model\", tokenizer, quantization_method = \"f16\")\n",
        "if False: model.push_to_hub_gguf(\"hf/model\", tokenizer, quantization_method = \"f16\", token = \"\")\n",
        "\n",
        "# Save to q4_k_m GGUF\n",
        "if False: model.save_pretrained_gguf(\"model\", tokenizer, quantization_method = \"q4_k_m\")\n",
        "if False: model.push_to_hub_gguf(\"hf/model\", tokenizer, quantization_method = \"q4_k_m\", token = \"\")"
      ]
    },
    {
      "cell_type": "markdown",
      "metadata": {
        "id": "bDp0zNpwe6U_"
      },
      "source": [
        "Now, use the `model-unsloth.gguf` file or `model-unsloth-Q4_K_M.gguf` file in `llama.cpp` or a UI based system like `GPT4All`. You can install GPT4All by going [here](https://gpt4all.io/index.html)."
      ]
    },
    {
      "cell_type": "markdown",
      "metadata": {
        "id": "Zt9CHJqO6p30"
      },
      "source": [
        "And we're done! If you have any questions on Unsloth, we have a [Discord](https://discord.gg/u54VK8m8tk) channel! If you find any bugs or want to keep updated with the latest LLM stuff, or need help, join projects etc, feel free to join our Discord!\n",
        "\n",
        "Some other links:\n",
        "1. Zephyr DPO 2x faster [free Colab](https://colab.research.google.com/drive/15vttTpzzVXv_tJwEk-hIcQ0S9FcEWvwP?usp=sharing)\n",
        "2. Llama 7b 2x faster [free Colab](https://colab.research.google.com/drive/1lBzz5KeZJKXjvivbYvmGarix9Ao6Wxe5?usp=sharing)\n",
        "3. TinyLlama 4x faster full Alpaca 52K in 1 hour [free Colab](https://colab.research.google.com/drive/1AZghoNBQaMDgWJpi4RbffGM1h6raLUj9?usp=sharing)\n",
        "4. CodeLlama 34b 2x faster [A100 on Colab](https://colab.research.google.com/drive/1y7A0AxE3y8gdj4AVkl2aZX47Xu3P1wJT?usp=sharing)\n",
        "5. Mistral 7b [free Kaggle version](https://www.kaggle.com/code/danielhanchen/kaggle-mistral-7b-unsloth-notebook)\n",
        "6. We also did a [blog](https://huggingface.co/blog/unsloth-trl) with 🤗 HuggingFace, and we're in the TRL [docs](https://huggingface.co/docs/trl/main/en/sft_trainer#accelerate-fine-tuning-2x-using-unsloth)!\n",
        "7. `ChatML` for ShareGPT datasets, [conversational notebook](https://colab.research.google.com/drive/1Aau3lgPzeZKQ-98h69CCu1UJcvIBLmy2?usp=sharing)\n",
        "8. Text completions like novel writing [notebook](https://colab.research.google.com/drive/1ef-tab5bhkvWmBOObepl1WgJvfvSzn5Q?usp=sharing)\n",
        "\n",
        "<div class=\"align-center\">\n",
        "  <a href=\"https://github.com/unslothai/unsloth\"><img src=\"https://github.com/unslothai/unsloth/raw/main/images/unsloth%20new%20logo.png\" width=\"115\"></a>\n",
        "  <a href=\"https://discord.gg/u54VK8m8tk\"><img src=\"https://github.com/unslothai/unsloth/raw/main/images/Discord.png\" width=\"145\"></a>\n",
        "  <a href=\"https://ko-fi.com/unsloth\"><img src=\"https://github.com/unslothai/unsloth/raw/main/images/Kofi button.png\" width=\"145\"></a></a> Support our work if you can! Thanks!\n",
        "</div>"
      ]
    }
  ],
  "metadata": {
    "accelerator": "GPU",
    "colab": {
      "gpuType": "T4",
      "provenance": []
    },
    "kernelspec": {
      "display_name": "Python 3",
      "name": "python3"
    },
    "language_info": {
      "codemirror_mode": {
        "name": "ipython",
        "version": 3
      },
      "file_extension": ".py",
      "mimetype": "text/x-python",
      "name": "python",
      "nbconvert_exporter": "python",
      "pygments_lexer": "ipython3",
      "version": "3.10.14"
    },
    "widgets": {
      "application/vnd.jupyter.widget-state+json": {
        "09dd8b1b78534e0fad849c6ddaf34e50": {
          "model_module": "@jupyter-widgets/base",
          "model_module_version": "1.2.0",
          "model_name": "LayoutModel",
          "state": {
            "_model_module": "@jupyter-widgets/base",
            "_model_module_version": "1.2.0",
            "_model_name": "LayoutModel",
            "_view_count": null,
            "_view_module": "@jupyter-widgets/base",
            "_view_module_version": "1.2.0",
            "_view_name": "LayoutView",
            "align_content": null,
            "align_items": null,
            "align_self": null,
            "border": null,
            "bottom": null,
            "display": null,
            "flex": null,
            "flex_flow": null,
            "grid_area": null,
            "grid_auto_columns": null,
            "grid_auto_flow": null,
            "grid_auto_rows": null,
            "grid_column": null,
            "grid_gap": null,
            "grid_row": null,
            "grid_template_areas": null,
            "grid_template_columns": null,
            "grid_template_rows": null,
            "height": null,
            "justify_content": null,
            "justify_items": null,
            "left": null,
            "margin": null,
            "max_height": null,
            "max_width": null,
            "min_height": null,
            "min_width": null,
            "object_fit": null,
            "object_position": null,
            "order": null,
            "overflow": null,
            "overflow_x": null,
            "overflow_y": null,
            "padding": null,
            "right": null,
            "top": null,
            "visibility": null,
            "width": null
          }
        },
        "0ab448779afd4995ba975d452d084c94": {
          "model_module": "@jupyter-widgets/controls",
          "model_module_version": "1.5.0",
          "model_name": "FloatProgressModel",
          "state": {
            "_dom_classes": [],
            "_model_module": "@jupyter-widgets/controls",
            "_model_module_version": "1.5.0",
            "_model_name": "FloatProgressModel",
            "_view_count": null,
            "_view_module": "@jupyter-widgets/controls",
            "_view_module_version": "1.5.0",
            "_view_name": "ProgressView",
            "bar_style": "success",
            "description": "",
            "description_tooltip": null,
            "layout": "IPY_MODEL_ec144388e6664612873adb205bcb57a7",
            "max": 299,
            "min": 0,
            "orientation": "horizontal",
            "style": "IPY_MODEL_d2c5c1b90eea4f4493285f6b90a967ba",
            "value": 299
          }
        },
        "1902e6b383e84c4eb15e0afc106b3d97": {
          "model_module": "@jupyter-widgets/controls",
          "model_module_version": "1.5.0",
          "model_name": "HTMLModel",
          "state": {
            "_dom_classes": [],
            "_model_module": "@jupyter-widgets/controls",
            "_model_module_version": "1.5.0",
            "_model_name": "HTMLModel",
            "_view_count": null,
            "_view_module": "@jupyter-widgets/controls",
            "_view_module_version": "1.5.0",
            "_view_name": "HTMLView",
            "description": "",
            "description_tooltip": null,
            "layout": "IPY_MODEL_a8a64096dc254dbe915a37d1a39d14c0",
            "placeholder": "​",
            "style": "IPY_MODEL_fefa027e5b9349608d073a106cbe1dca",
            "value": " 299/299 [00:02&lt;00:00, 142.90 examples/s]"
          }
        },
        "225ac4cddfd24df1a644dafff18d7371": {
          "model_module": "@jupyter-widgets/controls",
          "model_module_version": "1.5.0",
          "model_name": "DescriptionStyleModel",
          "state": {
            "_model_module": "@jupyter-widgets/controls",
            "_model_module_version": "1.5.0",
            "_model_name": "DescriptionStyleModel",
            "_view_count": null,
            "_view_module": "@jupyter-widgets/base",
            "_view_module_version": "1.2.0",
            "_view_name": "StyleView",
            "description_width": ""
          }
        },
        "2c506a55d5234324978f26924ba83d10": {
          "model_module": "@jupyter-widgets/controls",
          "model_module_version": "1.5.0",
          "model_name": "ProgressStyleModel",
          "state": {
            "_model_module": "@jupyter-widgets/controls",
            "_model_module_version": "1.5.0",
            "_model_name": "ProgressStyleModel",
            "_view_count": null,
            "_view_module": "@jupyter-widgets/base",
            "_view_module_version": "1.2.0",
            "_view_name": "StyleView",
            "bar_color": null,
            "description_width": ""
          }
        },
        "39afa4f1e52549e9a373b4dab855f696": {
          "model_module": "@jupyter-widgets/controls",
          "model_module_version": "1.5.0",
          "model_name": "DescriptionStyleModel",
          "state": {
            "_model_module": "@jupyter-widgets/controls",
            "_model_module_version": "1.5.0",
            "_model_name": "DescriptionStyleModel",
            "_view_count": null,
            "_view_module": "@jupyter-widgets/base",
            "_view_module_version": "1.2.0",
            "_view_name": "StyleView",
            "description_width": ""
          }
        },
        "3cbe4bcd0573476dbf346c354996e88c": {
          "model_module": "@jupyter-widgets/base",
          "model_module_version": "1.2.0",
          "model_name": "LayoutModel",
          "state": {
            "_model_module": "@jupyter-widgets/base",
            "_model_module_version": "1.2.0",
            "_model_name": "LayoutModel",
            "_view_count": null,
            "_view_module": "@jupyter-widgets/base",
            "_view_module_version": "1.2.0",
            "_view_name": "LayoutView",
            "align_content": null,
            "align_items": null,
            "align_self": null,
            "border": null,
            "bottom": null,
            "display": null,
            "flex": null,
            "flex_flow": null,
            "grid_area": null,
            "grid_auto_columns": null,
            "grid_auto_flow": null,
            "grid_auto_rows": null,
            "grid_column": null,
            "grid_gap": null,
            "grid_row": null,
            "grid_template_areas": null,
            "grid_template_columns": null,
            "grid_template_rows": null,
            "height": null,
            "justify_content": null,
            "justify_items": null,
            "left": null,
            "margin": null,
            "max_height": null,
            "max_width": null,
            "min_height": null,
            "min_width": null,
            "object_fit": null,
            "object_position": null,
            "order": null,
            "overflow": null,
            "overflow_x": null,
            "overflow_y": null,
            "padding": null,
            "right": null,
            "top": null,
            "visibility": null,
            "width": null
          }
        },
        "45cd578ccdb043dda3d20224b31f5736": {
          "model_module": "@jupyter-widgets/base",
          "model_module_version": "1.2.0",
          "model_name": "LayoutModel",
          "state": {
            "_model_module": "@jupyter-widgets/base",
            "_model_module_version": "1.2.0",
            "_model_name": "LayoutModel",
            "_view_count": null,
            "_view_module": "@jupyter-widgets/base",
            "_view_module_version": "1.2.0",
            "_view_name": "LayoutView",
            "align_content": null,
            "align_items": null,
            "align_self": null,
            "border": null,
            "bottom": null,
            "display": null,
            "flex": null,
            "flex_flow": null,
            "grid_area": null,
            "grid_auto_columns": null,
            "grid_auto_flow": null,
            "grid_auto_rows": null,
            "grid_column": null,
            "grid_gap": null,
            "grid_row": null,
            "grid_template_areas": null,
            "grid_template_columns": null,
            "grid_template_rows": null,
            "height": null,
            "justify_content": null,
            "justify_items": null,
            "left": null,
            "margin": null,
            "max_height": null,
            "max_width": null,
            "min_height": null,
            "min_width": null,
            "object_fit": null,
            "object_position": null,
            "order": null,
            "overflow": null,
            "overflow_x": null,
            "overflow_y": null,
            "padding": null,
            "right": null,
            "top": null,
            "visibility": null,
            "width": null
          }
        },
        "468578242f5c4cd88cc7abb505b4df65": {
          "model_module": "@jupyter-widgets/controls",
          "model_module_version": "1.5.0",
          "model_name": "FloatProgressModel",
          "state": {
            "_dom_classes": [],
            "_model_module": "@jupyter-widgets/controls",
            "_model_module_version": "1.5.0",
            "_model_name": "FloatProgressModel",
            "_view_count": null,
            "_view_module": "@jupyter-widgets/controls",
            "_view_module_version": "1.5.0",
            "_view_name": "ProgressView",
            "bar_style": "success",
            "description": "",
            "description_tooltip": null,
            "layout": "IPY_MODEL_45cd578ccdb043dda3d20224b31f5736",
            "max": 299,
            "min": 0,
            "orientation": "horizontal",
            "style": "IPY_MODEL_2c506a55d5234324978f26924ba83d10",
            "value": 299
          }
        },
        "596772b857ea41e5a885f0a737fcbe1e": {
          "model_module": "@jupyter-widgets/controls",
          "model_module_version": "1.5.0",
          "model_name": "DescriptionStyleModel",
          "state": {
            "_model_module": "@jupyter-widgets/controls",
            "_model_module_version": "1.5.0",
            "_model_name": "DescriptionStyleModel",
            "_view_count": null,
            "_view_module": "@jupyter-widgets/base",
            "_view_module_version": "1.2.0",
            "_view_name": "StyleView",
            "description_width": ""
          }
        },
        "5fa9660dce534c4ea6266d9e4ab966a2": {
          "model_module": "@jupyter-widgets/controls",
          "model_module_version": "1.5.0",
          "model_name": "HBoxModel",
          "state": {
            "_dom_classes": [],
            "_model_module": "@jupyter-widgets/controls",
            "_model_module_version": "1.5.0",
            "_model_name": "HBoxModel",
            "_view_count": null,
            "_view_module": "@jupyter-widgets/controls",
            "_view_module_version": "1.5.0",
            "_view_name": "HBoxView",
            "box_style": "",
            "children": [
              "IPY_MODEL_fc00f87a284543ae9a613eed127ca56e",
              "IPY_MODEL_0ab448779afd4995ba975d452d084c94",
              "IPY_MODEL_1902e6b383e84c4eb15e0afc106b3d97"
            ],
            "layout": "IPY_MODEL_fecbded98b53418d91e7f54abe3fbdc4"
          }
        },
        "69a34a0e405b42a6b56e9be66013143d": {
          "model_module": "@jupyter-widgets/controls",
          "model_module_version": "1.5.0",
          "model_name": "HTMLModel",
          "state": {
            "_dom_classes": [],
            "_model_module": "@jupyter-widgets/controls",
            "_model_module_version": "1.5.0",
            "_model_name": "HTMLModel",
            "_view_count": null,
            "_view_module": "@jupyter-widgets/controls",
            "_view_module_version": "1.5.0",
            "_view_name": "HTMLView",
            "description": "",
            "description_tooltip": null,
            "layout": "IPY_MODEL_ded17f10e7c14f6992b54beaf749e3f6",
            "placeholder": "​",
            "style": "IPY_MODEL_39afa4f1e52549e9a373b4dab855f696",
            "value": "Map: 100%"
          }
        },
        "961262477f714ae5bfadeb2ec8a7526d": {
          "model_module": "@jupyter-widgets/controls",
          "model_module_version": "1.5.0",
          "model_name": "HBoxModel",
          "state": {
            "_dom_classes": [],
            "_model_module": "@jupyter-widgets/controls",
            "_model_module_version": "1.5.0",
            "_model_name": "HBoxModel",
            "_view_count": null,
            "_view_module": "@jupyter-widgets/controls",
            "_view_module_version": "1.5.0",
            "_view_name": "HBoxView",
            "box_style": "",
            "children": [
              "IPY_MODEL_69a34a0e405b42a6b56e9be66013143d",
              "IPY_MODEL_468578242f5c4cd88cc7abb505b4df65",
              "IPY_MODEL_bdb3835784c7402e91f5d4ac7a093d3b"
            ],
            "layout": "IPY_MODEL_09dd8b1b78534e0fad849c6ddaf34e50"
          }
        },
        "a8a64096dc254dbe915a37d1a39d14c0": {
          "model_module": "@jupyter-widgets/base",
          "model_module_version": "1.2.0",
          "model_name": "LayoutModel",
          "state": {
            "_model_module": "@jupyter-widgets/base",
            "_model_module_version": "1.2.0",
            "_model_name": "LayoutModel",
            "_view_count": null,
            "_view_module": "@jupyter-widgets/base",
            "_view_module_version": "1.2.0",
            "_view_name": "LayoutView",
            "align_content": null,
            "align_items": null,
            "align_self": null,
            "border": null,
            "bottom": null,
            "display": null,
            "flex": null,
            "flex_flow": null,
            "grid_area": null,
            "grid_auto_columns": null,
            "grid_auto_flow": null,
            "grid_auto_rows": null,
            "grid_column": null,
            "grid_gap": null,
            "grid_row": null,
            "grid_template_areas": null,
            "grid_template_columns": null,
            "grid_template_rows": null,
            "height": null,
            "justify_content": null,
            "justify_items": null,
            "left": null,
            "margin": null,
            "max_height": null,
            "max_width": null,
            "min_height": null,
            "min_width": null,
            "object_fit": null,
            "object_position": null,
            "order": null,
            "overflow": null,
            "overflow_x": null,
            "overflow_y": null,
            "padding": null,
            "right": null,
            "top": null,
            "visibility": null,
            "width": null
          }
        },
        "bdb3835784c7402e91f5d4ac7a093d3b": {
          "model_module": "@jupyter-widgets/controls",
          "model_module_version": "1.5.0",
          "model_name": "HTMLModel",
          "state": {
            "_dom_classes": [],
            "_model_module": "@jupyter-widgets/controls",
            "_model_module_version": "1.5.0",
            "_model_name": "HTMLModel",
            "_view_count": null,
            "_view_module": "@jupyter-widgets/controls",
            "_view_module_version": "1.5.0",
            "_view_name": "HTMLView",
            "description": "",
            "description_tooltip": null,
            "layout": "IPY_MODEL_fc2b489b6ee24102b0be05d650f02d23",
            "placeholder": "​",
            "style": "IPY_MODEL_225ac4cddfd24df1a644dafff18d7371",
            "value": " 299/299 [00:00&lt;00:00, 3823.17 examples/s]"
          }
        },
        "d2c5c1b90eea4f4493285f6b90a967ba": {
          "model_module": "@jupyter-widgets/controls",
          "model_module_version": "1.5.0",
          "model_name": "ProgressStyleModel",
          "state": {
            "_model_module": "@jupyter-widgets/controls",
            "_model_module_version": "1.5.0",
            "_model_name": "ProgressStyleModel",
            "_view_count": null,
            "_view_module": "@jupyter-widgets/base",
            "_view_module_version": "1.2.0",
            "_view_name": "StyleView",
            "bar_color": null,
            "description_width": ""
          }
        },
        "ded17f10e7c14f6992b54beaf749e3f6": {
          "model_module": "@jupyter-widgets/base",
          "model_module_version": "1.2.0",
          "model_name": "LayoutModel",
          "state": {
            "_model_module": "@jupyter-widgets/base",
            "_model_module_version": "1.2.0",
            "_model_name": "LayoutModel",
            "_view_count": null,
            "_view_module": "@jupyter-widgets/base",
            "_view_module_version": "1.2.0",
            "_view_name": "LayoutView",
            "align_content": null,
            "align_items": null,
            "align_self": null,
            "border": null,
            "bottom": null,
            "display": null,
            "flex": null,
            "flex_flow": null,
            "grid_area": null,
            "grid_auto_columns": null,
            "grid_auto_flow": null,
            "grid_auto_rows": null,
            "grid_column": null,
            "grid_gap": null,
            "grid_row": null,
            "grid_template_areas": null,
            "grid_template_columns": null,
            "grid_template_rows": null,
            "height": null,
            "justify_content": null,
            "justify_items": null,
            "left": null,
            "margin": null,
            "max_height": null,
            "max_width": null,
            "min_height": null,
            "min_width": null,
            "object_fit": null,
            "object_position": null,
            "order": null,
            "overflow": null,
            "overflow_x": null,
            "overflow_y": null,
            "padding": null,
            "right": null,
            "top": null,
            "visibility": null,
            "width": null
          }
        },
        "ec144388e6664612873adb205bcb57a7": {
          "model_module": "@jupyter-widgets/base",
          "model_module_version": "1.2.0",
          "model_name": "LayoutModel",
          "state": {
            "_model_module": "@jupyter-widgets/base",
            "_model_module_version": "1.2.0",
            "_model_name": "LayoutModel",
            "_view_count": null,
            "_view_module": "@jupyter-widgets/base",
            "_view_module_version": "1.2.0",
            "_view_name": "LayoutView",
            "align_content": null,
            "align_items": null,
            "align_self": null,
            "border": null,
            "bottom": null,
            "display": null,
            "flex": null,
            "flex_flow": null,
            "grid_area": null,
            "grid_auto_columns": null,
            "grid_auto_flow": null,
            "grid_auto_rows": null,
            "grid_column": null,
            "grid_gap": null,
            "grid_row": null,
            "grid_template_areas": null,
            "grid_template_columns": null,
            "grid_template_rows": null,
            "height": null,
            "justify_content": null,
            "justify_items": null,
            "left": null,
            "margin": null,
            "max_height": null,
            "max_width": null,
            "min_height": null,
            "min_width": null,
            "object_fit": null,
            "object_position": null,
            "order": null,
            "overflow": null,
            "overflow_x": null,
            "overflow_y": null,
            "padding": null,
            "right": null,
            "top": null,
            "visibility": null,
            "width": null
          }
        },
        "fc00f87a284543ae9a613eed127ca56e": {
          "model_module": "@jupyter-widgets/controls",
          "model_module_version": "1.5.0",
          "model_name": "HTMLModel",
          "state": {
            "_dom_classes": [],
            "_model_module": "@jupyter-widgets/controls",
            "_model_module_version": "1.5.0",
            "_model_name": "HTMLModel",
            "_view_count": null,
            "_view_module": "@jupyter-widgets/controls",
            "_view_module_version": "1.5.0",
            "_view_name": "HTMLView",
            "description": "",
            "description_tooltip": null,
            "layout": "IPY_MODEL_3cbe4bcd0573476dbf346c354996e88c",
            "placeholder": "​",
            "style": "IPY_MODEL_596772b857ea41e5a885f0a737fcbe1e",
            "value": "Map (num_proc=2): 100%"
          }
        },
        "fc2b489b6ee24102b0be05d650f02d23": {
          "model_module": "@jupyter-widgets/base",
          "model_module_version": "1.2.0",
          "model_name": "LayoutModel",
          "state": {
            "_model_module": "@jupyter-widgets/base",
            "_model_module_version": "1.2.0",
            "_model_name": "LayoutModel",
            "_view_count": null,
            "_view_module": "@jupyter-widgets/base",
            "_view_module_version": "1.2.0",
            "_view_name": "LayoutView",
            "align_content": null,
            "align_items": null,
            "align_self": null,
            "border": null,
            "bottom": null,
            "display": null,
            "flex": null,
            "flex_flow": null,
            "grid_area": null,
            "grid_auto_columns": null,
            "grid_auto_flow": null,
            "grid_auto_rows": null,
            "grid_column": null,
            "grid_gap": null,
            "grid_row": null,
            "grid_template_areas": null,
            "grid_template_columns": null,
            "grid_template_rows": null,
            "height": null,
            "justify_content": null,
            "justify_items": null,
            "left": null,
            "margin": null,
            "max_height": null,
            "max_width": null,
            "min_height": null,
            "min_width": null,
            "object_fit": null,
            "object_position": null,
            "order": null,
            "overflow": null,
            "overflow_x": null,
            "overflow_y": null,
            "padding": null,
            "right": null,
            "top": null,
            "visibility": null,
            "width": null
          }
        },
        "fecbded98b53418d91e7f54abe3fbdc4": {
          "model_module": "@jupyter-widgets/base",
          "model_module_version": "1.2.0",
          "model_name": "LayoutModel",
          "state": {
            "_model_module": "@jupyter-widgets/base",
            "_model_module_version": "1.2.0",
            "_model_name": "LayoutModel",
            "_view_count": null,
            "_view_module": "@jupyter-widgets/base",
            "_view_module_version": "1.2.0",
            "_view_name": "LayoutView",
            "align_content": null,
            "align_items": null,
            "align_self": null,
            "border": null,
            "bottom": null,
            "display": null,
            "flex": null,
            "flex_flow": null,
            "grid_area": null,
            "grid_auto_columns": null,
            "grid_auto_flow": null,
            "grid_auto_rows": null,
            "grid_column": null,
            "grid_gap": null,
            "grid_row": null,
            "grid_template_areas": null,
            "grid_template_columns": null,
            "grid_template_rows": null,
            "height": null,
            "justify_content": null,
            "justify_items": null,
            "left": null,
            "margin": null,
            "max_height": null,
            "max_width": null,
            "min_height": null,
            "min_width": null,
            "object_fit": null,
            "object_position": null,
            "order": null,
            "overflow": null,
            "overflow_x": null,
            "overflow_y": null,
            "padding": null,
            "right": null,
            "top": null,
            "visibility": null,
            "width": null
          }
        },
        "fefa027e5b9349608d073a106cbe1dca": {
          "model_module": "@jupyter-widgets/controls",
          "model_module_version": "1.5.0",
          "model_name": "DescriptionStyleModel",
          "state": {
            "_model_module": "@jupyter-widgets/controls",
            "_model_module_version": "1.5.0",
            "_model_name": "DescriptionStyleModel",
            "_view_count": null,
            "_view_module": "@jupyter-widgets/base",
            "_view_module_version": "1.2.0",
            "_view_name": "StyleView",
            "description_width": ""
          }
        }
      }
    }
  },
  "nbformat": 4,
  "nbformat_minor": 0
}
