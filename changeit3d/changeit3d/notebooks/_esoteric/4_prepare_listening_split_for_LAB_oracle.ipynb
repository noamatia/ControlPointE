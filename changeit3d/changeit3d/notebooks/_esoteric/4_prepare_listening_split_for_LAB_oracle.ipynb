{
 "cells": [
  {
   "cell_type": "code",
   "execution_count": 1,
   "metadata": {},
   "outputs": [],
   "source": [
    "import pandas as pd\n",
    "from changeit3d.utils.basics import make_train_test_val_splits\n",
    "\n",
    "%load_ext autoreload\n",
    "%autoreload 2"
   ]
  },
  {
   "cell_type": "markdown",
   "metadata": {},
   "source": [
    "\n",
    "#### If you have downloaded our pretrained weights, you should be able to find the output of running this notebook here:\n",
    "    <top-downloaded-dir>/shapetalk/misc/shapetalk_preprocessed_public_utters_for_listening_oracle_version_0.csv\n"
   ]
  },
  {
   "cell_type": "code",
   "execution_count": 2,
   "metadata": {},
   "outputs": [],
   "source": [
    "loads = [0.925, 0.025, 0.05]  # since this will be used as an oracle model; the more training data it has seen the better\n",
    "random_seed = 2023\n",
    "shapetalk_file = '../../data/shapetalk/language/shapetalk/shapetalk_preprocessed_public_version_0.csv'\n",
    "out_save_csv_file = '../../data/shapetalk/misc/shapetalk_preprocessed_public_utters_for_listening_oracle_version_0.csv'\n",
    "save_output = False"
   ]
  },
  {
   "cell_type": "code",
   "execution_count": 3,
   "metadata": {},
   "outputs": [
    {
     "name": "stdout",
     "output_type": "stream",
     "text": [
      "Total collected entries/utterances 536596\n"
     ]
    }
   ],
   "source": [
    "df = pd.read_csv(shapetalk_file)\n",
    "print('Total collected entries/utterances', len(df))\n",
    "df = df[df.listening_split != 'ignore']\n",
    "df.reset_index(inplace=True, drop=True)"
   ]
  },
  {
   "cell_type": "code",
   "execution_count": 4,
   "metadata": {},
   "outputs": [
    {
     "name": "stdout",
     "output_type": "stream",
     "text": [
      "36391\n"
     ]
    },
    {
     "data": {
      "text/html": [
       "<div>\n",
       "<style scoped>\n",
       "    .dataframe tbody tr th:only-of-type {\n",
       "        vertical-align: middle;\n",
       "    }\n",
       "\n",
       "    .dataframe tbody tr th {\n",
       "        vertical-align: top;\n",
       "    }\n",
       "\n",
       "    .dataframe thead th {\n",
       "        text-align: right;\n",
       "    }\n",
       "</style>\n",
       "<table border=\"1\" class=\"dataframe\">\n",
       "  <thead>\n",
       "    <tr style=\"text-align: right;\">\n",
       "      <th></th>\n",
       "      <th>model_uid</th>\n",
       "      <th>shape_class</th>\n",
       "    </tr>\n",
       "  </thead>\n",
       "  <tbody>\n",
       "    <tr>\n",
       "      <th>0</th>\n",
       "      <td>flowerpot/ShapeNet/fa9e6aa9d67d5329e5c3c728484...</td>\n",
       "      <td>flowerpot</td>\n",
       "    </tr>\n",
       "    <tr>\n",
       "      <th>1</th>\n",
       "      <td>chair/ShapeNet/fb912528e642f6ea7c7cfdf5546967dd</td>\n",
       "      <td>chair</td>\n",
       "    </tr>\n",
       "    <tr>\n",
       "      <th>2</th>\n",
       "      <td>table/ShapeNet/ff1c8d1e157f3b74b0ceed2c36e897b8</td>\n",
       "      <td>table</td>\n",
       "    </tr>\n",
       "    <tr>\n",
       "      <th>3</th>\n",
       "      <td>airplane/ShapeNet/165c4491d10067b3bd46d022fd7d...</td>\n",
       "      <td>airplane</td>\n",
       "    </tr>\n",
       "    <tr>\n",
       "      <th>4</th>\n",
       "      <td>sofa/ShapeNet/bd5bc3e6189f6972eff42b9e13c388bc</td>\n",
       "      <td>sofa</td>\n",
       "    </tr>\n",
       "  </tbody>\n",
       "</table>\n",
       "</div>"
      ],
      "text/plain": [
       "                                           model_uid shape_class\n",
       "0  flowerpot/ShapeNet/fa9e6aa9d67d5329e5c3c728484...   flowerpot\n",
       "1    chair/ShapeNet/fb912528e642f6ea7c7cfdf5546967dd       chair\n",
       "2    table/ShapeNet/ff1c8d1e157f3b74b0ceed2c36e897b8       table\n",
       "3  airplane/ShapeNet/165c4491d10067b3bd46d022fd7d...    airplane\n",
       "4     sofa/ShapeNet/bd5bc3e6189f6972eff42b9e13c388bc        sofa"
      ]
     },
     "execution_count": 4,
     "metadata": {},
     "output_type": "execute_result"
    }
   ],
   "source": [
    "all_model_uid = set(df.target_uid.unique())\n",
    "all_model_uid = all_model_uid.union(df.source_uid.unique())\n",
    "print(len(all_model_uid))\n",
    "models_df = pd.DataFrame(all_model_uid, columns=['model_uid'])\n",
    "models_df['shape_class'] = models_df.model_uid.apply(lambda x: x.split('/')[0] )\n",
    "models_df.head()"
   ]
  },
  {
   "cell_type": "code",
   "execution_count": 5,
   "metadata": {},
   "outputs": [
    {
     "name": "stdout",
     "output_type": "stream",
     "text": [
      "flowerpot  train:   576  val:    16  test:    31\n",
      "chair      train:  6112  val:   166  test:   330\n",
      "table      train:  7562  val:   205  test:   409\n",
      "airplane   train:  2517  val:    69  test:   136\n",
      "sofa       train:  2835  val:    77  test:   153\n",
      "display    train:  1085  val:    30  test:    59\n",
      "bench      train:  1532  val:    42  test:    83\n",
      "guitar     train:   696  val:    19  test:    38\n",
      "bottle     train:   455  val:    12  test:    25\n",
      "lamp       train:  2138  val:    58  test:   116\n",
      "cap        train:   192  val:     6  test:    10\n",
      "dresser    train:  1563  val:    43  test:    84\n",
      "vase       train:   761  val:    21  test:    41\n",
      "bed        train:   690  val:    20  test:    37\n",
      "plant      train:   259  val:     8  test:    14\n",
      "bag        train:   128  val:     4  test:     7\n",
      "mug        train:   192  val:     6  test:    10\n",
      "bookshelf  train:   754  val:    21  test:    41\n",
      "faucet     train:   591  val:    17  test:    32\n",
      "pistol     train:   279  val:     8  test:    15\n",
      "person     train:    86  val:     3  test:     5\n",
      "bowl       train:   214  val:     6  test:    12\n",
      "clock      train:   536  val:    15  test:    29\n",
      "knife      train:   392  val:    11  test:    21\n",
      "bathtub    train:   614  val:    17  test:    33\n",
      "trashbin   train:   317  val:     9  test:    17\n",
      "skateboard train:   140  val:     4  test:     8\n",
      "cabinet    train:   227  val:     7  test:    12\n",
      "scissors   train:    73  val:     3  test:     4\n",
      "helmet     train:   129  val:     4  test:     7\n"
     ]
    }
   ],
   "source": [
    "# split in EVERY class independently the requested percentages\n",
    "all_splitted_dfs = []\n",
    "for shape_class in models_df.shape_class.unique():\n",
    "    sub_df = models_df[models_df.shape_class == shape_class].copy()\n",
    "    sub_df.reset_index(inplace=True, drop=True)\n",
    "    sub_df = make_train_test_val_splits(sub_df, loads, random_seed, split_column='model_uid', verbose=False)\n",
    "    all_splitted_dfs.append(sub_df)\n",
    "    print(f\"{shape_class: <10}\", \n",
    "          \"train: {:5d}  val: {:5d}  test: {:5d}\".format((sub_df.split == \"train\").sum(),\n",
    "                                                           (sub_df.split == \"val\").sum(),\n",
    "                                                           (sub_df.split == \"test\").sum(),\n",
    "                                                          ))\n",
    "result = pd.concat(all_splitted_dfs)\n",
    "result.reset_index(inplace=True, drop=True)"
   ]
  },
  {
   "cell_type": "code",
   "execution_count": 6,
   "metadata": {},
   "outputs": [],
   "source": [
    "merged = df.merge(result, left_on='target_uid', right_on='model_uid')\n",
    "assert all(merged.shape_class == merged.target_object_class)\n",
    "assert all(merged.model_uid == merged.target_uid)"
   ]
  },
  {
   "cell_type": "code",
   "execution_count": 7,
   "metadata": {},
   "outputs": [],
   "source": [
    "merged = merged.drop(columns=['target_unary_split', 'source_unary_split', \n",
    "                              'listening_split', 'changeit_split', \n",
    "                              'shape_class', 'model_uid'])\n",
    "merged = merged.rename(columns={'split':'listening_split'})"
   ]
  },
  {
   "cell_type": "code",
   "execution_count": 8,
   "metadata": {},
   "outputs": [
    {
     "name": "stdout",
     "output_type": "stream",
     "text": [
      "0.9244131261520673\n",
      "0.05005837766406752\n",
      "0.02552849618386524\n"
     ]
    }
   ],
   "source": [
    "for split in ['train', 'test', 'val']:\n",
    "    print((merged.listening_split == split).mean())"
   ]
  },
  {
   "cell_type": "code",
   "execution_count": 9,
   "metadata": {},
   "outputs": [],
   "source": [
    "train_targets = set(merged[merged.listening_split == 'train']['target_uid'])\n",
    "test_targets = set(merged[merged.listening_split == 'test']['target_uid'])\n",
    "val_targets = set(merged[merged.listening_split == 'val']['target_uid'])\n",
    "\n",
    "assert len(train_targets.intersection(test_targets)) == 0 \n",
    "assert len(train_targets.intersection(val_targets)) == 0 \n",
    "assert len(test_targets.intersection(val_targets)) == 0 "
   ]
  },
  {
   "cell_type": "code",
   "execution_count": 10,
   "metadata": {},
   "outputs": [],
   "source": [
    "if save_output:\n",
    "    merged.to_csv(out_save_csv_file , index=False)"
   ]
  }
 ],
 "metadata": {
  "kernelspec": {
   "display_name": "changeit3d",
   "language": "python",
   "name": "python3"
  },
  "language_info": {
   "codemirror_mode": {
    "name": "ipython",
    "version": 3
   },
   "file_extension": ".py",
   "mimetype": "text/x-python",
   "name": "python",
   "nbconvert_exporter": "python",
   "pygments_lexer": "ipython3",
   "version": "3.8.17"
  },
  "orig_nbformat": 4,
  "vscode": {
   "interpreter": {
    "hash": "6998593bef615868a01884a31ab15a79588720b64ac6baa396e0d2c68b9e119c"
   }
  }
 },
 "nbformat": 4,
 "nbformat_minor": 2
}
