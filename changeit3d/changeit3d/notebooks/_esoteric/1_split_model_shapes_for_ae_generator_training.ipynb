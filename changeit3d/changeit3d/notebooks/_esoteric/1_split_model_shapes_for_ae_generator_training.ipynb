{
 "cells": [
  {
   "cell_type": "code",
   "execution_count": 1,
   "metadata": {},
   "outputs": [],
   "source": [
    "### Create unary train/test/val splits of shapes to train AutoEncoders.\n",
    "### For publication the random seed was 2022."
   ]
  },
  {
   "cell_type": "code",
   "execution_count": 2,
   "metadata": {},
   "outputs": [],
   "source": [
    "import pandas as pd\n",
    "import os.path as osp\n",
    "from changeit3d.utils.basics import make_train_test_val_splits"
   ]
  },
  {
   "cell_type": "code",
   "execution_count": 6,
   "metadata": {},
   "outputs": [],
   "source": [
    "save_result = False\n",
    "random_seed = 2022\n",
    "loads = [0.85, 0.05, 0.1]\n",
    "\n",
    "all_models_used_in_st = '../../data/shapetalk/misc/all_model_uids_used.csv'\n",
    "out_dir = '../../data/shapetalk/misc/'\n",
    "out_file = osp.join(out_dir, f'unary_split_rs_{random_seed}.csv')"
   ]
  },
  {
   "cell_type": "code",
   "execution_count": 7,
   "metadata": {},
   "outputs": [],
   "source": [
    "df = pd.read_csv(all_models_used_in_st)"
   ]
  },
  {
   "cell_type": "code",
   "execution_count": 8,
   "metadata": {},
   "outputs": [
    {
     "data": {
      "text/html": [
       "<div>\n",
       "<style scoped>\n",
       "    .dataframe tbody tr th:only-of-type {\n",
       "        vertical-align: middle;\n",
       "    }\n",
       "\n",
       "    .dataframe tbody tr th {\n",
       "        vertical-align: top;\n",
       "    }\n",
       "\n",
       "    .dataframe thead th {\n",
       "        text-align: right;\n",
       "    }\n",
       "</style>\n",
       "<table border=\"1\" class=\"dataframe\">\n",
       "  <thead>\n",
       "    <tr style=\"text-align: right;\">\n",
       "      <th></th>\n",
       "      <th>model_uid</th>\n",
       "      <th>object_class</th>\n",
       "      <th>dataset</th>\n",
       "      <th>model_name</th>\n",
       "    </tr>\n",
       "  </thead>\n",
       "  <tbody>\n",
       "    <tr>\n",
       "      <th>0</th>\n",
       "      <td>airplane/ModelNet/airplane_0001</td>\n",
       "      <td>airplane</td>\n",
       "      <td>ModelNet</td>\n",
       "      <td>airplane_0001</td>\n",
       "    </tr>\n",
       "    <tr>\n",
       "      <th>1</th>\n",
       "      <td>airplane/ModelNet/airplane_0004</td>\n",
       "      <td>airplane</td>\n",
       "      <td>ModelNet</td>\n",
       "      <td>airplane_0004</td>\n",
       "    </tr>\n",
       "    <tr>\n",
       "      <th>2</th>\n",
       "      <td>airplane/ModelNet/airplane_0005</td>\n",
       "      <td>airplane</td>\n",
       "      <td>ModelNet</td>\n",
       "      <td>airplane_0005</td>\n",
       "    </tr>\n",
       "    <tr>\n",
       "      <th>3</th>\n",
       "      <td>airplane/ModelNet/airplane_0007</td>\n",
       "      <td>airplane</td>\n",
       "      <td>ModelNet</td>\n",
       "      <td>airplane_0007</td>\n",
       "    </tr>\n",
       "    <tr>\n",
       "      <th>4</th>\n",
       "      <td>airplane/ModelNet/airplane_0009</td>\n",
       "      <td>airplane</td>\n",
       "      <td>ModelNet</td>\n",
       "      <td>airplane_0009</td>\n",
       "    </tr>\n",
       "  </tbody>\n",
       "</table>\n",
       "</div>"
      ],
      "text/plain": [
       "                         model_uid object_class   dataset     model_name\n",
       "0  airplane/ModelNet/airplane_0001     airplane  ModelNet  airplane_0001\n",
       "1  airplane/ModelNet/airplane_0004     airplane  ModelNet  airplane_0004\n",
       "2  airplane/ModelNet/airplane_0005     airplane  ModelNet  airplane_0005\n",
       "3  airplane/ModelNet/airplane_0007     airplane  ModelNet  airplane_0007\n",
       "4  airplane/ModelNet/airplane_0009     airplane  ModelNet  airplane_0009"
      ]
     },
     "execution_count": 8,
     "metadata": {},
     "output_type": "execute_result"
    }
   ],
   "source": [
    "df['object_class'] = df.model_uid.apply(lambda x: x.split('/')[0])\n",
    "df['dataset'] = df.model_uid.apply(lambda x: x.split('/')[1])\n",
    "df['model_name'] = df.model_uid.apply(lambda x: x.split('/')[2])\n",
    "df.head()"
   ]
  },
  {
   "cell_type": "code",
   "execution_count": 62,
   "metadata": {},
   "outputs": [
    {
     "name": "stdout",
     "output_type": "stream",
     "text": [
      "airplane   train:  2313  val:   137  test:   272\n",
      "bag        train:   118  val:     7  test:    14\n",
      "bathtub    train:   564  val:    34  test:    66\n",
      "bed        train:   634  val:    38  test:    75\n",
      "bench      train:  1408  val:    83  test:   166\n",
      "bookshelf  train:   693  val:    41  test:    82\n",
      "bottle     train:   418  val:    25  test:    49\n",
      "bowl       train:   197  val:    12  test:    23\n",
      "cabinet    train:   209  val:    12  test:    25\n",
      "cap        train:   176  val:    11  test:    21\n",
      "chair      train:  5616  val:   331  test:   661\n",
      "clock      train:   492  val:    30  test:    58\n",
      "display    train:   997  val:    60  test:   117\n",
      "dresser    train:  1436  val:    85  test:   169\n",
      "faucet     train:   543  val:    33  test:    64\n",
      "flowerpot  train:   529  val:    32  test:    62\n",
      "guitar     train:   640  val:    38  test:    75\n",
      "helmet     train:   118  val:     8  test:    14\n",
      "knife      train:   360  val:    22  test:    42\n",
      "lamp       train:  1965  val:   116  test:   231\n",
      "mug        train:   176  val:    11  test:    21\n",
      "person     train:    79  val:     6  test:     9\n",
      "pistol     train:   256  val:    16  test:    30\n",
      "plant      train:   238  val:    15  test:    28\n",
      "scissors   train:    67  val:     5  test:     8\n",
      "skateboard train:   129  val:     8  test:    15\n",
      "sofa       train:  2605  val:   154  test:   306\n",
      "table      train:  6949  val:   409  test:   818\n",
      "trashbin   train:   291  val:    18  test:    34\n",
      "vase       train:   699  val:    42  test:    82\n"
     ]
    }
   ],
   "source": [
    "# split in EVERY class independently the requested percentages\n",
    "all_splitted_dfs = []\n",
    "for object_class in df.object_class.unique():\n",
    "    sub_df = df[df.object_class == object_class].copy()\n",
    "    sub_df.reset_index(inplace=True, drop=True)\n",
    "    sub_df = make_train_test_val_splits(sub_df, loads, random_seed, split_column='model_uid', verbose=False)\n",
    "    all_splitted_dfs.append(sub_df)\n",
    "    print(f\"{object_class: <10}\", \n",
    "          \"train: {:5d}  val: {:5d}  test: {:5d}\".format((sub_df.split == \"train\").sum(),\n",
    "                                                           (sub_df.split == \"val\").sum(),\n",
    "                                                           (sub_df.split == \"test\").sum(),\n",
    "                                                          ))"
   ]
  },
  {
   "cell_type": "code",
   "execution_count": 10,
   "metadata": {},
   "outputs": [],
   "source": [
    "result = pd.concat(all_splitted_dfs)\n",
    "result.reset_index(inplace=True, drop=True)\n",
    "assert len(result.groupby(['dataset', 'object_class', 'model_name']).size()) == len(result), 'combo must be unique'"
   ]
  },
  {
   "cell_type": "code",
   "execution_count": 11,
   "metadata": {},
   "outputs": [
    {
     "data": {
      "text/html": [
       "<div>\n",
       "<style scoped>\n",
       "    .dataframe tbody tr th:only-of-type {\n",
       "        vertical-align: middle;\n",
       "    }\n",
       "\n",
       "    .dataframe tbody tr th {\n",
       "        vertical-align: top;\n",
       "    }\n",
       "\n",
       "    .dataframe thead th {\n",
       "        text-align: right;\n",
       "    }\n",
       "</style>\n",
       "<table border=\"1\" class=\"dataframe\">\n",
       "  <thead>\n",
       "    <tr style=\"text-align: right;\">\n",
       "      <th></th>\n",
       "      <th>model_uid</th>\n",
       "      <th>object_class</th>\n",
       "      <th>dataset</th>\n",
       "      <th>model_name</th>\n",
       "      <th>split</th>\n",
       "    </tr>\n",
       "  </thead>\n",
       "  <tbody>\n",
       "    <tr>\n",
       "      <th>18796</th>\n",
       "      <td>flowerpot/ShapeNet/3de068a04b96e3a3bc5996932c1...</td>\n",
       "      <td>flowerpot</td>\n",
       "      <td>ShapeNet</td>\n",
       "      <td>3de068a04b96e3a3bc5996932c1238cd</td>\n",
       "      <td>test</td>\n",
       "    </tr>\n",
       "    <tr>\n",
       "      <th>26696</th>\n",
       "      <td>sofa/ShapeNet/e1fe7e3d2dbdfda9bb5bd941c6665c21</td>\n",
       "      <td>sofa</td>\n",
       "      <td>ShapeNet</td>\n",
       "      <td>e1fe7e3d2dbdfda9bb5bd941c6665c21</td>\n",
       "      <td>train</td>\n",
       "    </tr>\n",
       "    <tr>\n",
       "      <th>35954</th>\n",
       "      <td>vase/ShapeNet/4a53c4af240c562537048583edf8ef2c</td>\n",
       "      <td>vase</td>\n",
       "      <td>ShapeNet</td>\n",
       "      <td>4a53c4af240c562537048583edf8ef2c</td>\n",
       "      <td>train</td>\n",
       "    </tr>\n",
       "  </tbody>\n",
       "</table>\n",
       "</div>"
      ],
      "text/plain": [
       "                                               model_uid object_class  \\\n",
       "18796  flowerpot/ShapeNet/3de068a04b96e3a3bc5996932c1...    flowerpot   \n",
       "26696     sofa/ShapeNet/e1fe7e3d2dbdfda9bb5bd941c6665c21         sofa   \n",
       "35954     vase/ShapeNet/4a53c4af240c562537048583edf8ef2c         vase   \n",
       "\n",
       "        dataset                        model_name  split  \n",
       "18796  ShapeNet  3de068a04b96e3a3bc5996932c1238cd   test  \n",
       "26696  ShapeNet  e1fe7e3d2dbdfda9bb5bd941c6665c21  train  \n",
       "35954  ShapeNet  4a53c4af240c562537048583edf8ef2c  train  "
      ]
     },
     "execution_count": 11,
     "metadata": {},
     "output_type": "execute_result"
    }
   ],
   "source": [
    "result.sample(3)"
   ]
  },
  {
   "cell_type": "code",
   "execution_count": 12,
   "metadata": {},
   "outputs": [
    {
     "name": "stdout",
     "output_type": "stream",
     "text": [
      "36391\n",
      "train 0.8495232337665907\n",
      "test 0.09994229342419829\n",
      "val 0.05053447280921107\n"
     ]
    }
   ],
   "source": [
    "print(len(result))\n",
    "for x in result.split.unique():\n",
    "    print(x, (result.split == x).mean())"
   ]
  },
  {
   "cell_type": "code",
   "execution_count": 66,
   "metadata": {},
   "outputs": [],
   "source": [
    "if save_result:\n",
    "    result.to_csv(out_file, index=False)"
   ]
  }
 ],
 "metadata": {
  "kernelspec": {
   "display_name": "changeit3d",
   "language": "python",
   "name": "changeit3d"
  },
  "language_info": {
   "codemirror_mode": {
    "name": "ipython",
    "version": 3
   },
   "file_extension": ".py",
   "mimetype": "text/x-python",
   "name": "python",
   "nbconvert_exporter": "python",
   "pygments_lexer": "ipython3",
   "version": "3.8.17"
  },
  "vscode": {
   "interpreter": {
    "hash": "6998593bef615868a01884a31ab15a79588720b64ac6baa396e0d2c68b9e119c"
   }
  }
 },
 "nbformat": 4,
 "nbformat_minor": 2
}
