{
 "cells": [
  {
   "cell_type": "code",
   "execution_count": 1,
   "metadata": {},
   "outputs": [],
   "source": [
    "import pandas as pd\n",
    "import numpy as np\n",
    "import os.path as osp\n",
    "\n",
    "\n",
    "from changeit3d.external_tools.imnet.loader import initialize_and_load_imnet\n",
    "from changeit3d.in_out.basics import unpickle_data\n",
    "from changeit3d.utils.visualization import visualize_point_clouds_3d_v2\n",
    "from changeit3d.in_out.pointcloud import pc_loader_from_npz\n",
    "\n",
    "%load_ext autoreload\n",
    "%autoreload 2\n",
    "%matplotlib inline"
   ]
  },
  {
   "cell_type": "code",
   "execution_count": 2,
   "metadata": {},
   "outputs": [],
   "source": [
    "## Assumes you have download ShapeTalk and our pretrained weights (shape_latents) and you have put them under ../../data\n",
    "path_to_shapetalk = '../../data/shapetalk/language/shapetalk_preprocessed_public_version_0.csv'\n",
    "path_to_imnet_latents = '../../data/pretrained/shape_latents/imnet_latent_codes.pkl'\n",
    "top_pc_dir = '../../data/shapetalk/point_clouds/scaled_to_align_rendering'\n",
    "npc_points = 2048"
   ]
  },
  {
   "cell_type": "code",
   "execution_count": 4,
   "metadata": {},
   "outputs": [
    {
     "name": "stdout",
     "output_type": "stream",
     "text": [
      "test shapes 1149\n"
     ]
    }
   ],
   "source": [
    "df = pd.read_csv(path_to_shapetalk)\n",
    "relevant_shapes = set(df[(df.changeit_split == \"test\") & df.source_object_class.isin(['chair', 'table'])]['source_uid'])\n",
    "print('test shapes', len(relevant_shapes))"
   ]
  },
  {
   "cell_type": "code",
   "execution_count": 5,
   "metadata": {},
   "outputs": [],
   "source": [
    "random_seed = 2022\n",
    "gt_pcs = {x: pc_loader_from_npz(osp.join(top_pc_dir, x + \".npz\"), \n",
    "                                n_samples=npc_points, \n",
    "                                random_seed=random_seed) for x in relevant_shapes}"
   ]
  },
  {
   "cell_type": "code",
   "execution_count": 5,
   "metadata": {},
   "outputs": [],
   "source": [
    "imnet_latents = next(unpickle_data(path_to_imnet_latents))"
   ]
  },
  {
   "cell_type": "code",
   "execution_count": 6,
   "metadata": {},
   "outputs": [],
   "source": [
    "# pick a random sub-sample of latents to decode.\n",
    "subsample = False\n",
    "if subsample:\n",
    "    n_shapes = 100\n",
    "    np.random.seed(2023)\n",
    "    uids = np.random.choice(list(relevant_shapes), n_shapes, replace=False)\n",
    "else:\n",
    "    uids = relevant_shapes\n",
    "    \n",
    "imnet_input = {uid: imnet_latents[uid] for uid in uids}"
   ]
  },
  {
   "cell_type": "code",
   "execution_count": null,
   "metadata": {},
   "outputs": [],
   "source": [
    "# nessary imports for imnet.eval_z to work\n",
    "import mcubes, math, os, torch\n",
    "from tqdm.notebook import tqdm as tqdm\n",
    "imnet = initialize_and_load_imnet()\n",
    "\n",
    "# Inference\n",
    "_, imnet_pcs =\\\n",
    "    imnet.eval_z(imnet_input, npc_points=npc_points, optimize_mesh=False, save_output=False, skip_existing=True, output_dir='./imnet_out')\n",
    "\n",
    "# Visualization\n",
    "for uid in uids:\n",
    "    display(visualize_point_clouds_3d_v2([gt_pcs[uid], imnet_pcs[uid]], fig_title=[\"\", uid]))"
   ]
  },
  {
   "cell_type": "code",
   "execution_count": 19,
   "metadata": {},
   "outputs": [
    {
     "data": {
      "text/plain": [
       "(0.00018003920558840036,\n",
       " tensor([2.1603e-04, 9.2509e-05, 2.7472e-04, 1.2180e-04, 1.9834e-04, 2.6432e-04,\n",
       "         1.5531e-04, 1.1029e-04, 2.7212e-04, 1.4641e-04, 1.6485e-04, 1.9594e-04,\n",
       "         2.0757e-04, 2.0293e-04, 2.9082e-04, 1.6907e-04, 1.6391e-04, 1.9180e-04,\n",
       "         2.2191e-04, 2.7460e-04, 2.7304e-04, 1.6627e-04, 1.4186e-04, 1.4821e-04,\n",
       "         1.2209e-04, 3.2146e-04, 1.1894e-04, 2.4946e-04, 8.3765e-05, 1.7368e-04,\n",
       "         1.5488e-04, 1.9818e-04, 1.3922e-04, 1.2126e-04, 1.3613e-04, 1.5764e-04,\n",
       "         2.3393e-04, 2.9748e-04, 1.6291e-04, 1.8832e-04, 2.1748e-04, 1.9941e-04,\n",
       "         1.5481e-04, 2.3709e-04, 2.2288e-04, 2.3366e-04, 2.2599e-04, 2.5736e-04,\n",
       "         1.2557e-04, 1.8219e-04, 1.0965e-04, 2.3126e-04, 1.6453e-04, 1.5152e-04,\n",
       "         3.0131e-04, 1.2866e-04, 2.0816e-04, 1.4232e-04, 1.3785e-04, 1.7427e-04,\n",
       "         2.3276e-04, 8.1997e-05, 1.1431e-04, 1.3093e-04, 1.6422e-04, 1.9045e-04,\n",
       "         1.5033e-04, 2.2911e-04, 1.4592e-04, 1.4185e-04, 7.2850e-05, 1.3033e-04,\n",
       "         1.3544e-04, 1.6477e-04, 1.0940e-04, 1.0085e-04, 2.9269e-04, 1.7651e-04,\n",
       "         1.7635e-04, 1.3177e-04, 1.0747e-04, 1.7270e-04, 1.1168e-04, 2.4942e-04,\n",
       "         1.5530e-04, 1.1982e-04, 2.5521e-04, 2.5499e-04, 1.3959e-04, 1.1055e-04,\n",
       "         2.0249e-04, 3.0428e-04, 2.3830e-04, 2.7887e-04, 1.7840e-04, 9.5126e-05,\n",
       "         1.2337e-04, 1.2449e-04, 1.2365e-04, 2.5540e-04]))"
      ]
     },
     "execution_count": 19,
     "metadata": {},
     "output_type": "execute_result"
    }
   ],
   "source": [
    "# optionally, measure reconstruction error of SGF vs. GT\n",
    "from changeit3d.evaluation.generic_metrics import chamfer_dists\n",
    "\n",
    "all_gt = [] \n",
    "all_recon = []\n",
    "for model_uid in imnet_pcs.keys():\n",
    "     all_gt.append(gt_pcs[model_uid])\n",
    "     all_recon.append(imnet_pcs[model_uid])     \n",
    "all_gt = np.array(all_gt)\n",
    "all_recon = np.array(all_recon)\n",
    "\n",
    "print('Average Recon Error (Chamfer):', chamfer_dists(all_gt, all_recon, 128)[0])"
   ]
  }
 ],
 "metadata": {
  "kernelspec": {
   "display_name": "c3d2",
   "language": "python",
   "name": "c3d2"
  },
  "language_info": {
   "codemirror_mode": {
    "name": "ipython",
    "version": 3
   },
   "file_extension": ".py",
   "mimetype": "text/x-python",
   "name": "python",
   "nbconvert_exporter": "python",
   "pygments_lexer": "ipython3",
   "version": "3.8.17"
  }
 },
 "nbformat": 4,
 "nbformat_minor": 2
}
