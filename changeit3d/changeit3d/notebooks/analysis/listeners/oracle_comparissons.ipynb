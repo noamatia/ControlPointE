{
 "cells": [
  {
   "cell_type": "code",
   "execution_count": 1,
   "metadata": {},
   "outputs": [],
   "source": [
    "import pandas as pd\n",
    "import os.path as osp\n",
    "from changeit3d.in_out.basics import unpickle_data"
   ]
  },
  {
   "cell_type": "code",
   "execution_count": 18,
   "metadata": {},
   "outputs": [],
   "source": [
    "restrict_classes = ['chair', 'table', 'lamp']"
   ]
  },
  {
   "cell_type": "code",
   "execution_count": 19,
   "metadata": {},
   "outputs": [
    {
     "name": "stdout",
     "output_type": "stream",
     "text": [
      "Latent based\n",
      "pcae Over all classes avg-accuracy: 0.7223638818059097\n",
      "pcae In restricted classes: 0.7254793510324484\n"
     ]
    }
   ],
   "source": [
    "print('Latent based')\n",
    "\n",
    "for model_name in [\"pcae\"]:\n",
    "    in_f = f\"../../../data/pretrained/listeners/oracle_listener/latent_based/all_shapetalk_classes/rs_2023/single_utter/transformer_based/latent_{model_name}_based/analysis_of_trained_listener.pkl\"\n",
    "    data = next(unpickle_data(in_f))[\"test\"]\n",
    "    df = data['augmented_df_with_predictions']    \n",
    "    \n",
    "    print(model_name, 'Over all classes avg-accuracy:', data['accuracy'])\n",
    "    if restrict_classes is not None:\n",
    "        ndf = df[df.target_object_class.isin(restrict_classes)]            \n",
    "        print(model_name, 'In restricted classes:', ndf['guessed_correct'].mean())    "
   ]
  },
  {
   "cell_type": "code",
   "execution_count": 20,
   "metadata": {},
   "outputs": [
    {
     "name": "stdout",
     "output_type": "stream",
     "text": [
      "Raw based\n",
      "pnet Over all classes avg-accuracy: 0.7035773211339433\n",
      "pnet In restricted classes: 0.7174594395280236\n",
      "dgcnn Over all classes avg-accuracy: 0.7703614819259037\n",
      "dgcnn In restricted classes: 0.7837389380530974\n"
     ]
    }
   ],
   "source": [
    "print('Raw based')\n",
    "for model_name in [\"pnet\", \"dgcnn\"]:\n",
    "    in_f = f\"../../../data/pretrained/listeners/oracle_listener/all_shapetalk_classes/rs_2023/listener_{model_name}_based/ablation1/analysis_of_trained_listener.pkl\"\n",
    "    data = next(unpickle_data(in_f))[\"test\"]    \n",
    "    df = data['augmented_df_with_predictions']\n",
    "    print(model_name, 'Over all classes avg-accuracy:', data['accuracy'])\n",
    "    \n",
    "    if restrict_classes is not None:\n",
    "        ndf = df[df.target_object_class.isin(restrict_classes)]    \n",
    "        print(model_name, 'In restricted classes:', ndf['guessed_correct'].mean())        "
   ]
  }
 ],
 "metadata": {
  "kernelspec": {
   "display_name": "changeit3d",
   "language": "python",
   "name": "changeit3d"
  },
  "language_info": {
   "codemirror_mode": {
    "name": "ipython",
    "version": 3
   },
   "file_extension": ".py",
   "mimetype": "text/x-python",
   "name": "python",
   "nbconvert_exporter": "python",
   "pygments_lexer": "ipython3",
   "version": "3.8.17"
  },
  "orig_nbformat": 4
 },
 "nbformat": 4,
 "nbformat_minor": 2
}
