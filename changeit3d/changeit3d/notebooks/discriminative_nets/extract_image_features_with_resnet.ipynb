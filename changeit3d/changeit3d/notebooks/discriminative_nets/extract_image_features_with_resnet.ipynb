{
 "cells": [
  {
   "cell_type": "code",
   "execution_count": 6,
   "metadata": {},
   "outputs": [],
   "source": [
    "import pandas as pd\n",
    "import numpy as np\n",
    "import os.path as osp\n",
    "import torch \n",
    "\n",
    "from changeit3d.in_out.basics import splitall, pickle_data, unpickle_data\n",
    "from changeit3d.utils.feature_extraction import extract_visual_features"
   ]
  },
  {
   "cell_type": "code",
   "execution_count": 17,
   "metadata": {},
   "outputs": [],
   "source": [
    "top_img_dir = '../../data/shapetalk/images/full_size'\n",
    "all_model_uids = '../../data/shapetalk/language/misc/all_model_uids_used.csv'\n",
    "top_out_dir = '../../data/pretrained/shape_latents'\n",
    "\n",
    "method = 'resnet101' # or 'resnet34'\n",
    "\n",
    "\n",
    "img_size = 224\n",
    "img_ending = '.png'\n",
    "\n",
    "gpu_id = '3'\n",
    "device = torch.device(\"cuda:\" + gpu_id)"
   ]
  },
  {
   "cell_type": "code",
   "execution_count": 3,
   "metadata": {},
   "outputs": [
    {
     "name": "stdout",
     "output_type": "stream",
     "text": [
      "36391\n"
     ]
    },
    {
     "data": {
      "text/html": [
       "<div>\n",
       "<style scoped>\n",
       "    .dataframe tbody tr th:only-of-type {\n",
       "        vertical-align: middle;\n",
       "    }\n",
       "\n",
       "    .dataframe tbody tr th {\n",
       "        vertical-align: top;\n",
       "    }\n",
       "\n",
       "    .dataframe thead th {\n",
       "        text-align: right;\n",
       "    }\n",
       "</style>\n",
       "<table border=\"1\" class=\"dataframe\">\n",
       "  <thead>\n",
       "    <tr style=\"text-align: right;\">\n",
       "      <th></th>\n",
       "      <th>model_uid</th>\n",
       "    </tr>\n",
       "  </thead>\n",
       "  <tbody>\n",
       "    <tr>\n",
       "      <th>0</th>\n",
       "      <td>airplane/ModelNet/airplane_0001</td>\n",
       "    </tr>\n",
       "  </tbody>\n",
       "</table>\n",
       "</div>"
      ],
      "text/plain": [
       "                         model_uid\n",
       "0  airplane/ModelNet/airplane_0001"
      ]
     },
     "execution_count": 3,
     "metadata": {},
     "output_type": "execute_result"
    }
   ],
   "source": [
    "df = pd.read_csv(all_model_uids)\n",
    "print(len(df))\n",
    "df.head(1)"
   ]
  },
  {
   "cell_type": "code",
   "execution_count": 4,
   "metadata": {},
   "outputs": [],
   "source": [
    "img_files = top_img_dir + '/' + df.model_uid + img_ending\n",
    "df = df.assign(img_files=img_files)\n",
    "assert all(df.img_files.apply(osp.exists)), 'all files exist'"
   ]
  },
  {
   "cell_type": "code",
   "execution_count": 5,
   "metadata": {},
   "outputs": [],
   "source": [
    "# Extract features\n",
    "feats = extract_visual_features(img_files.tolist(), img_size, method=method, device=device)\n",
    "assert len(df) == len(feats)"
   ]
  },
  {
   "cell_type": "code",
   "execution_count": 13,
   "metadata": {},
   "outputs": [],
   "source": [
    "# Pass them to a dictionary\n",
    "shape_to_latent = dict()\n",
    "cnt = 0\n",
    "for filename, feat in zip(img_files, feats):\n",
    "    \n",
    "    shape_uid = osp.join(*splitall(filename)[-3:])[:-len(img_ending)]\n",
    "    shape_to_latent[shape_uid] = feat\n",
    "    assert df.model_uid.iloc[cnt] == shape_uid\n",
    "    cnt += 1\n",
    "assert len(shape_to_latent) == len(df)"
   ]
  },
  {
   "cell_type": "code",
   "execution_count": 14,
   "metadata": {},
   "outputs": [],
   "source": [
    "pickle_data(osp.join(top_out_dir, f'{method}_latent_codes.pkl'), shape_to_latent)"
   ]
  },
  {
   "cell_type": "code",
   "execution_count": 21,
   "metadata": {},
   "outputs": [],
   "source": [
    "## OPTIONAL: \n",
    "    # Push features back to GPU to do nearest-neighbors\n",
    "\n",
    "from changeit3d.utils.distances import k_euclidean_neighbors    \n",
    "from PIL import Image\n",
    "shape_to_latent = next(unpickle_data(osp.join(top_out_dir, f'{method}_latent_codes.pkl')))\n",
    "\n",
    "feats = []\n",
    "for filename in img_files:\n",
    "    shape_uid = osp.join(*splitall(filename)[-3:])[:-len(img_ending)]    \n",
    "    feats.append(shape_to_latent[shape_uid])\n",
    "feats = np.array(feats)"
   ]
  },
  {
   "cell_type": "code",
   "execution_count": 18,
   "metadata": {},
   "outputs": [
    {
     "name": "stdout",
     "output_type": "stream",
     "text": [
      "torch.Size([36391, 2048])\n"
     ]
    }
   ],
   "source": [
    "feats = torch.from_numpy(feats).to(device)\n",
    "print(feats.shape)"
   ]
  },
  {
   "cell_type": "code",
   "execution_count": 19,
   "metadata": {},
   "outputs": [],
   "source": [
    "# Find Neighbors.\n",
    "n_imgs = len(feats)\n",
    "identities = torch.arange(n_imgs)"
   ]
  },
  {
   "cell_type": "code",
   "execution_count": 25,
   "metadata": {},
   "outputs": [
    {
     "data": {
      "image/png": "[encoded data removed]",
      "text/plain": [
       "<PIL.PngImagePlugin.PngImageFile image mode=RGBA size=700x620>"
      ]
     },
     "metadata": {},
     "output_type": "display_data"
    },
    {
     "data": {
      "image/png": "[encoded data removed]",
      "text/plain": [
       "<PIL.PngImagePlugin.PngImageFile image mode=RGBA size=700x620>"
      ]
     },
     "metadata": {},
     "output_type": "display_data"
    }
   ],
   "source": [
    "max_k = 2\n",
    "r_id = np.random.choice(n_imgs-1, 1)[0]\n",
    "n_dists, n_ids = k_euclidean_neighbors(max_k, feats[r_id:r_id+1], feats, exclude_identity=False, identities=identities)\n",
    "n_dists = n_dists.cpu().numpy()\n",
    "n_ids = n_ids.cpu().numpy()\n",
    "\n",
    "for im_file in df.img_files.iloc[n_ids[0]]:\n",
    "    display(Image.open(im_file))"
   ]
  }
 ],
 "metadata": {
  "kernelspec": {
   "display_name": "changeit3d",
   "language": "python",
   "name": "python3"
  },
  "language_info": {
   "codemirror_mode": {
    "name": "ipython",
    "version": 3
   },
   "file_extension": ".py",
   "mimetype": "text/x-python",
   "name": "python",
   "nbconvert_exporter": "python",
   "pygments_lexer": "ipython3",
   "version": "3.9.16"
  },
  "vscode": {
   "interpreter": {
    "hash": "6998593bef615868a01884a31ab15a79588720b64ac6baa396e0d2c68b9e119c"
   }
  }
 },
 "nbformat": 4,
 "nbformat_minor": 2
}
