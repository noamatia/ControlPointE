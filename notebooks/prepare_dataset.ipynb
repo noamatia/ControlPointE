{
 "cells": [
  {
   "cell_type": "code",
   "execution_count": 21,
   "metadata": {},
   "outputs": [],
   "source": [
    "import os\n",
    "os.environ[\"CUDA_VISIBLE_DEVICES\"] = \"1\"\n",
    "import torch\n",
    "import random\n",
    "import numpy as np\n",
    "import pandas as pd\n",
    "from tqdm import tqdm\n",
    "from chamferdist import ChamferDistance\n",
    "tqdm.pandas()"
   ]
  },
  {
   "cell_type": "code",
   "execution_count": 22,
   "metadata": {},
   "outputs": [],
   "source": [
    "wn_df = pd.read_csv(\"/scratch/noam/ShapeNetCore.v1/03001627.csv\")\n",
    "\n",
    "def uid_to_wnlemma(uid):\n",
    "    uid_df = wn_df[wn_df[\"fullId\"] == f\"3dw.{uid.split('/')[-1]}\"]\n",
    "    if len(uid_df) == 0:\n",
    "        return \"chair\"\n",
    "    return \",\".join([row[\"wnlemmas\"] for i, row in uid_df.iterrows()])\n",
    "\n",
    "df = pd.read_csv('/scratch/noam/shapetalk/language/chair_test.csv')\n",
    "# df.drop(columns=['l2_distance', 'chamfer_distance'], inplace=True)\n",
    "df['llama3_uttarance'] = df['llama3_uttarance'].str.removesuffix('.')\n",
    "df = df.rename(columns={'llama3_uttarance': 'llama3_utterance'})\n",
    "df[\"source_wnlemmas\"] = df[\"source_uid\"].apply(lambda x: uid_to_wnlemma(x))\n",
    "df[\"target_wnlemmas\"] = df[\"target_uid\"].apply(lambda x: uid_to_wnlemma(x))\n",
    "df[\"intersect_wnlemmas\"] = df.apply(lambda x: \",\".join(set(x[\"source_wnlemmas\"].split(\",\")).intersection(set(x[\"target_wnlemmas\"].split(\",\")))), axis=1)"
   ]
  },
  {
   "cell_type": "code",
   "execution_count": 23,
   "metadata": {},
   "outputs": [
    {
     "name": "stderr",
     "output_type": "stream",
     "text": [
      "100%|██████████| 7540/7540 [00:00<00:00, 217136.43it/s]\n",
      "100%|██████████| 7540/7540 [00:00<00:00, 183761.88it/s]\n"
     ]
    }
   ],
   "source": [
    "def build_random_wnlemma(wnlemmas):\n",
    "    if pd.isna(wnlemmas) or wnlemmas == \"\":\n",
    "        return wnlemmas\n",
    "    wnlemmas = wnlemmas.split(\",\")\n",
    "    if \"chair\" in wnlemmas and len(wnlemmas) > 1:\n",
    "        wnlemmas.remove(\"chair\")\n",
    "    wnlemma = random.choice(wnlemmas)\n",
    "    if wnlemma[0].lower() in 'aeiou':\n",
    "        return f\"an {wnlemma}\"\n",
    "    return f\"a {wnlemma}\"\n",
    "\n",
    "def build_prompt(wnlemma, llama3_utterance):\n",
    "    if pd.isna(wnlemma) or wnlemma == \"\" or llama3_utterance == \"Unknown\":\n",
    "        return \"Unknown\"\n",
    "    return llama3_utterance.replace(\"a chair\", wnlemma)\n",
    "\n",
    "\n",
    "df[\"random_wnlemma\"] = df.progress_apply(lambda x: build_random_wnlemma(x[\"intersect_wnlemmas\"]), axis=1)\n",
    "df[\"llama3_wnlemma_utterance\"] = df.progress_apply(lambda x: build_prompt(x[\"random_wnlemma\"], x[\"llama3_utterance\"]), axis=1)"
   ]
  },
  {
   "cell_type": "code",
   "execution_count": 25,
   "metadata": {},
   "outputs": [
    {
     "name": "stderr",
     "output_type": "stream",
     "text": [
      "100%|██████████| 62392/62392 [04:28<00:00, 232.03it/s]\n"
     ]
    }
   ],
   "source": [
    "tqdm.pandas()\n",
    "device = torch.device(\"cuda\" if torch.cuda.is_available() else \"cpu\")\n",
    "chamfer_distance = ChamferDistance().to(device)\n",
    "\n",
    "def eval_chamfer_distance(uid1, uid2, num_points=2048):\n",
    "    path1 = f'/scratch/noam/shapetalk/point_clouds/scaled_to_align_rendering/{uid1}.npz'\n",
    "    path2 = f'/scratch/noam/shapetalk/point_clouds/scaled_to_align_rendering/{uid2}.npz'\n",
    "    data1 = np.load(path1)\n",
    "    data2 = np.load(path2)\n",
    "    pc1 = torch.tensor(data1['pointcloud']).to(device)\n",
    "    pc2 = torch.tensor(data2['pointcloud']).to(device)\n",
    "    pc1 = pc1[torch.randperm(pc1.size(0))[:num_points]]\n",
    "    pc2 = pc2[torch.randperm(pc2.size(0))[:num_points]]\n",
    "    data1 = pc1.unsqueeze(0)\n",
    "    data2 = pc2.unsqueeze(0)\n",
    "    return chamfer_distance(data1,data2).item()\n",
    "\n",
    "df[\"chamfer_distance\"] = df.progress_apply(lambda x: eval_chamfer_distance(x[\"source_uid\"], x[\"target_uid\"]), axis=1)"
   ]
  },
  {
   "cell_type": "code",
   "execution_count": 26,
   "metadata": {},
   "outputs": [
    {
     "data": {
      "text/plain": [
       "62392"
      ]
     },
     "execution_count": 26,
     "metadata": {},
     "output_type": "execute_result"
    }
   ],
   "source": [
    "len(df)"
   ]
  },
  {
   "cell_type": "code",
   "execution_count": 27,
   "metadata": {},
   "outputs": [
    {
     "data": {
      "text/plain": [
       "7576"
      ]
     },
     "execution_count": 27,
     "metadata": {},
     "output_type": "execute_result"
    }
   ],
   "source": [
    "len(df[df[\"llama3_wnlemma_utterance\"] != \"Unknown\"])"
   ]
  },
  {
   "cell_type": "code",
   "execution_count": 28,
   "metadata": {},
   "outputs": [
    {
     "data": {
      "text/plain": [
       "Index(['workerid', 'prompt', 'utterance', 'assignmentid', 'worktimeinseconds',\n",
       "       'source_model_name', 'source_object_class', 'source_dataset',\n",
       "       'target_model_name', 'target_object_class', 'target_dataset',\n",
       "       'is_patched', 'target_uid', 'source_uid', 'hard_context',\n",
       "       'target_original_object_class', 'source_original_object_class',\n",
       "       'saliency', 'tokens', 'tokens_len', 'utterance_spelled',\n",
       "       'target_unary_split', 'source_unary_split', 'listening_split',\n",
       "       'changeit_split', 'tokens_encoded', 'llama3_utterance',\n",
       "       'source_wnlemmas', 'target_wnlemmas', 'intersect_wnlemmas',\n",
       "       'random_wnlemma', 'llama3_wnlemma_utterance', 'chamfer_distance'],\n",
       "      dtype='object')"
      ]
     },
     "execution_count": 28,
     "metadata": {},
     "output_type": "execute_result"
    }
   ],
   "source": [
    "df.columns"
   ]
  },
  {
   "cell_type": "code",
   "execution_count": 29,
   "metadata": {},
   "outputs": [
    {
     "data": {
      "text/plain": [
       "array(['a lawn chair', 'a chair', 'a side chair', '', 'a straight chair',\n",
       "       'an armchair', 'a club chair', 'a swivel chair', 'a Windsor chair',\n",
       "       'a lounge chair', 'a rocker', 'a vis-a-vis', 'a rex chair',\n",
       "       'a bench', 'an easy chair', 'a rocking chair',\n",
       "       'an overstuffed chair', 'a cantilever chair', 'a ball chair',\n",
       "       'a wing chair', 'a folding chair', 'a sofa', 'a zigzag chair',\n",
       "       'a lounge', 'a NO. 14 chair', 'a tete-a-tete', 'a couch',\n",
       "       'a deck chair', 'a bean chair', 'a love seat', 'a lounger',\n",
       "       'a park bench', 'a barcelona chair', 'a wassily chair', 'a daybed',\n",
       "       'a Morris chair', 'a chaise', 'a garden chair', 'a loveseat',\n",
       "       'a tulip chair', 'a wheelchair', 'a camp chair',\n",
       "       'a reclining chair', 'a chaise longue', 'a beach chair',\n",
       "       'a X chair', 'an Eames chair', 'a recliner'], dtype=object)"
      ]
     },
     "execution_count": 29,
     "metadata": {},
     "output_type": "execute_result"
    }
   ],
   "source": [
    "df[\"random_wnlemma\"].unique()"
   ]
  },
  {
   "cell_type": "code",
   "execution_count": 30,
   "metadata": {},
   "outputs": [
    {
     "data": {
      "text/plain": [
       "array(['Unknown', 'a chair with a spindle backrest',\n",
       "       'a straight chair with a thick seat', 'a chair with short legs',\n",
       "       'a chair with long legs', 'a chair with a curved backrest',\n",
       "       'a chair with two legs', 'a chair without armrests',\n",
       "       'an armchair with four legs', 'a chair with armrests',\n",
       "       'a chair with four legs', 'a chair with thick legs',\n",
       "       'a lounge chair without armrests', 'a chair with thin legs',\n",
       "       'a chair with a short backrest', 'a straight chair with two legs',\n",
       "       'an armchair with a short backrest',\n",
       "       'a straight chair with thick legs',\n",
       "       'a chair without a legs strecher', 'a chair with a thick seat',\n",
       "       'a chair with a wide seat',\n",
       "       'a straight chair with a solid backrest',\n",
       "       'a side chair without armrests', 'a chair with a thin seat',\n",
       "       'a vis-a-vis with thin legs', 'an armchair with a solid backrest',\n",
       "       'a chair with a solid backrest',\n",
       "       'a side chair with a rounded backrest',\n",
       "       'an armchair with a rounded backrest',\n",
       "       'a chair with a rounded backrest', 'an armchair with short legs',\n",
       "       'a side chair with short legs', 'a chair with a long backrest',\n",
       "       'a straight chair with a rounded backrest',\n",
       "       'an armchair with a squared backrest',\n",
       "       'a club chair with thin legs', 'a chair with a squared backrest',\n",
       "       'a club chair with thick legs',\n",
       "       'a side chair with a solid backrest',\n",
       "       'a straight chair with a legs strecher',\n",
       "       'a straight chair with short legs', 'an armchair with a wide seat',\n",
       "       'a chair with a straight backrest', 'a side chair with four legs',\n",
       "       'an armchair with a long backrest',\n",
       "       'a side chair with a curved backrest',\n",
       "       'a side chair with a squared backrest',\n",
       "       'a Windsor chair with short legs', 'a chair with a legs strecher',\n",
       "       'a swivel chair without armrests',\n",
       "       'a swivel chair with a curved backrest',\n",
       "       'a side chair with two legs', 'an easy chair with a thick seat',\n",
       "       'a side chair with long legs',\n",
       "       'an armchair with a spindle backrest',\n",
       "       'a lounge chair with a rounded backrest',\n",
       "       'a zigzag chair with armrests', 'a straight chair with long legs',\n",
       "       'a club chair with long legs', 'a rocking chair without armrests',\n",
       "       'an armchair with armrests', 'a side chair with thick legs',\n",
       "       'a swivel chair with armrests',\n",
       "       'a lounge chair with a long backrest',\n",
       "       'a side chair with a thin seat', 'a club chair with armrests',\n",
       "       'a Windsor chair with thin legs',\n",
       "       'a side chair with a spindle backrest',\n",
       "       'a club chair with a wide seat', 'a sofa without armrests',\n",
       "       'a swivel chair with four legs', 'a tete-a-tete without armrests',\n",
       "       'an overstuffed chair with four legs',\n",
       "       'an armchair with a legs strecher',\n",
       "       'a side chair with a wide seat',\n",
       "       'a club chair with a squared backrest',\n",
       "       'a chair with a narrow seat', 'an easy chair without armrests',\n",
       "       'a straight chair with a long backrest',\n",
       "       'an armchair with thin legs', 'a side chair with a thick seat',\n",
       "       'an armchair with a curved backrest',\n",
       "       'a club chair with a curved backrest',\n",
       "       'an overstuffed chair with thin legs',\n",
       "       'a straight chair with thin legs', 'an easy chair with short legs',\n",
       "       'a club chair with a solid backrest',\n",
       "       'a straight chair with four legs', 'a club chair with short legs',\n",
       "       'a club chair without armrests', 'a couch with thick legs',\n",
       "       'a cantilever chair without armrests', 'an armchair with two legs',\n",
       "       'a straight chair with a curved backrest',\n",
       "       'an armchair with a thick seat',\n",
       "       'a side chair with a long backrest', 'an armchair with thick legs',\n",
       "       'a straight chair with a wide seat',\n",
       "       'a rocker with a solid backrest', 'a chair with thin armrests',\n",
       "       'a Windsor chair without a legs strecher',\n",
       "       'an armchair with long legs', 'an armchair without armrests',\n",
       "       'a club chair with four legs', 'a side chair with thin legs',\n",
       "       'an armchair with a thin seat',\n",
       "       'a club chair with a spindle backrest',\n",
       "       'a straight chair without a legs strecher',\n",
       "       'a club chair with a thick seat',\n",
       "       'a club chair with a legs strecher',\n",
       "       'a zigzag chair with a wide seat',\n",
       "       'an armchair without a legs strecher',\n",
       "       'a side chair with a legs strecher',\n",
       "       'a rocking chair with thin legs', 'a rocker with armrests',\n",
       "       'a Windsor chair with thick legs',\n",
       "       'a daybed with a solid backrest',\n",
       "       'a swivel chair with a squared backrest',\n",
       "       'a cantilever chair with armrests',\n",
       "       'a swivel chair with a rounded backrest',\n",
       "       'a straight chair with a squared backrest',\n",
       "       'a folding chair with a thin seat', 'a lounge with short legs',\n",
       "       'an armchair with a straight backrest', 'a sofa with four legs',\n",
       "       'a swivel chair with thin legs', 'a daybed with a thick seat',\n",
       "       'a rex chair with short legs',\n",
       "       'a club chair with a rounded backrest',\n",
       "       'a chair with a thick backrest',\n",
       "       'a club chair with a long backrest', 'a lounge with thin legs',\n",
       "       'a side chair with armrests', 'a folding chair with thin legs',\n",
       "       'a barcelona chair without armrests',\n",
       "       'a rocker with a squared backrest',\n",
       "       'an armchair with thick armrests', 'a lounge chair with armrests',\n",
       "       'a straight chair with a thin seat',\n",
       "       'a club chair with a straight backrest',\n",
       "       'a couch without armrests',\n",
       "       'a side chair with a straight backrest',\n",
       "       'a cantilever chair with a solid backrest',\n",
       "       'a sofa with a curved backrest', 'an easy chair with thin legs',\n",
       "       'a folding chair with a solid backrest',\n",
       "       'a folding chair with four legs',\n",
       "       'a straight chair with a straight backrest',\n",
       "       'an overstuffed chair with armrests',\n",
       "       'a vis-a-vis with a solid backrest',\n",
       "       'an easy chair with a long backrest',\n",
       "       'an armchair with a narrow seat',\n",
       "       'a straight chair with a spindle backrest',\n",
       "       'a folding chair without a legs strecher',\n",
       "       'a garden chair without armrests',\n",
       "       'a straight chair with a short backrest',\n",
       "       'a Windsor chair with long legs',\n",
       "       'a rex chair with a legs strecher', 'a rocker with a thick seat',\n",
       "       'a lounge chair with a wide seat',\n",
       "       'an overstuffed chair with a thick seat',\n",
       "       'a lounge chair with a short backrest',\n",
       "       'a Windsor chair without armrests',\n",
       "       'a rocking chair with armrests',\n",
       "       'a daybed with a straight backrest',\n",
       "       'a side chair without a legs strecher',\n",
       "       'a club chair with two legs', 'a bench without armrests',\n",
       "       'a cantilever chair with thick legs', 'a rocker with a thin seat',\n",
       "       'a swivel chair with a thick seat', 'an easy chair with armrests',\n",
       "       'a swivel chair with a thin seat', 'a club chair with a thin seat',\n",
       "       'a rex chair with four legs', 'a lounge chair with a thin seat',\n",
       "       'a lawn chair with armrests', 'a straight chair with armrests',\n",
       "       'a lounge with thick legs', 'a swivel chair with long legs',\n",
       "       'a swivel chair with a wide seat',\n",
       "       'a straight chair with a narrow seat', 'a X chair with long legs',\n",
       "       'a lounge chair with two legs',\n",
       "       'a rocking chair without a legs strecher',\n",
       "       'a zigzag chair with a squared backrest',\n",
       "       'a rex chair with armrests', 'a Windsor chair with a thick seat',\n",
       "       'a lounge with armrests', 'a swivel chair with a solid backrest',\n",
       "       'a Windsor chair with a thin seat',\n",
       "       'an overstuffed chair with a wide seat',\n",
       "       'a rex chair with thick legs', 'a park bench without armrests',\n",
       "       'a rocking chair with a legs strecher',\n",
       "       'a lounge chair with a narrow seat',\n",
       "       'a wing chair with a thick seat',\n",
       "       'a straight chair without armrests',\n",
       "       'a tulip chair with a wide seat', 'an easy chair with a wide seat',\n",
       "       'an overstuffed chair with long legs',\n",
       "       'a lounge chair with short legs',\n",
       "       'an overstuffed chair with short legs',\n",
       "       'a cantilever chair with a wide seat',\n",
       "       'an easy chair with four legs',\n",
       "       'an armchair with a thick backrest',\n",
       "       'a tete-a-tete with a wide seat', 'a sofa with armrests',\n",
       "       'an overstuffed chair without armrests',\n",
       "       'a side chair with a narrow seat',\n",
       "       'a chaise with a solid backrest',\n",
       "       'a Windsor chair with a wide seat',\n",
       "       'an overstuffed chair with a thin seat', 'a couch with armrests',\n",
       "       'a lounge chair with a thick seat',\n",
       "       'a swivel chair with a narrow seat',\n",
       "       'a folding chair with a long backrest',\n",
       "       'a cantilever chair with a thick seat',\n",
       "       'a ball chair with armrests', 'a lounge with four legs',\n",
       "       'a chaise longue with armrests', 'a rocker with thick legs',\n",
       "       'a club chair with a narrow seat',\n",
       "       'an easy chair with a thin seat', 'a sofa with short legs',\n",
       "       'a folding chair with armrests', 'a bench with a spindle backrest',\n",
       "       'a folding chair with a legs strecher',\n",
       "       'a rocking chair with a narrow seat',\n",
       "       'a rocking chair with short legs',\n",
       "       'a zigzag chair without armrests', 'a lawn chair with four legs',\n",
       "       'a zigzag chair with a thin seat', 'a sofa with a short backrest',\n",
       "       'a NO. 14 chair with a thin seat',\n",
       "       'a beach chair with a wide seat',\n",
       "       'a swivel chair with a straight backrest',\n",
       "       'a Windsor chair with a curved backrest',\n",
       "       'an easy chair with a straight backrest',\n",
       "       'a couch with a wide seat', 'an easy chair with thick legs',\n",
       "       'a barcelona chair with a wide seat',\n",
       "       'a chair with thick armrests',\n",
       "       'a Morris chair with a legs strecher', 'a daybed with thin legs',\n",
       "       'a swivel chair with short legs',\n",
       "       'a cantilever chair with a rounded backrest',\n",
       "       'a lounge with a thin seat',\n",
       "       'an overstuffed chair with thick legs',\n",
       "       'a chaise with a thick seat', 'an easy chair with long legs',\n",
       "       'a Windsor chair with a straight backrest',\n",
       "       'a lounge with long legs', 'a folding chair with a thick seat',\n",
       "       'a rocking chair with a solid backrest'], dtype=object)"
      ]
     },
     "execution_count": 30,
     "metadata": {},
     "output_type": "execute_result"
    }
   ],
   "source": [
    "df[\"llama3_wnlemma_utterance\"].unique()"
   ]
  },
  {
   "cell_type": "code",
   "execution_count": 31,
   "metadata": {},
   "outputs": [],
   "source": [
    "df.to_csv(\"/scratch/noam/control_point_e/datasets/chair/train.csv\", index=False)"
   ]
  },
  {
   "cell_type": "code",
   "execution_count": 10,
   "metadata": {},
   "outputs": [
    {
     "data": {
      "text/plain": [
       "array(['a chair with short legs', 'a chair with a long backrest',\n",
       "       'Unknown', 'a chair with four legs', 'a chair without armrests',\n",
       "       'a chair with thick legs', 'a chair with a rounded backrest',\n",
       "       'a chair with a solid backrest',\n",
       "       'a chair with a straight backrest', 'a chair with a thick seat',\n",
       "       'a chair with a thin seat', 'a chair with armrests',\n",
       "       'a chair with thin legs', 'a chair with a short backrest',\n",
       "       'a chair with a curved backrest', 'a chair with long legs',\n",
       "       'a chair with two legs', 'a chair with a spindle backrest',\n",
       "       'a chair with a wide seat', 'a chair with a legs strecher',\n",
       "       'a chair with a squared backrest',\n",
       "       'a chair without a legs strecher', 'a chair with a narrow seat'],\n",
       "      dtype=object)"
      ]
     },
     "execution_count": 10,
     "metadata": {},
     "output_type": "execute_result"
    }
   ],
   "source": [
    "df['llama3_utterance'].unique()"
   ]
  },
  {
   "cell_type": "code",
   "execution_count": 36,
   "metadata": {},
   "outputs": [],
   "source": [
    "new_df = df[df['llama3_utterance'].isin(['a chair without armrests', 'a chair with armrests'])]"
   ]
  },
  {
   "cell_type": "code",
   "execution_count": 37,
   "metadata": {},
   "outputs": [
    {
     "data": {
      "text/plain": [
       "array(['a chair without armrests', 'a chair with armrests'], dtype=object)"
      ]
     },
     "execution_count": 37,
     "metadata": {},
     "output_type": "execute_result"
    }
   ],
   "source": [
    "new_df['llama3_utterance'].unique()"
   ]
  },
  {
   "cell_type": "code",
   "execution_count": 38,
   "metadata": {},
   "outputs": [],
   "source": [
    "headers = ['negative_uid', 'positive_uid', 'wnlemma', 'negative_utterance', 'positive_utterance']\n",
    "rows = []\n",
    "for i, row in new_df.iterrows():\n",
    "    if row['llama3_utterance'] == 'a chair without armrests':\n",
    "        negative_uid = row['target_uid']\n",
    "        positive_uid = row['source_uid']\n",
    "        wnlemma = row['random_wnlemma']\n",
    "        negative_utterance = row['llama3_wnlemma_utterance']\n",
    "        positive_utterance = row['llama3_wnlemma_utterance'].replace(\"without armrests\", \"with armrests\")\n",
    "    elif row['llama3_utterance'] == 'a chair with armrests':\n",
    "        negative_uid = row['source_uid']\n",
    "        positive_uid = row['target_uid']\n",
    "        wnlemma = row['random_wnlemma']\n",
    "        negative_utterance = row['llama3_wnlemma_utterance'].replace(\"with armrests\", \"without armrests\")\n",
    "        positive_utterance = row['llama3_wnlemma_utterance']\n",
    "    rows.append([negative_uid, positive_uid, wnlemma, negative_utterance, positive_utterance])\n",
    "new_df = pd.DataFrame(rows, columns=headers)\n",
    "new_df = new_df[new_df[\"negative_utterance\"] != \"Unknown\"]\n",
    "new_df.to_csv(\"/scratch/noam/control_point_e/datasets/chair_armrests_lora/val.csv\", index=False)\n",
    "\n"
   ]
  },
  {
   "cell_type": "code",
   "execution_count": 41,
   "metadata": {},
   "outputs": [
    {
     "data": {
      "text/plain": [
       "array(['a chair', 'a swivel chair', 'a rocker', 'an armchair',\n",
       "       'a club chair', 'a side chair', 'an easy chair', 'a garden chair',\n",
       "       'a rex chair', 'a zigzag chair', 'a lounge chair', 'a ladder-back'],\n",
       "      dtype=object)"
      ]
     },
     "execution_count": 41,
     "metadata": {},
     "output_type": "execute_result"
    }
   ],
   "source": [
    "new_df['wnlemma'].unique()"
   ]
  }
 ],
 "metadata": {
  "kernelspec": {
   "display_name": "point-e",
   "language": "python",
   "name": "python3"
  },
  "language_info": {
   "codemirror_mode": {
    "name": "ipython",
    "version": 3
   },
   "file_extension": ".py",
   "mimetype": "text/x-python",
   "name": "python",
   "nbconvert_exporter": "python",
   "pygments_lexer": "ipython3",
   "version": "3.10.14"
  }
 },
 "nbformat": 4,
 "nbformat_minor": 2
}
