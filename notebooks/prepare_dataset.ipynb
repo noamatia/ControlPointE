{
 "cells": [
  {
   "cell_type": "code",
   "execution_count": 10,
   "metadata": {},
   "outputs": [],
   "source": [
    "import os\n",
    "os.environ[\"CUDA_VISIBLE_DEVICES\"] = \"1\"\n",
    "import torch\n",
    "import random\n",
    "import numpy as np\n",
    "import pandas as pd\n",
    "from tqdm import tqdm\n",
    "from chamferdist import ChamferDistance\n",
    "tqdm.pandas()"
   ]
  },
  {
   "cell_type": "code",
   "execution_count": 11,
   "metadata": {},
   "outputs": [
    {
     "name": "stderr",
     "output_type": "stream",
     "text": [
      "/tmp/ipykernel_3554754/3568861861.py:9: DtypeWarning: Columns (1) have mixed types. Specify dtype option on import or set low_memory=False.\n",
      "  df = pd.read_csv('/scratch/noam/shapetalk/language/chair_train.csv')\n"
     ]
    }
   ],
   "source": [
    "wn_df = pd.read_csv(\"/scratch/noam/ShapeNetCore.v1/03001627.csv\")\n",
    "\n",
    "def uid_to_wnlemma(uid):\n",
    "    uid_df = wn_df[wn_df[\"fullId\"] == f\"3dw.{uid.split('/')[-1]}\"]\n",
    "    if len(uid_df) == 0:\n",
    "        return \"chair\"\n",
    "    return \",\".join([row[\"wnlemmas\"] for i, row in uid_df.iterrows()])\n",
    "\n",
    "df = pd.read_csv('/scratch/noam/shapetalk/language/chair_train.csv')\n",
    "df.drop(columns=['l2_distance', 'chamfer_distance'], inplace=True)\n",
    "df['llama3_uttarance'] = df['llama3_uttarance'].str.removesuffix('.')\n",
    "df = df.rename(columns={'llama3_uttarance': 'llama3_utterance'})\n",
    "df[\"source_wnlemmas\"] = df[\"source_uid\"].apply(lambda x: uid_to_wnlemma(x))\n",
    "df[\"target_wnlemmas\"] = df[\"target_uid\"].apply(lambda x: uid_to_wnlemma(x))\n",
    "df[\"intersect_wnlemmas\"] = df.apply(lambda x: \",\".join(set(x[\"source_wnlemmas\"].split(\",\")).intersection(set(x[\"target_wnlemmas\"].split(\",\")))), axis=1)"
   ]
  },
  {
   "cell_type": "code",
   "execution_count": 12,
   "metadata": {},
   "outputs": [
    {
     "name": "stderr",
     "output_type": "stream",
     "text": [
      "100%|██████████| 62392/62392 [00:00<00:00, 180140.88it/s]\n"
     ]
    }
   ],
   "source": [
    "def build_prompt(wnlemmas, llama3_utterance):\n",
    "    if pd.isna(wnlemmas) or wnlemmas == \"\":\n",
    "        return \"Unknown\"\n",
    "    if llama3_utterance == \"Unknown\" or wnlemmas == \"chair\":\n",
    "        return llama3_utterance\n",
    "    wnlemmas = wnlemmas.split(\",\")\n",
    "    if \"chair\" in wnlemmas:\n",
    "        wnlemmas.remove(\"chair\")\n",
    "    wnlemma = random.choice(wnlemmas)\n",
    "    if wnlemma[0].lower() in 'aeiou':\n",
    "        return llama3_utterance.replace(\"a chair\", f\"an {wnlemma}\")\n",
    "    return llama3_utterance.replace(\"a chair\", f\"a {wnlemma}\")\n",
    "\n",
    "df[\"llama3_wnlemma_utterance\"] = df.progress_apply(lambda x: build_prompt(x[\"intersect_wnlemmas\"], x[\"llama3_utterance\"]), axis=1)"
   ]
  },
  {
   "cell_type": "code",
   "execution_count": 13,
   "metadata": {},
   "outputs": [
    {
     "name": "stderr",
     "output_type": "stream",
     "text": [
      "100%|██████████| 62392/62392 [04:10<00:00, 249.46it/s]\n"
     ]
    }
   ],
   "source": [
    "tqdm.pandas()\n",
    "device = torch.device(\"cuda\" if torch.cuda.is_available() else \"cpu\")\n",
    "chamfer_distance = ChamferDistance().to(device)\n",
    "\n",
    "def eval_chamfer_distance(uid1, uid2, num_points=2048):\n",
    "    path1 = f'/scratch/noam/shapetalk/point_clouds/scaled_to_align_rendering/{uid1}.npz'\n",
    "    path2 = f'/scratch/noam/shapetalk/point_clouds/scaled_to_align_rendering/{uid2}.npz'\n",
    "    data1 = np.load(path1)\n",
    "    data2 = np.load(path2)\n",
    "    pc1 = torch.tensor(data1['pointcloud']).to(device)\n",
    "    pc2 = torch.tensor(data2['pointcloud']).to(device)\n",
    "    pc1 = pc1[torch.randperm(pc1.size(0))[:num_points]]\n",
    "    pc2 = pc2[torch.randperm(pc2.size(0))[:num_points]]\n",
    "    data1 = pc1.unsqueeze(0)\n",
    "    data2 = pc2.unsqueeze(0)\n",
    "    return chamfer_distance(data1,data2).item()\n",
    "\n",
    "df[\"chamfer_distance\"] = df.progress_apply(lambda x: eval_chamfer_distance(x[\"source_uid\"], x[\"target_uid\"]), axis=1)"
   ]
  },
  {
   "cell_type": "code",
   "execution_count": 14,
   "metadata": {},
   "outputs": [],
   "source": [
    "df.to_csv(\"/scratch/noam/control_point_e/datasets/chair/train.csv\", index=False)"
   ]
  },
  {
   "cell_type": "code",
   "execution_count": 17,
   "metadata": {},
   "outputs": [
    {
     "data": {
      "text/plain": [
       "7576"
      ]
     },
     "execution_count": 17,
     "metadata": {},
     "output_type": "execute_result"
    }
   ],
   "source": [
    "len(df[df[\"llama3_wnlemma_utterance\"] != \"Unknown\"])"
   ]
  }
 ],
 "metadata": {
  "kernelspec": {
   "display_name": "point-e",
   "language": "python",
   "name": "python3"
  },
  "language_info": {
   "codemirror_mode": {
    "name": "ipython",
    "version": 3
   },
   "file_extension": ".py",
   "mimetype": "text/x-python",
   "name": "python",
   "nbconvert_exporter": "python",
   "pygments_lexer": "ipython3",
   "version": "3.10.14"
  }
 },
 "nbformat": 4,
 "nbformat_minor": 2
}
