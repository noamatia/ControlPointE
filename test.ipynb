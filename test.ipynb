{
 "cells": [
  {
   "cell_type": "code",
   "execution_count": null,
   "metadata": {},
   "outputs": [],
   "source": [
    "import pandas as pd\n",
    "df = pd.read_csv('/home/noamatia/repos/control_point_e/data/chair/train.csv')\n",
    "print(f\"mean: {df['chamfer_distance'].mean()}\")\n",
    "print(f\"std: {df['chamfer_distance'].std()}\")\n",
    "print(f\"min: {df['chamfer_distance'].min()}\")\n",
    "print(f\"max: {df['chamfer_distance'].max()}\")\n",
    "print(f\"median: {df['chamfer_distance'].median()}\")\n",
    "\n"
   ]
  }
 ],
 "metadata": {
  "kernelspec": {
   "display_name": "point-e",
   "language": "python",
   "name": "python3"
  },
  "language_info": {
   "name": "python",
   "version": "3.10.14"
  }
 },
 "nbformat": 4,
 "nbformat_minor": 2
}
