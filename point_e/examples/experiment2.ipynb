{
 "cells": [
  {
   "cell_type": "code",
   "execution_count": 1,
   "metadata": {},
   "outputs": [],
   "source": [
    "import sys\n",
    "sys.path.insert(0, '/home/noamatia/repos/control_point_e/')"
   ]
  },
  {
   "cell_type": "code",
   "execution_count": 2,
   "metadata": {},
   "outputs": [
    {
     "name": "stdout",
     "output_type": "stream",
     "text": [
      "Jupyter environment detected. Enabling Open3D WebVisualizer.\n",
      "[Open3D INFO] WebRTC GUI backend enabled.\n",
      "[Open3D INFO] WebRTCWindowSystem: HTTP handshake server disabled.\n"
     ]
    }
   ],
   "source": [
    "import os\n",
    "import torch\n",
    "import numpy as np\n",
    "from tqdm.auto import tqdm\n",
    "from matplotlib import pyplot as plt\n",
    "from point_e.util.plotting import plot_point_cloud\n",
    "from point_e.util.point_cloud import PointCloud\n",
    "from point_e.models.download import load_checkpoint\n",
    "from point_e.diffusion.sampler import PointCloudSampler\n",
    "from point_e.models.configs import MODEL_CONFIGS, model_from_config\n",
    "from point_e.diffusion.configs import DIFFUSION_CONFIGS, diffusion_from_config"
   ]
  },
  {
   "cell_type": "code",
   "execution_count": 3,
   "metadata": {},
   "outputs": [
    {
     "data": {
      "text/plain": [
       "<All keys matched successfully>"
      ]
     },
     "execution_count": 3,
     "metadata": {},
     "output_type": "execute_result"
    }
   ],
   "source": [
    "device = torch.device('cuda' if torch.cuda.is_available() else 'cpu')\n",
    "base_name = 'base40M-textvec'\n",
    "base_model = model_from_config(MODEL_CONFIGS[base_name], device)\n",
    "base_diffusion = diffusion_from_config(DIFFUSION_CONFIGS[base_name])\n",
    "base_model.load_state_dict(load_checkpoint(base_name, device))\n",
    "base_model.load_state_dict(torch.load(f'/scratch/noam/pointe/model_weights.pt'))\n",
    "base_model.eval()"
   ]
  },
  {
   "cell_type": "code",
   "execution_count": 4,
   "metadata": {},
   "outputs": [],
   "source": [
    "sampler = PointCloudSampler(\n",
    "    device=device,\n",
    "    s_churn = [3],\n",
    "    sigma_max = [120],\n",
    "    num_points=[1024],\n",
    "    sigma_min = [1e-3],\n",
    "    models=[base_model],\n",
    "    use_karras = [True],\n",
    "    karras_steps = [64],\n",
    "    guidance_scale=[3.0],\n",
    "    diffusions=[base_diffusion],\n",
    "    aux_channels=['R', 'G', 'B'],\n",
    "    model_kwargs_key_filter=['texts']\n",
    ")"
   ]
  },
  {
   "cell_type": "code",
   "execution_count": 5,
   "metadata": {},
   "outputs": [],
   "source": [
    "def build_experiment_dir(prompt1, prompt2, t, i):\n",
    "    d = f'experiment2/p1_{prompt1}_p2_{prompt2}_t_{t}_i_{i}'\n",
    "    os.makedirs(d, exist_ok=True)\n",
    "    os.makedirs(d.replace(\"experiment2\", \"experiment2_objs\"), exist_ok=True)\n",
    "    return d"
   ]
  },
  {
   "cell_type": "code",
   "execution_count": 6,
   "metadata": {},
   "outputs": [],
   "source": [
    "experimental1_t = 30\n",
    "sampler.experiment2_t = experimental1_t\n",
    "prompt_pairs = [(\"a_chair\", \"a_chair_with_armrests\"),\n",
    "                # (\"a_chair\", \"a_chair_with_wheels\"),\n",
    "                # (\"a_chair\", \"a_chair_with_rounded_backrest\"),\n",
    "                # (\"a_chair\", \"a_chair_long_legs\"),\n",
    "                # (\"a_chair\", \"a_chair_with_thich_seat\"),\n",
    "                ]\n",
    "indices = [600, 700, 800, 900, 1000]\n",
    "percentiles = [0.6, 0.7, 0.8, 0.9]"
   ]
  },
  {
   "cell_type": "code",
   "execution_count": 7,
   "metadata": {},
   "outputs": [
    {
     "data": {
      "application/vnd.jupyter.widget-view+json": {
       "model_id": "1fa43647279444fab7f0af6990eeff47",
       "version_major": 2,
       "version_minor": 0
      },
      "text/plain": [
       "  0%|          | 0/2 [00:00<?, ?it/s]"
      ]
     },
     "metadata": {},
     "output_type": "display_data"
    },
    {
     "data": {
      "application/vnd.jupyter.widget-view+json": {
       "model_id": "58239b6437184cdb930b82fea4b8fee1",
       "version_major": 2,
       "version_minor": 0
      },
      "text/plain": [
       "0it [00:00, ?it/s]"
      ]
     },
     "metadata": {},
     "output_type": "display_data"
    },
    {
     "data": {
      "application/vnd.jupyter.widget-view+json": {
       "model_id": "9bce0b0b87e6403dbeeed3bbeb5c635f",
       "version_major": 2,
       "version_minor": 0
      },
      "text/plain": [
       "0it [00:00, ?it/s]"
      ]
     },
     "metadata": {},
     "output_type": "display_data"
    },
    {
     "data": {
      "application/vnd.jupyter.widget-view+json": {
       "model_id": "1b0ff78f537249e19ce7a173555588a5",
       "version_major": 2,
       "version_minor": 0
      },
      "text/plain": [
       "0it [00:00, ?it/s]"
      ]
     },
     "metadata": {},
     "output_type": "display_data"
    },
    {
     "data": {
      "application/vnd.jupyter.widget-view+json": {
       "model_id": "3fe3b76a02b84791b799800c416aa8f1",
       "version_major": 2,
       "version_minor": 0
      },
      "text/plain": [
       "0it [00:00, ?it/s]"
      ]
     },
     "metadata": {},
     "output_type": "display_data"
    },
    {
     "data": {
      "application/vnd.jupyter.widget-view+json": {
       "model_id": "80a4367497a642b386de495b4956a9a5",
       "version_major": 2,
       "version_minor": 0
      },
      "text/plain": [
       "0it [00:00, ?it/s]"
      ]
     },
     "metadata": {},
     "output_type": "display_data"
    },
    {
     "data": {
      "application/vnd.jupyter.widget-view+json": {
       "model_id": "d648f44443ce44d091f3044eeb39f00d",
       "version_major": 2,
       "version_minor": 0
      },
      "text/plain": [
       "0it [00:00, ?it/s]"
      ]
     },
     "metadata": {},
     "output_type": "display_data"
    },
    {
     "data": {
      "application/vnd.jupyter.widget-view+json": {
       "model_id": "23ec5a1f33f24fc48a44cd5b9814e5a5",
       "version_major": 2,
       "version_minor": 0
      },
      "text/plain": [
       "0it [00:00, ?it/s]"
      ]
     },
     "metadata": {},
     "output_type": "display_data"
    },
    {
     "data": {
      "application/vnd.jupyter.widget-view+json": {
       "model_id": "89e1d29a20d34e5bb892e8dd8e9aa55a",
       "version_major": 2,
       "version_minor": 0
      },
      "text/plain": [
       "0it [00:00, ?it/s]"
      ]
     },
     "metadata": {},
     "output_type": "display_data"
    },
    {
     "data": {
      "application/vnd.jupyter.widget-view+json": {
       "model_id": "8f16d8706de8426db8981d9ffa0c4605",
       "version_major": 2,
       "version_minor": 0
      },
      "text/plain": [
       "0it [00:00, ?it/s]"
      ]
     },
     "metadata": {},
     "output_type": "display_data"
    },
    {
     "data": {
      "application/vnd.jupyter.widget-view+json": {
       "model_id": "40f4b7eb8ca240f3a5798f9a552b15f7",
       "version_major": 2,
       "version_minor": 0
      },
      "text/plain": [
       "0it [00:00, ?it/s]"
      ]
     },
     "metadata": {},
     "output_type": "display_data"
    },
    {
     "data": {
      "application/vnd.jupyter.widget-view+json": {
       "model_id": "561b3a1a3f19493a8d62d3f472ed49c6",
       "version_major": 2,
       "version_minor": 0
      },
      "text/plain": [
       "0it [00:00, ?it/s]"
      ]
     },
     "metadata": {},
     "output_type": "display_data"
    },
    {
     "data": {
      "application/vnd.jupyter.widget-view+json": {
       "model_id": "bcb187f9c2da40b38f56609e47ebf398",
       "version_major": 2,
       "version_minor": 0
      },
      "text/plain": [
       "0it [00:00, ?it/s]"
      ]
     },
     "metadata": {},
     "output_type": "display_data"
    }
   ],
   "source": [
    "html = \"<table>\\n\"\n",
    "html += \"<tr><td>prompt</td>\"\n",
    "for i in indices:\n",
    "    html += f\"<td>{i}</td>\"\n",
    "html += \"<td>1024</td></tr>\\n\"\n",
    "for prompt1, prompt2 in prompt_pairs:\n",
    "    for i in tqdm(range(2), total=2):\n",
    "        sampler.experiment2_indices = None\n",
    "        sampler.precentile = None\n",
    "        os.environ['EXPERIMENT2_DIR'] = build_experiment_dir(prompt1, prompt2, experimental1_t, i)\n",
    "        samples = None\n",
    "        for x in tqdm(sampler.sample_batch_progressive(batch_size=2, model_kwargs=dict(texts=[prompt1.replace(\"_\", \" \"), prompt2.replace(\"_\", \" \")]))):\n",
    "            samples = x\n",
    "        for j in indices:\n",
    "            # selected_indices_path = os.path.join(os.environ[\"EXPERIMENT2_DIR\"], \"selected_indices.txt\")\n",
    "            # if not os.path.exists(selected_indices_path):\n",
    "            #     continue\n",
    "            # experiment2_indices = np.loadtxt(selected_indices_path, dtype=int)\n",
    "            experiment2_indices = list(range(j))\n",
    "            # ply_path = os.path.join(os.environ[\"EXPERIMENT2_DIR\"].replace(\"experiment2\", \"experiment2_objs\"), \"1.ply\")\n",
    "            # pc = PointCloud.from_ply(ply_path)\n",
    "            # pc.set_color_by_indices(experiment2_indices)\n",
    "            # fig = plot_point_cloud(pc)\n",
    "            # path = os.path.join(os.getenv(\"EXPERIMENT2_DIR\"), f\"1_selected_{j}.png\")\n",
    "            # fig.savefig(path)\n",
    "            # plt.close()\n",
    "            sampler.experiment2_indices = experiment2_indices\n",
    "            samples = None\n",
    "            for x in tqdm(sampler.sample_batch_progressive(batch_size=2, model_kwargs=dict(texts=[prompt1.replace(\"_\", \" \"), prompt2.replace(\"_\", \" \")]))):\n",
    "                samples = x\n",
    "        reversed_sorted_indices = np.load(os.path.join(os.getenv(\"EXPERIMENT2_DIR\"), \"sorted_indices.npy\"))\n",
    "        for percentile in percentiles:\n",
    "            sampler.precentile = f'{percentile}'.replace(\".\", \"_\")\n",
    "            experiment2_indices = reversed_sorted_indices[:int(len(reversed_sorted_indices) * percentile)]\n",
    "            sampler.experiment2_indices = experiment2_indices\n",
    "            samples = None\n",
    "            for x in tqdm(sampler.sample_batch_progressive(batch_size=2, model_kwargs=dict(texts=[prompt1.replace(\"_\", \" \"), prompt2.replace(\"_\", \" \")]))):\n",
    "                samples = x\n",
    "        html += f\"<tr><td>{prompt1}</td>\"\n",
    "        for j in indices:\n",
    "            html += f\"<td><img src=\\\"{os.path.join(os.getenv('EXPERIMENT2_DIR'), f'0_{j}.png')}\\\"></td>\"\n",
    "        for percentile in percentiles:\n",
    "            pp = f'{percentile}'.replace(\".\", \"_\")\n",
    "            html += f\"<td><img src=\\\"{os.path.join(os.getenv('EXPERIMENT2_DIR'), f'0_{pp}.png')}\\\"></td>\"\n",
    "        html += f\"<td><img src=\\\"{os.path.join(os.getenv('EXPERIMENT2_DIR'), f'0.png')}\\\"></td></tr>\\n\"\n",
    "        html += f\"<tr><td>{prompt2}</td>\"\n",
    "        for j in indices:\n",
    "            html += f\"<td><img src=\\\"{os.path.join(os.getenv('EXPERIMENT2_DIR'), f'1_{j}.png')}\\\"></td>\"\n",
    "        for percentile in percentiles:\n",
    "            pp = f'{percentile}'.replace(\".\", \"_\")\n",
    "            html += f\"<td><img src=\\\"{os.path.join(os.getenv('EXPERIMENT2_DIR'), f'1_{pp}.png')}\\\"></td>\"\n",
    "        html += f\"<td><img src=\\\"{os.path.join(os.getenv('EXPERIMENT2_DIR'), f'1.png')}\\\"></td></tr>\\n\"\n",
    "        # html += f\"<tr><td>{prompt2} selected</td>\"\n",
    "        # for j in indices:\n",
    "        #     html += f\"<td><img src=\\\"{os.path.join(os.getenv('EXPERIMENT2_DIR'), f'1_selected_{j}.png')}\\\"></td>\"\n",
    "        # html += f\"<td></td></tr>\\n\"\n",
    "html += \"</table>\"\n",
    "with open(\"index.html\", \"w\") as f:\n",
    "    f.write(html)\n"
   ]
  }
 ],
 "metadata": {
  "kernelspec": {
   "display_name": "Python 3.9.9 64-bit ('3.9.9')",
   "language": "python",
   "name": "python3"
  },
  "language_info": {
   "codemirror_mode": {
    "name": "ipython",
    "version": 3
   },
   "file_extension": ".py",
   "mimetype": "text/x-python",
   "name": "python",
   "nbconvert_exporter": "python",
   "pygments_lexer": "ipython3",
   "version": "3.10.14"
  },
  "orig_nbformat": 4,
  "vscode": {
   "interpreter": {
    "hash": "b270b0f43bc427bcab7703c037711644cc480aac7c1cc8d2940cfaf0b447ee2e"
   }
  }
 },
 "nbformat": 4,
 "nbformat_minor": 2
}
