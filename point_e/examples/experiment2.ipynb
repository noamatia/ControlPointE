{
 "cells": [
  {
   "cell_type": "code",
   "execution_count": 1,
   "metadata": {},
   "outputs": [],
   "source": [
    "import sys\n",
    "sys.path.insert(0, '/home/noamatia/repos/control_point_e/')"
   ]
  },
  {
   "cell_type": "code",
   "execution_count": 2,
   "metadata": {},
   "outputs": [
    {
     "name": "stdout",
     "output_type": "stream",
     "text": [
      "Jupyter environment detected. Enabling Open3D WebVisualizer.\n",
      "[Open3D INFO] WebRTC GUI backend enabled.\n",
      "[Open3D INFO] WebRTCWindowSystem: HTTP handshake server disabled.\n"
     ]
    }
   ],
   "source": [
    "import os\n",
    "import torch\n",
    "import numpy as np\n",
    "import open3d as o3d\n",
    "from tqdm.auto import tqdm\n",
    "from point_e.models.download import load_checkpoint\n",
    "from point_e.diffusion.sampler import PointCloudSampler\n",
    "from point_e.models.configs import MODEL_CONFIGS, model_from_config\n",
    "from point_e.diffusion.configs import DIFFUSION_CONFIGS, diffusion_from_config"
   ]
  },
  {
   "cell_type": "code",
   "execution_count": 3,
   "metadata": {},
   "outputs": [
    {
     "data": {
      "text/plain": [
       "<All keys matched successfully>"
      ]
     },
     "execution_count": 3,
     "metadata": {},
     "output_type": "execute_result"
    }
   ],
   "source": [
    "device = torch.device('cuda' if torch.cuda.is_available() else 'cpu')\n",
    "base_name = 'base40M-textvec'\n",
    "base_model = model_from_config(MODEL_CONFIGS[base_name], device)\n",
    "base_model.eval()\n",
    "base_diffusion = diffusion_from_config(DIFFUSION_CONFIGS[base_name])\n",
    "base_model.load_state_dict(load_checkpoint(base_name, device))"
   ]
  },
  {
   "cell_type": "code",
   "execution_count": 4,
   "metadata": {},
   "outputs": [],
   "source": [
    "sampler = PointCloudSampler(\n",
    "    device=device,\n",
    "    s_churn = [3],\n",
    "    sigma_max = [120],\n",
    "    num_points=[1024],\n",
    "    sigma_min = [1e-3],\n",
    "    models=[base_model],\n",
    "    use_karras = [True],\n",
    "    karras_steps = [64],\n",
    "    guidance_scale=[3.0],\n",
    "    diffusions=[base_diffusion],\n",
    "    aux_channels=['R', 'G', 'B'],\n",
    "    model_kwargs_key_filter=['texts']\n",
    ")"
   ]
  },
  {
   "cell_type": "code",
   "execution_count": 5,
   "metadata": {},
   "outputs": [],
   "source": [
    "def build_experiment_dir(prompt1, prompt2, t, i):\n",
    "    d = f'experiment2/p1_{prompt1}_p2_{prompt2}_t_{t}_i_{i}'\n",
    "    os.makedirs(d, exist_ok=True)\n",
    "    return d"
   ]
  },
  {
   "cell_type": "code",
   "execution_count": 6,
   "metadata": {},
   "outputs": [],
   "source": [
    "experimental1_t = 30\n",
    "sampler.experiment2_t = experimental1_t\n",
    "prompt1, prompt2 = 'a_chair', 'a_chair_with_armrests'"
   ]
  },
  {
   "cell_type": "code",
   "execution_count": 7,
   "metadata": {},
   "outputs": [
    {
     "name": "stderr",
     "output_type": "stream",
     "text": [
      "  0%|          | 0/25 [00:00<?, ?it/s]"
     ]
    },
    {
     "name": "stderr",
     "output_type": "stream",
     "text": [
      "65it [00:07,  9.08it/s]\n",
      "65it [00:06,  9.71it/s]00:07<02:51,  7.16s/it]\n",
      "65it [00:06,  9.60it/s]00:13<02:38,  6.89s/it]\n",
      "65it [00:06,  9.60it/s]00:20<02:30,  6.83s/it]\n",
      "65it [00:06,  9.60it/s]00:27<02:23,  6.81s/it]\n",
      "65it [00:06,  9.54it/s]00:34<02:15,  6.80s/it]\n",
      "65it [00:06,  9.53it/s]00:40<02:09,  6.80s/it]\n",
      "65it [00:06,  9.55it/s]00:47<02:02,  6.81s/it]\n",
      "65it [00:06,  9.60it/s]00:54<01:55,  6.81s/it]\n",
      "65it [00:06,  9.40it/s]01:01<01:48,  6.80s/it]\n",
      "65it [00:06,  9.58it/s][01:08<01:42,  6.83s/it]\n",
      "65it [00:06,  9.58it/s][01:15<01:35,  6.82s/it]\n",
      "65it [00:06,  9.55it/s][01:21<01:28,  6.81s/it]\n",
      "65it [00:06,  9.56it/s][01:28<01:21,  6.81s/it]\n",
      "65it [00:06,  9.55it/s][01:35<01:14,  6.81s/it]\n",
      "65it [00:06,  9.52it/s][01:42<01:08,  6.81s/it]\n",
      "65it [00:06,  9.53it/s][01:49<01:01,  6.81s/it]\n",
      "65it [00:06,  9.54it/s][01:55<00:54,  6.82s/it]\n",
      "65it [00:06,  9.57it/s][02:02<00:47,  6.82s/it]\n",
      "65it [00:06,  9.33it/s][02:09<00:40,  6.81s/it]\n",
      "65it [00:06,  9.56it/s][02:16<00:34,  6.86s/it]\n",
      "65it [00:06,  9.52it/s][02:23<00:27,  6.84s/it]\n",
      "65it [00:06,  9.53it/s][02:30<00:20,  6.84s/it]\n",
      "65it [00:06,  9.51it/s][02:36<00:13,  6.83s/it]\n",
      "65it [00:06,  9.54it/s][02:43<00:06,  6.83s/it]\n",
      "100%|██████████| 25/25 [02:50<00:00,  6.83s/it]\n"
     ]
    }
   ],
   "source": [
    "for i in tqdm(range(25), total=25):\n",
    "    os.environ['EXPERIMENT2_DIR'] = build_experiment_dir(prompt1, prompt2, experimental1_t, i)\n",
    "    samples = None\n",
    "    for x in tqdm(sampler.sample_batch_progressive(batch_size=2, model_kwargs=dict(texts=[prompt1.replace(\"_\", \" \"), prompt2.replace(\"_\", \" \")]))):\n",
    "        samples = x"
   ]
  },
  {
   "cell_type": "code",
   "execution_count": 7,
   "metadata": {},
   "outputs": [
    {
     "name": "stderr",
     "output_type": "stream",
     "text": [
      "/tmp/ipykernel_1385265/3813539707.py:13: UserWarning: loadtxt: input contained no data: \"experiment2/p1_a_chair_p2_a_chair_with_armrests_t_30_i_0/selected_indices.txt\"\n",
      "  experiment2_indices = np.loadtxt(selected_indices_path, dtype=int)\n",
      "/tmp/ipykernel_1385265/3813539707.py:13: UserWarning: loadtxt: input contained no data: \"experiment2/p1_a_chair_p2_a_chair_with_armrests_t_30_i_1/selected_indices.txt\"\n",
      "  experiment2_indices = np.loadtxt(selected_indices_path, dtype=int)\n"
     ]
    },
    {
     "data": {
      "application/vnd.jupyter.widget-view+json": {
       "model_id": "b93a585e85454d419b7739ebd55541ef",
       "version_major": 2,
       "version_minor": 0
      },
      "text/plain": [
       "0it [00:00, ?it/s]"
      ]
     },
     "metadata": {},
     "output_type": "display_data"
    },
    {
     "data": {
      "application/vnd.jupyter.widget-view+json": {
       "model_id": "5ea836c5058c4361a7b47adcc1834654",
       "version_major": 2,
       "version_minor": 0
      },
      "text/plain": [
       "0it [00:00, ?it/s]"
      ]
     },
     "metadata": {},
     "output_type": "display_data"
    },
    {
     "data": {
      "application/vnd.jupyter.widget-view+json": {
       "model_id": "8c8b075d1d05422081d7bd8b203197ed",
       "version_major": 2,
       "version_minor": 0
      },
      "text/plain": [
       "0it [00:00, ?it/s]"
      ]
     },
     "metadata": {},
     "output_type": "display_data"
    },
    {
     "name": "stderr",
     "output_type": "stream",
     "text": [
      "/tmp/ipykernel_1385265/3813539707.py:13: UserWarning: loadtxt: input contained no data: \"experiment2/p1_a_chair_p2_a_chair_with_armrests_t_30_i_5/selected_indices.txt\"\n",
      "  experiment2_indices = np.loadtxt(selected_indices_path, dtype=int)\n",
      "/tmp/ipykernel_1385265/3813539707.py:13: UserWarning: loadtxt: input contained no data: \"experiment2/p1_a_chair_p2_a_chair_with_armrests_t_30_i_6/selected_indices.txt\"\n",
      "  experiment2_indices = np.loadtxt(selected_indices_path, dtype=int)\n",
      "/tmp/ipykernel_1385265/3813539707.py:13: UserWarning: loadtxt: input contained no data: \"experiment2/p1_a_chair_p2_a_chair_with_armrests_t_30_i_7/selected_indices.txt\"\n",
      "  experiment2_indices = np.loadtxt(selected_indices_path, dtype=int)\n",
      "/tmp/ipykernel_1385265/3813539707.py:13: UserWarning: loadtxt: input contained no data: \"experiment2/p1_a_chair_p2_a_chair_with_armrests_t_30_i_8/selected_indices.txt\"\n",
      "  experiment2_indices = np.loadtxt(selected_indices_path, dtype=int)\n"
     ]
    },
    {
     "data": {
      "application/vnd.jupyter.widget-view+json": {
       "model_id": "2e4c585a532a4b15a6f72249be8faf54",
       "version_major": 2,
       "version_minor": 0
      },
      "text/plain": [
       "0it [00:00, ?it/s]"
      ]
     },
     "metadata": {},
     "output_type": "display_data"
    },
    {
     "name": "stderr",
     "output_type": "stream",
     "text": [
      "/tmp/ipykernel_1385265/3813539707.py:13: UserWarning: loadtxt: input contained no data: \"experiment2/p1_a_chair_p2_a_chair_with_armrests_t_30_i_10/selected_indices.txt\"\n",
      "  experiment2_indices = np.loadtxt(selected_indices_path, dtype=int)\n",
      "/tmp/ipykernel_1385265/3813539707.py:13: UserWarning: loadtxt: input contained no data: \"experiment2/p1_a_chair_p2_a_chair_with_armrests_t_30_i_11/selected_indices.txt\"\n",
      "  experiment2_indices = np.loadtxt(selected_indices_path, dtype=int)\n"
     ]
    },
    {
     "data": {
      "application/vnd.jupyter.widget-view+json": {
       "model_id": "44d5f8e32f5d4fdd823ab104f69b5f08",
       "version_major": 2,
       "version_minor": 0
      },
      "text/plain": [
       "0it [00:00, ?it/s]"
      ]
     },
     "metadata": {},
     "output_type": "display_data"
    }
   ],
   "source": [
    "from matplotlib import pyplot as plt\n",
    "from point_e.util.plotting import plot_point_cloud\n",
    "from point_e.util.point_cloud import PointCloud\n",
    "\n",
    "\n",
    "for i in range(25):\n",
    "    os.environ[\"EXPERIMENT2_DIR\"] = build_experiment_dir(\n",
    "        prompt1, prompt2, experimental1_t, i\n",
    "    )\n",
    "    selected_indices_path = os.path.join(os.environ[\"EXPERIMENT2_DIR\"], \"selected_indices.txt\")\n",
    "    if not os.path.exists(selected_indices_path):\n",
    "        continue\n",
    "    experiment2_indices = np.loadtxt(selected_indices_path, dtype=int)\n",
    "    if not len(experiment2_indices):\n",
    "        continue\n",
    "    ply_path = os.path.join(os.environ[\"EXPERIMENT2_DIR\"], \"1.ply\")\n",
    "    pc = PointCloud.from_ply(ply_path)\n",
    "    pc.set_color_by_indices(experiment2_indices)\n",
    "    fig = plot_point_cloud(pc)\n",
    "    path = os.path.join(os.getenv(\"EXPERIMENT2_DIR\"), f\"1_selected.png\")\n",
    "    fig.savefig(path)\n",
    "    plt.close()\n",
    "    sampler.experiment2_indices = experiment2_indices\n",
    "    samples = None\n",
    "    for x in tqdm(sampler.sample_batch_progressive(batch_size=2, model_kwargs=dict(texts=[prompt1.replace(\"_\", \" \"), prompt2.replace(\"_\", \" \")]))):\n",
    "        samples = x\n",
    "    sampler.experiment2_indices = None"
   ]
  }
 ],
 "metadata": {
  "kernelspec": {
   "display_name": "Python 3.9.9 64-bit ('3.9.9')",
   "language": "python",
   "name": "python3"
  },
  "language_info": {
   "codemirror_mode": {
    "name": "ipython",
    "version": 3
   },
   "file_extension": ".py",
   "mimetype": "text/x-python",
   "name": "python",
   "nbconvert_exporter": "python",
   "pygments_lexer": "ipython3",
   "version": "3.10.14"
  },
  "orig_nbformat": 4,
  "vscode": {
   "interpreter": {
    "hash": "b270b0f43bc427bcab7703c037711644cc480aac7c1cc8d2940cfaf0b447ee2e"
   }
  }
 },
 "nbformat": 4,
 "nbformat_minor": 2
}
