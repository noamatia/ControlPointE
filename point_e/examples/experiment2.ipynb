{
 "cells": [
  {
   "cell_type": "code",
   "execution_count": 1,
   "metadata": {},
   "outputs": [],
   "source": [
    "import sys\n",
    "sys.path.insert(0, '/home/noamatia/repos/control_point_e/')"
   ]
  },
  {
   "cell_type": "code",
   "execution_count": 2,
   "metadata": {},
   "outputs": [
    {
     "name": "stdout",
     "output_type": "stream",
     "text": [
      "Jupyter environment detected. Enabling Open3D WebVisualizer.\n",
      "[Open3D INFO] WebRTC GUI backend enabled.\n",
      "[Open3D INFO] WebRTCWindowSystem: HTTP handshake server disabled.\n"
     ]
    }
   ],
   "source": [
    "import os\n",
    "import torch\n",
    "import numpy as np\n",
    "from tqdm.auto import tqdm\n",
    "from matplotlib import pyplot as plt\n",
    "from point_e.util.plotting import plot_point_cloud\n",
    "from point_e.util.point_cloud import PointCloud\n",
    "from point_e.models.download import load_checkpoint\n",
    "from point_e.diffusion.sampler import PointCloudSampler\n",
    "from point_e.models.configs import MODEL_CONFIGS, model_from_config\n",
    "from point_e.diffusion.configs import DIFFUSION_CONFIGS, diffusion_from_config"
   ]
  },
  {
   "cell_type": "code",
   "execution_count": 3,
   "metadata": {},
   "outputs": [
    {
     "data": {
      "application/vnd.jupyter.widget-view+json": {
       "model_id": "b9d3226bd5054e9492833f66f20c8bfb",
       "version_major": 2,
       "version_minor": 0
      },
      "text/plain": [
       "  0%|          | 0.00/162M [00:00<?, ?iB/s]"
      ]
     },
     "metadata": {},
     "output_type": "display_data"
    },
    {
     "data": {
      "text/plain": [
       "<All keys matched successfully>"
      ]
     },
     "execution_count": 3,
     "metadata": {},
     "output_type": "execute_result"
    }
   ],
   "source": [
    "device = torch.device('cuda' if torch.cuda.is_available() else 'cpu')\n",
    "base_name = 'base40M-textvec'\n",
    "base_model = model_from_config(MODEL_CONFIGS[base_name], device)\n",
    "base_diffusion = diffusion_from_config(DIFFUSION_CONFIGS[base_name])\n",
    "base_model.load_state_dict(load_checkpoint(base_name, device))\n",
    "base_model.load_state_dict(torch.load(f'/scratch/noam/pointe/model_weights.pt'))\n",
    "base_model.eval()\n",
    "upsampler_model = model_from_config(MODEL_CONFIGS['upsample'], device)\n",
    "upsampler_model.eval()\n",
    "upsampler_diffusion = diffusion_from_config(DIFFUSION_CONFIGS['upsample'])\n",
    "upsampler_model.load_state_dict(load_checkpoint('upsample', device))"
   ]
  },
  {
   "cell_type": "code",
   "execution_count": 4,
   "metadata": {},
   "outputs": [],
   "source": [
    "sampler = PointCloudSampler(\n",
    "    device=device,\n",
    "    models=[base_model, upsampler_model],\n",
    "    diffusions=[base_diffusion, upsampler_diffusion],\n",
    "    num_points=[1024, 4096 - 1024],\n",
    "    aux_channels=['R', 'G', 'B'],\n",
    "    guidance_scale=[3.0, 0.0],\n",
    "    model_kwargs_key_filter=('texts', ''), # Do not condition the upsampler at all\n",
    ")"
   ]
  },
  {
   "cell_type": "code",
   "execution_count": 5,
   "metadata": {},
   "outputs": [],
   "source": [
    "def build_experiment_dir(prompt1, prompt2, t, i):\n",
    "    d = f'experiment2/p1_{prompt1}_p2_{prompt2}_t_{t}_i_{i}'\n",
    "    os.makedirs(d, exist_ok=True)\n",
    "    os.makedirs(d.replace(\"experiment2\", \"experiment2_objs\"), exist_ok=True)\n",
    "    return d"
   ]
  },
  {
   "cell_type": "code",
   "execution_count": 6,
   "metadata": {},
   "outputs": [],
   "source": [
    "experimental1_t = 30\n",
    "sampler.experiment2_t = experimental1_t\n",
    "prompt_pairs = [(\"a_chair\", \"a_chair_with_armrests\"),\n",
    "                (\"a_chair\", \"a_chair_with_wheels\"),\n",
    "                (\"a_chair\", \"a_chair_with_rounded_backrest\"),\n",
    "                (\"a_chair\", \"a_chair_with_long_legs\"),\n",
    "                (\"a_chair\", \"a_chair_with_thick_seat\"),\n",
    "                ]\n",
    "percentiles = [0.6, 0.7, 0.8, 0.9]"
   ]
  },
  {
   "cell_type": "code",
   "execution_count": 7,
   "metadata": {},
   "outputs": [
    {
     "ename": "AttributeError",
     "evalue": "'float' object has no attribute 'replace'",
     "output_type": "error",
     "traceback": [
      "\u001b[0;31m---------------------------------------------------------------------------\u001b[0m",
      "\u001b[0;31mAttributeError\u001b[0m                            Traceback (most recent call last)",
      "Cell \u001b[0;32mIn[7], line 4\u001b[0m\n\u001b[1;32m      2\u001b[0m html \u001b[38;5;241m+\u001b[39m\u001b[38;5;241m=\u001b[39m \u001b[38;5;124m\"\u001b[39m\u001b[38;5;124m<tr><td>prompt</td>\u001b[39m\u001b[38;5;124m\"\u001b[39m\n\u001b[1;32m      3\u001b[0m \u001b[38;5;28;01mfor\u001b[39;00m i \u001b[38;5;129;01min\u001b[39;00m percentiles:\n\u001b[0;32m----> 4\u001b[0m     html \u001b[38;5;241m+\u001b[39m\u001b[38;5;241m=\u001b[39m \u001b[38;5;124mf\u001b[39m\u001b[38;5;124m\"\u001b[39m\u001b[38;5;124m<td>\u001b[39m\u001b[38;5;132;01m{\u001b[39;00m\u001b[43mi\u001b[49m\u001b[38;5;241;43m.\u001b[39;49m\u001b[43mreplace\u001b[49m(\u001b[38;5;124m'\u001b[39m\u001b[38;5;124m.\u001b[39m\u001b[38;5;124m'\u001b[39m,\u001b[38;5;250m \u001b[39m\u001b[38;5;124m'\u001b[39m\u001b[38;5;124m_\u001b[39m\u001b[38;5;124m'\u001b[39m)\u001b[38;5;132;01m}\u001b[39;00m\u001b[38;5;124m</td>\u001b[39m\u001b[38;5;124m\"\u001b[39m\n\u001b[1;32m      5\u001b[0m html \u001b[38;5;241m+\u001b[39m\u001b[38;5;241m=\u001b[39m \u001b[38;5;124m\"\u001b[39m\u001b[38;5;124m<td>1024</td></tr>\u001b[39m\u001b[38;5;130;01m\\n\u001b[39;00m\u001b[38;5;124m\"\u001b[39m\n\u001b[1;32m      6\u001b[0m \u001b[38;5;28;01mfor\u001b[39;00m prompt1, prompt2 \u001b[38;5;129;01min\u001b[39;00m prompt_pairs:\n",
      "\u001b[0;31mAttributeError\u001b[0m: 'float' object has no attribute 'replace'"
     ]
    }
   ],
   "source": [
    "html = \"<table>\\n\"\n",
    "html += \"<tr><td>prompt</td>\"\n",
    "for i in percentiles:\n",
    "    html += f\"<td>{i}</td>\"\n",
    "html += \"<td>1024</td></tr>\\n\"\n",
    "for prompt1, prompt2 in prompt_pairs:\n",
    "    for i in tqdm(range(15), total=15):\n",
    "        sampler.experiment2_indices = None\n",
    "        sampler.precentile = None\n",
    "        os.environ['EXPERIMENT2_DIR'] = build_experiment_dir(prompt1, prompt2, experimental1_t, i)\n",
    "        samples = None\n",
    "        for x in tqdm(sampler.sample_batch_progressive(batch_size=2, model_kwargs=dict(texts=[prompt1.replace(\"_\", \" \"), prompt2.replace(\"_\", \" \")]))):\n",
    "            samples = x\n",
    "        reversed_sorted_indices = np.load(os.path.join(os.getenv(\"EXPERIMENT2_DIR\"), \"sorted_indices.npy\"))\n",
    "        for percentile in percentiles:\n",
    "            sampler.precentile = f'{percentile}'.replace(\".\", \"_\")\n",
    "            experiment2_indices = reversed_sorted_indices[:int(len(reversed_sorted_indices) * percentile)]\n",
    "            sampler.experiment2_indices = experiment2_indices\n",
    "            samples = None\n",
    "            for x in tqdm(sampler.sample_batch_progressive(batch_size=2, model_kwargs=dict(texts=[prompt1.replace(\"_\", \" \"), prompt2.replace(\"_\", \" \")]))):\n",
    "                samples = x\n",
    "        html += f\"<tr><td>{prompt1}</td>\"\n",
    "        for percentile in percentiles:\n",
    "            pp = f'{percentile}'.replace(\".\", \"_\")\n",
    "            html += f\"<td><img src=\\\"{os.path.join(os.getenv('EXPERIMENT2_DIR'), f'0_{pp}.png')}\\\"></td>\"\n",
    "        html += f\"<td><img src=\\\"{os.path.join(os.getenv('EXPERIMENT2_DIR'), f'0.png')}\\\"></td></tr>\\n\"\n",
    "        html += f\"<tr><td>{prompt2}</td>\"\n",
    "        for percentile in percentiles:\n",
    "            pp = f'{percentile}'.replace(\".\", \"_\")\n",
    "            html += f\"<td><img src=\\\"{os.path.join(os.getenv('EXPERIMENT2_DIR'), f'1_{pp}.png')}\\\"></td>\"\n",
    "        html += f\"<td><img src=\\\"{os.path.join(os.getenv('EXPERIMENT2_DIR'), f'1.png')}\\\"></td></tr>\\n\"\n",
    "html += \"</table>\"\n",
    "with open(\"index.html\", \"w\") as f:\n",
    "    f.write(html)\n"
   ]
  }
 ],
 "metadata": {
  "kernelspec": {
   "display_name": "Python 3.9.9 64-bit ('3.9.9')",
   "language": "python",
   "name": "python3"
  },
  "language_info": {
   "codemirror_mode": {
    "name": "ipython",
    "version": 3
   },
   "file_extension": ".py",
   "mimetype": "text/x-python",
   "name": "python",
   "nbconvert_exporter": "python",
   "pygments_lexer": "ipython3",
   "version": "3.10.14"
  },
  "orig_nbformat": 4,
  "vscode": {
   "interpreter": {
    "hash": "b270b0f43bc427bcab7703c037711644cc480aac7c1cc8d2940cfaf0b447ee2e"
   }
  }
 },
 "nbformat": 4,
 "nbformat_minor": 2
}
