{
 "cells": [
  {
   "cell_type": "code",
   "execution_count": 8,
   "metadata": {},
   "outputs": [],
   "source": [
    "import sys\n",
    "sys.path.insert(0, '/home/noamatia/repos/control_point_e/')"
   ]
  },
  {
   "cell_type": "code",
   "execution_count": 9,
   "metadata": {},
   "outputs": [],
   "source": [
    "import os\n",
    "import torch\n",
    "import numpy as np\n",
    "from tqdm.auto import tqdm\n",
    "from matplotlib import pyplot as plt\n",
    "from point_e.util.plotting import plot_point_cloud\n",
    "from point_e.util.point_cloud import PointCloud\n",
    "from point_e.models.download import load_checkpoint\n",
    "from point_e.diffusion.sampler import PointCloudSampler\n",
    "from point_e.models.configs import MODEL_CONFIGS, model_from_config\n",
    "from point_e.diffusion.configs import DIFFUSION_CONFIGS, diffusion_from_config"
   ]
  },
  {
   "cell_type": "code",
   "execution_count": 10,
   "metadata": {},
   "outputs": [
    {
     "data": {
      "text/plain": [
       "<All keys matched successfully>"
      ]
     },
     "execution_count": 10,
     "metadata": {},
     "output_type": "execute_result"
    }
   ],
   "source": [
    "device = torch.device('cuda' if torch.cuda.is_available() else 'cpu')\n",
    "base_name = 'base40M-textvec'\n",
    "base_model = model_from_config(MODEL_CONFIGS[base_name], device)\n",
    "base_model.eval()\n",
    "base_diffusion = diffusion_from_config(DIFFUSION_CONFIGS[base_name])\n",
    "base_model.load_state_dict(load_checkpoint(base_name, device))"
   ]
  },
  {
   "cell_type": "code",
   "execution_count": 11,
   "metadata": {},
   "outputs": [],
   "source": [
    "sampler = PointCloudSampler(\n",
    "    device=device,\n",
    "    s_churn = [3],\n",
    "    sigma_max = [120],\n",
    "    num_points=[1024],\n",
    "    sigma_min = [1e-3],\n",
    "    models=[base_model],\n",
    "    use_karras = [True],\n",
    "    karras_steps = [64],\n",
    "    guidance_scale=[3.0],\n",
    "    diffusions=[base_diffusion],\n",
    "    aux_channels=['R', 'G', 'B'],\n",
    "    model_kwargs_key_filter=['texts']\n",
    ")"
   ]
  },
  {
   "cell_type": "code",
   "execution_count": 12,
   "metadata": {},
   "outputs": [],
   "source": [
    "def build_experiment_dir(prompt1, prompt2, t, i):\n",
    "    d = f'experiment2/p1_{prompt1}_p2_{prompt2}_t_{t}_i_{i}'\n",
    "    os.makedirs(d, exist_ok=True)\n",
    "    os.makedirs(d.replace(\"experiment2\", \"experiment2_objs\"), exist_ok=True)\n",
    "    return d"
   ]
  },
  {
   "cell_type": "code",
   "execution_count": 15,
   "metadata": {},
   "outputs": [],
   "source": [
    "experimental1_t = 30\n",
    "sampler.experiment2_t = experimental1_t\n",
    "prompt_pairs = [(\"a_chair\", \"a_chair_with_armrests\")]\n",
    "indices = [600, 700, 800, 900, 1000]"
   ]
  },
  {
   "cell_type": "code",
   "execution_count": 18,
   "metadata": {},
   "outputs": [
    {
     "data": {
      "application/vnd.jupyter.widget-view+json": {
       "model_id": "8c83503c321f4170911db74dcad3aa05",
       "version_major": 2,
       "version_minor": 0
      },
      "text/plain": [
       "  0%|          | 0/2 [00:00<?, ?it/s]"
      ]
     },
     "metadata": {},
     "output_type": "display_data"
    },
    {
     "data": {
      "application/vnd.jupyter.widget-view+json": {
       "model_id": "063021587f8a43b9b3fcff4551154600",
       "version_major": 2,
       "version_minor": 0
      },
      "text/plain": [
       "0it [00:00, ?it/s]"
      ]
     },
     "metadata": {},
     "output_type": "display_data"
    },
    {
     "data": {
      "application/vnd.jupyter.widget-view+json": {
       "model_id": "724f7faf200446a093cb62837b286aff",
       "version_major": 2,
       "version_minor": 0
      },
      "text/plain": [
       "0it [00:00, ?it/s]"
      ]
     },
     "metadata": {},
     "output_type": "display_data"
    },
    {
     "data": {
      "application/vnd.jupyter.widget-view+json": {
       "model_id": "9dd93a7ceb01415291047a9bb6a23d91",
       "version_major": 2,
       "version_minor": 0
      },
      "text/plain": [
       "0it [00:00, ?it/s]"
      ]
     },
     "metadata": {},
     "output_type": "display_data"
    },
    {
     "data": {
      "application/vnd.jupyter.widget-view+json": {
       "model_id": "4fcfeae97c564a95bb74ec0f2342bd8a",
       "version_major": 2,
       "version_minor": 0
      },
      "text/plain": [
       "0it [00:00, ?it/s]"
      ]
     },
     "metadata": {},
     "output_type": "display_data"
    },
    {
     "data": {
      "application/vnd.jupyter.widget-view+json": {
       "model_id": "d2107cd6119f4c179c46a7a1d2bf8fd3",
       "version_major": 2,
       "version_minor": 0
      },
      "text/plain": [
       "0it [00:00, ?it/s]"
      ]
     },
     "metadata": {},
     "output_type": "display_data"
    },
    {
     "data": {
      "application/vnd.jupyter.widget-view+json": {
       "model_id": "04460a7e48e04cd6bb75b2a36b37ec81",
       "version_major": 2,
       "version_minor": 0
      },
      "text/plain": [
       "0it [00:00, ?it/s]"
      ]
     },
     "metadata": {},
     "output_type": "display_data"
    },
    {
     "data": {
      "application/vnd.jupyter.widget-view+json": {
       "model_id": "a12d848f55ec458299882b22aa06aefe",
       "version_major": 2,
       "version_minor": 0
      },
      "text/plain": [
       "0it [00:00, ?it/s]"
      ]
     },
     "metadata": {},
     "output_type": "display_data"
    },
    {
     "data": {
      "application/vnd.jupyter.widget-view+json": {
       "model_id": "58075f1eeb6e428a95cec4f3818b95d9",
       "version_major": 2,
       "version_minor": 0
      },
      "text/plain": [
       "0it [00:00, ?it/s]"
      ]
     },
     "metadata": {},
     "output_type": "display_data"
    },
    {
     "data": {
      "application/vnd.jupyter.widget-view+json": {
       "model_id": "b3c416e83b544c3ab7a18efba3514f9e",
       "version_major": 2,
       "version_minor": 0
      },
      "text/plain": [
       "0it [00:00, ?it/s]"
      ]
     },
     "metadata": {},
     "output_type": "display_data"
    },
    {
     "data": {
      "application/vnd.jupyter.widget-view+json": {
       "model_id": "9d956fc180ed44db8ab21ebf7d40d876",
       "version_major": 2,
       "version_minor": 0
      },
      "text/plain": [
       "0it [00:00, ?it/s]"
      ]
     },
     "metadata": {},
     "output_type": "display_data"
    },
    {
     "data": {
      "application/vnd.jupyter.widget-view+json": {
       "model_id": "9cc360231ce24a4a86f96ed1f81410c8",
       "version_major": 2,
       "version_minor": 0
      },
      "text/plain": [
       "0it [00:00, ?it/s]"
      ]
     },
     "metadata": {},
     "output_type": "display_data"
    },
    {
     "data": {
      "application/vnd.jupyter.widget-view+json": {
       "model_id": "85f23ce8bb2c4aebb4c273777c9e489d",
       "version_major": 2,
       "version_minor": 0
      },
      "text/plain": [
       "0it [00:00, ?it/s]"
      ]
     },
     "metadata": {},
     "output_type": "display_data"
    }
   ],
   "source": [
    "html = \"<table>\\n\"\n",
    "html += \"<tr><td>prompt</td>\"\n",
    "for i in indices:\n",
    "    html += f\"<td>{i}</td>\"\n",
    "html += \"<td>1024</td></tr>\\n\"\n",
    "for prompt1, prompt2 in prompt_pairs:\n",
    "    for i in tqdm(range(2), total=2):\n",
    "        sampler.experiment2_indices = None\n",
    "        os.environ['EXPERIMENT2_DIR'] = build_experiment_dir(prompt1, prompt2, experimental1_t, i)\n",
    "        samples = None\n",
    "        for x in tqdm(sampler.sample_batch_progressive(batch_size=2, model_kwargs=dict(texts=[prompt1.replace(\"_\", \" \"), prompt2.replace(\"_\", \" \")]))):\n",
    "            samples = x\n",
    "        for j in indices:\n",
    "            # selected_indices_path = os.path.join(os.environ[\"EXPERIMENT2_DIR\"], \"selected_indices.txt\")\n",
    "            # if not os.path.exists(selected_indices_path):\n",
    "            #     continue\n",
    "            # experiment2_indices = np.loadtxt(selected_indices_path, dtype=int)\n",
    "            experiment2_indices = list(range(j))\n",
    "            # ply_path = os.path.join(os.environ[\"EXPERIMENT2_DIR\"].replace(\"experiment2\", \"experiment2_objs\"), \"1.ply\")\n",
    "            # pc = PointCloud.from_ply(ply_path)\n",
    "            # pc.set_color_by_indices(experiment2_indices)\n",
    "            # fig = plot_point_cloud(pc)\n",
    "            # path = os.path.join(os.getenv(\"EXPERIMENT2_DIR\"), f\"1_selected_{j}.png\")\n",
    "            # fig.savefig(path)\n",
    "            # plt.close()\n",
    "            sampler.experiment2_indices = experiment2_indices\n",
    "            samples = None\n",
    "            for x in tqdm(sampler.sample_batch_progressive(batch_size=2, model_kwargs=dict(texts=[prompt1.replace(\"_\", \" \"), prompt2.replace(\"_\", \" \")]))):\n",
    "                samples = x\n",
    "        html += f\"<tr><td>{prompt1}</td>\"\n",
    "        for j in indices:\n",
    "            html += f\"<td><img src=\\\"{os.path.join(os.getenv('EXPERIMENT2_DIR'), f'0_{j}.png')}\\\"></td>\"\n",
    "        html += f\"<td><img src=\\\"{os.path.join(os.getenv('EXPERIMENT2_DIR'), f'0.png')}\\\"></td></tr>\\n\"\n",
    "        html += f\"<tr><td>{prompt2}</td>\"\n",
    "        for j in indices:\n",
    "            html += f\"<td><img src=\\\"{os.path.join(os.getenv('EXPERIMENT2_DIR'), f'1_{j}.png')}\\\"></td>\"\n",
    "        html += f\"<td><img src=\\\"{os.path.join(os.getenv('EXPERIMENT2_DIR'), f'1.png')}\\\"></td></tr>\\n\"\n",
    "        html += f\"<tr><td>{prompt1}</td>\"\n",
    "        for j in indices:\n",
    "            html += f\"<td><img src=\\\"{os.path.join(os.getenv('EXPERIMENT2_DIR'), f'0_{j}_colormap.png')}\\\"></td>\"\n",
    "        html += f\"<td><img src=\\\"{os.path.join(os.getenv('EXPERIMENT2_DIR'), f'0_colormap.png')}\\\"></td></tr>\\n\"\n",
    "        html += f\"<tr><td>{prompt2}</td>\"\n",
    "        for j in indices:\n",
    "            html += f\"<td><img src=\\\"{os.path.join(os.getenv('EXPERIMENT2_DIR'), f'1_{j}_colormap.png')}\\\"></td>\"\n",
    "        html += f\"<td><img src=\\\"{os.path.join(os.getenv('EXPERIMENT2_DIR'), f'1_colormap.png')}\\\"></td></tr>\\n\"\n",
    "        # html += f\"<tr><td>{prompt2} selected</td>\"\n",
    "        # for j in indices:\n",
    "        #     html += f\"<td><img src=\\\"{os.path.join(os.getenv('EXPERIMENT2_DIR'), f'1_selected_{j}.png')}\\\"></td>\"\n",
    "        # html += f\"<td></td></tr>\\n\"\n",
    "html += \"</table>\"\n",
    "with open(\"index.html\", \"w\") as f:\n",
    "    f.write(html)\n"
   ]
  }
 ],
 "metadata": {
  "kernelspec": {
   "display_name": "Python 3.9.9 64-bit ('3.9.9')",
   "language": "python",
   "name": "python3"
  },
  "language_info": {
   "codemirror_mode": {
    "name": "ipython",
    "version": 3
   },
   "file_extension": ".py",
   "mimetype": "text/x-python",
   "name": "python",
   "nbconvert_exporter": "python",
   "pygments_lexer": "ipython3",
   "version": "3.10.14"
  },
  "orig_nbformat": 4,
  "vscode": {
   "interpreter": {
    "hash": "b270b0f43bc427bcab7703c037711644cc480aac7c1cc8d2940cfaf0b447ee2e"
   }
  }
 },
 "nbformat": 4,
 "nbformat_minor": 2
}
